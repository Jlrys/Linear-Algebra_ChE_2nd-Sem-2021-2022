{
  "cells": [
    {
      "cell_type": "markdown",
      "metadata": {
        "id": "view-in-github",
        "colab_type": "text"
      },
      "source": [
        "<a href=\"https://colab.research.google.com/github/Jlrys/Linear-Algebra_ChE_2nd-Sem-2021-2022/blob/main/Activity%205_Linear%20Combination%20and%20Vector%20Spaces.ipynb\" target=\"_parent\"><img src=\"https://colab.research.google.com/assets/colab-badge.svg\" alt=\"Open In Colab\"/></a>"
      ]
    },
    {
      "cell_type": "markdown",
      "metadata": {
        "id": "SyuptG1anqE1"
      },
      "source": [
        "# Linear Algebra for ChE"
      ]
    },
    {
      "cell_type": "markdown",
      "metadata": {
        "id": "4iA_e6njntcN"
      },
      "source": [
        "## Laboratory 10 : Linear Combination and Vector Spaces"
      ]
    },
    {
      "cell_type": "markdown",
      "metadata": {
        "id": "fsyPbdY7oDFQ"
      },
      "source": [
        "We'll try to depict linear combination using scientific programming now that you have a fundamental knowledge of it."
      ]
    },
    {
      "cell_type": "markdown",
      "source": [
        "### Objectives\n",
        "At the end of this activity you will be able to:\n",
        "1. Understand how to represent linear combinations in two dimensions.\n",
        "2. Use vector fields to visualize spans using Python.\n",
        "3. Perform vector fields operations using scientific programming."
      ],
      "metadata": {
        "id": "ZoJjOvrXFq2P"
      }
    },
    {
      "cell_type": "markdown",
      "metadata": {
        "id": "nibMSGrroHq7"
      },
      "source": [
        "##Discussion"
      ]
    },
    {
      "cell_type": "code",
      "execution_count": null,
      "metadata": {
        "id": "vSBrVJsin0oF"
      },
      "outputs": [],
      "source": [
        "import numpy as np\n",
        "import matplotlib.pyplot as plt\n",
        "%matplotlib inline"
      ]
    },
    {
      "cell_type": "markdown",
      "source": [
        "## Linear Combination\n",
        "A linear combination is defined as the combination of linear scaling and addition of a vector's bases/components. We shall see vectors and their linear combinations by charting a sample of real number values for the scalars. Let's start with the following vectors:\n",
        "$$\n",
        "J = \\begin{bmatrix} 1\\\\7\\\\\\end{bmatrix} , \n",
        "K = \\begin{bmatrix} 3\\\\9\\\\\\end{bmatrix} \n",
        "$$"
      ],
      "metadata": {
        "id": "9pbEiMzTFz5M"
      }
    },
    {
      "cell_type": "code",
      "execution_count": null,
      "metadata": {
        "id": "kEF9EnsXoZwY"
      },
      "outputs": [],
      "source": [
        "vectJ = np.array([1,7])\n",
        "vectK = np.array([3,9])\n"
      ]
    },
    {
      "cell_type": "markdown",
      "source": [
        "#### Span of single vectors\n",
        "A line span may be used to represent the span of individual vectors, as mentioned in the lecture. As an example, consider vector $J$. \n",
        "\n",
        "$$\n",
        "J = c\\cdot \\begin{bmatrix} 1\\\\7\\\\\\end{bmatrix}\n",
        "$$"
      ],
      "metadata": {
        "id": "R4dJrLJHGT2D"
      }
    },
    {
      "cell_type": "code",
      "source": [
        "c = np.arange(-10,10,0.125)\n",
        "\n",
        "plt.scatter(c*vectJ[0],c*vectJ[1])\n",
        "\n",
        "plt.xlim(-10,10)\n",
        "plt.ylim(-10,10)\n",
        "plt.axhline(y=0, color='k')\n",
        "plt.axvline(x=0, color='k')\n",
        "plt.grid()\n",
        "plt.show()"
      ],
      "metadata": {
        "colab": {
          "base_uri": "https://localhost:8080/",
          "height": 269
        },
        "id": "efgvJILPG7gw",
        "outputId": "7d98a00c-0288-4074-fb78-c800f5aeb676"
      },
      "execution_count": null,
      "outputs": [
        {
          "output_type": "display_data",
          "data": {
            "text/plain": [
              "<Figure size 432x288 with 1 Axes>"
            ],
            "image/png": "[encoded data removed]"
          },
          "metadata": {
            "needs_background": "light"
          }
        }
      ]
    },
    {
      "cell_type": "code",
      "source": [
        "c = np.arange(-15,15,0.5)\n",
        "\n",
        "plt.scatter(c*vectK[0],c*vectK[1])\n",
        "\n",
        "plt.xlim(-20,20)\n",
        "plt.ylim(-20,20)\n",
        "plt.axhline(y=0, color='k')\n",
        "plt.axvline(x=0, color='k')\n",
        "plt.grid()\n",
        "plt.show()"
      ],
      "metadata": {
        "colab": {
          "base_uri": "https://localhost:8080/",
          "height": 269
        },
        "id": "LaNA63krG-FK",
        "outputId": "25416407-1f91-4033-f650-bb76c823c42a"
      },
      "execution_count": null,
      "outputs": [
        {
          "output_type": "display_data",
          "data": {
            "text/plain": [
              "<Figure size 432x288 with 1 Axes>"
            ],
            "image/png": "[encoded data removed]"
          },
          "metadata": {
            "needs_background": "light"
          }
        }
      ]
    },
    {
      "cell_type": "markdown",
      "source": [
        "### Span of a linear combination of vectors\n",
        "So, what if we wanted to plot the span of a linear vector combination? On a two-dimensional coordinate system, we can represent it as a plane. Consider the following linear combination's span:\n",
        "\n",
        "$$\n",
        "S = \\begin{Bmatrix}\n",
        "      c_1 \\cdot\\begin{bmatrix} 4\\\\8\\\\\\end{bmatrix},\n",
        "      c_2 \\cdot \\begin{bmatrix} -3\\\\7 \\\\\\end{bmatrix}\n",
        "  \\end{Bmatrix}\n",
        "$$\n"
      ],
      "metadata": {
        "id": "G3vQScChHK28"
      }
    },
    {
      "cell_type": "code",
      "source": [
        "vectP = np.array([4,8])\n",
        "vectR = np.array([-3,7])\n",
        "\n",
        "O = np.arange(-5,5,0.5)\n",
        "\n",
        "c1, c2 = np.meshgrid(O,O)\n",
        "\n",
        "vectO = vectP + vectR\n",
        "spanOx = c1*vectP[0] + c2*vectR[0]\n",
        "spanOy = c1*vectP[1] + c2*vectR[1]\n",
        "##plt.scatter(R*vectA[0],R*vectA[1])\n",
        "##plt.scatter(R*vectB[0],R*vectB[1])\n",
        "plt.scatter(spanOx,spanOy, s=5, alpha=0.75)\n",
        "\n",
        "plt.axhline(y=0, color='k')\n",
        "plt.axvline(x=0, color='k')\n",
        "plt.grid()\n",
        "plt.show()"
      ],
      "metadata": {
        "colab": {
          "base_uri": "https://localhost:8080/",
          "height": 265
        },
        "id": "OysOoJNhH1cy",
        "outputId": "87602203-2147-4b2f-9bdb-d19dc1d9e80c"
      },
      "execution_count": null,
      "outputs": [
        {
          "output_type": "display_data",
          "data": {
            "text/plain": [
              "<Figure size 432x288 with 1 Axes>"
            ],
            "image/png": "[encoded data removed]"
          },
          "metadata": {
            "needs_background": "light"
          }
        }
      ]
    },
    {
      "cell_type": "code",
      "source": [
        "vectL = np.array([2,-1])\n",
        "vectB = np.array([4,-5])\n",
        "\n",
        "R = np.arange(-8,8,0.8)\n",
        "\n",
        "c1, c2 = np.meshgrid(R,R)\n",
        "\n",
        "vectR = vectL + vectB\n",
        "spanRx = c1*vectL[0] + c2*vectB[0]\n",
        "spanRy = c1*vectL[1] + c2*vectB[1]\n",
        "##plt.scatter(R*vectA[0],R*vectA[1])\n",
        "##plt.scatter(R*vectB[0],R*vectB[1])\n",
        "plt.scatter(spanRx,spanRy, s=5, alpha=0.75)\n",
        "\n",
        "plt.axhline(y=0, color='k')\n",
        "plt.axvline(x=0, color='k')\n",
        "plt.grid()\n",
        "plt.show()"
      ],
      "metadata": {
        "colab": {
          "base_uri": "https://localhost:8080/",
          "height": 265
        },
        "id": "VWQz2MP8H4ZE",
        "outputId": "49aaec49-86a9-4ce4-8cf4-496f94462555"
      },
      "execution_count": null,
      "outputs": [
        {
          "output_type": "display_data",
          "data": {
            "text/plain": [
              "<Figure size 432x288 with 1 Axes>"
            ],
            "image/png": "[encoded data removed]"
          },
          "metadata": {
            "needs_background": "light"
          }
        }
      ]
    },
    {
      "cell_type": "markdown",
      "source": [
        "Keep in mind that if we look of vectors as a 2-dimensional span, we may say they have a Rank of 2 or $\\mathbb{R}^2$.hey are said to be linearly dependent and have a rank of 1 or $\\mathbb{R}^1$ if the span of the linear combination of vectors looks like a line."
      ],
      "metadata": {
        "id": "bTddaupsIB1y"
      }
    },
    {
      "cell_type": "markdown",
      "source": [
        "# Activity"
      ],
      "metadata": {
        "id": "oH6UNwmIIKbz"
      }
    },
    {
      "cell_type": "markdown",
      "source": [
        "### Task 1\n",
        "Try different linear combinations using different scalar values. In your methodology discuss the different functions that you have used, the  linear equation and vector form of the linear combination, and the flowchart for declaring and displaying linear combinations. Please make sure that your flowchart has only few words and not putting the entire code as it is bad practice. In your results, display and discuss the linear combination visualization you made. You should use the cells below for displaying the equation markdows using LaTeX and your code."
      ],
      "metadata": {
        "id": "uz8Yz-VeIQCN"
      }
    },
    {
      "cell_type": "markdown",
      "source": [
        "$$\n",
        "J = 4x - 10y\n",
        "$$\n",
        "$$\n",
        "R = -2x -4y\n",
        "$$\n",
        "   \n"
      ],
      "metadata": {
        "id": "Qx-RWxSqIdjl"
      }
    },
    {
      "cell_type": "markdown",
      "source": [
        "$$\n",
        "J = \\begin{bmatrix} 4\\\\-10\\\\\\end{bmatrix} , \n",
        "R = \\begin{bmatrix} -2\\\\-4\\\\\\end{bmatrix} \n",
        "$$"
      ],
      "metadata": {
        "id": "PdgYWASDInH0"
      }
    },
    {
      "cell_type": "markdown",
      "source": [
        "$$\n",
        "j = c\\cdot \\begin{bmatrix} 4\\\\-10\\\\\\end{bmatrix}\n",
        "$$\n",
        "\n",
        "$$\n",
        "r = c\\cdot \\begin{bmatrix} -2\\\\-4\\\\\\end{bmatrix}\n",
        "$$"
      ],
      "metadata": {
        "id": "CiRkfdhBmKYR"
      }
    },
    {
      "cell_type": "code",
      "source": [
        "vectJ = np.array([4,-10])\n",
        "vectR = np.array([-2,-4])\n",
        "\n",
        "c = np.arange(-20,10,0.25)\n",
        "\n",
        "plt.scatter(c*vectJ[0],c*vectJ[1])\n",
        "\n",
        "plt.xlim(-15,15)\n",
        "plt.ylim(-15,15)\n",
        "plt.axhline(y=0, color='red')\n",
        "plt.axvline(x=0, color='red')\n",
        "plt.grid()\n",
        "plt.show()"
      ],
      "metadata": {
        "id": "k1Pobh6UIJum",
        "colab": {
          "base_uri": "https://localhost:8080/",
          "height": 269
        },
        "outputId": "1f9a7e9b-999b-4f23-a2f4-717f107af8c9"
      },
      "execution_count": null,
      "outputs": [
        {
          "output_type": "display_data",
          "data": {
            "text/plain": [
              "<Figure size 432x288 with 1 Axes>"
            ],
            "image/png": "[encoded data removed]"
          },
          "metadata": {
            "needs_background": "light"
          }
        }
      ]
    },
    {
      "cell_type": "code",
      "source": [
        "vectJ = np.array([4,-10])\n",
        "vectR = np.array([-2,-4])\n",
        "\n",
        "c = np.arange(-35,25,0.5)\n",
        "\n",
        "plt.scatter(c*vectR[0],c*vectR[1])\n",
        "\n",
        "plt.xlim(-20,20)\n",
        "plt.ylim(-20,20)\n",
        "plt.axhline(y=0, color='red')\n",
        "plt.axvline(x=0, color='red')\n",
        "plt.grid()\n",
        "plt.show()"
      ],
      "metadata": {
        "colab": {
          "base_uri": "https://localhost:8080/",
          "height": 269
        },
        "id": "T3sm_DTbn4dv",
        "outputId": "b9c1e3ae-3094-452c-8ac9-03d7c05701fc"
      },
      "execution_count": null,
      "outputs": [
        {
          "output_type": "display_data",
          "data": {
            "text/plain": [
              "<Figure size 432x288 with 1 Axes>"
            ],
            "image/png": "[encoded data removed]"
          },
          "metadata": {
            "needs_background": "light"
          }
        }
      ]
    },
    {
      "cell_type": "markdown",
      "source": [
        "$$\n",
        "K = -7x - 6y\n",
        "$$\n",
        "$$\n",
        "P = -3x + 6y\n",
        "$$\n",
        "   "
      ],
      "metadata": {
        "id": "XplhKjE7oXN8"
      }
    },
    {
      "cell_type": "markdown",
      "source": [
        "$$\n",
        "S = \\begin{Bmatrix}\n",
        "      c_1 \\cdot\\begin{bmatrix} -7\\\\-6\\\\\\end{bmatrix},\n",
        "      c_2 \\cdot \\begin{bmatrix} -3\\\\6 \\\\\\end{bmatrix}\n",
        "  \\end{Bmatrix}\n",
        "$$"
      ],
      "metadata": {
        "id": "dSbZ1b1motji"
      }
    },
    {
      "cell_type": "code",
      "source": [
        "vectK = np.array([-7,-6])\n",
        "vectP = np.array([-3,6])\n",
        "\n",
        "R = np.arange(-15,15,1)\n",
        "\n",
        "c1, c2 = np.meshgrid(R,R)\n",
        "\n",
        "vectR = vectK + vectP\n",
        "spanRx = c1*vectK[0] + c2*vectP[0]\n",
        "spanRy = c1*vectK[1] + c2*vectP[1]\n",
        "plt.scatter(spanRx,spanRy, s=5, alpha=1)\n",
        "\n",
        "plt.axhline(y=0, color='Green')\n",
        "plt.axvline(x=0, color='Green')\n",
        "plt.grid()\n",
        "plt.show()\n"
      ],
      "metadata": {
        "colab": {
          "base_uri": "https://localhost:8080/",
          "height": 265
        },
        "id": "QKHpb6L8pLkY",
        "outputId": "9fffd836-837c-46e7-d0db-a235597be730"
      },
      "execution_count": null,
      "outputs": [
        {
          "output_type": "display_data",
          "data": {
            "text/plain": [
              "<Figure size 432x288 with 1 Axes>"
            ],
            "image/png": "[encoded data removed]"
          },
          "metadata": {
            "needs_background": "light"
          }
        }
      ]
    },
    {
      "cell_type": "markdown",
      "source": [
        "## Conclusion guide\n",
        "For your conclusion synthesize the concept and application of the laboratory. Briefly discuss what you have learn and achieved in this activity. At the end of your conclusion try to answer the question : \\\"How can you apply the concept of linear combination in engineering or real-life situations?\\\"."
      ],
      "metadata": {
        "id": "8rngVyZtIw8S"
      }
    },
    {
      "cell_type": "markdown",
      "source": [
        "Through the help of the NumPy library, we were able to perform vector field operations and use it to visualize pans using Python programming language. In this activity, the students understand how to represent linear combinations in two dimensions. With the acquired knowledge and understanding of Linear Combinations and Vectors space, the students were able to utilize it in completing task 1. By exploring and trying various combinations of numbers, the students were able to understand the different functions used in this activity.\n",
        "Since Linear combination is a method used to solve a system of linear equations - it is the technique of combining two algebraic equations to eliminate one of the variables. Having said that, almost every circumstance involving an unknown number, such as estimating revenue over time, calculating speed, distance, or time, calculating mileage rates, or projecting profit, may be expressed by a linear equation..\n"
      ],
      "metadata": {
        "id": "ZTdxK9fm74UG"
      }
    }
  ],
  "metadata": {
    "colab": {
      "name": "Assignment 10.ipynb",
      "provenance": [],
      "collapsed_sections": [],
      "authorship_tag": "ABX9TyMVdIS56Q7psORdfZ6xSB1R",
      "include_colab_link": true
    },
    "kernelspec": {
      "display_name": "Python 3",
      "name": "python3"
    },
    "language_info": {
      "name": "python"
    }
  },
  "nbformat": 4,
  "nbformat_minor": 0
}
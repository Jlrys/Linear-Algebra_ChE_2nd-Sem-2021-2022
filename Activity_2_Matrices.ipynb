{
  "nbformat": 4,
  "nbformat_minor": 0,
  "metadata": {
    "colab": {
      "name": "Assignment4.ipynb",
      "provenance": [],
      "collapsed_sections": [],
      "include_colab_link": true
    },
    "kernelspec": {
      "name": "python3",
      "display_name": "Python 3"
    },
    "language_info": {
      "name": "python"
    }
  },
  "cells": [
    {
      "cell_type": "markdown",
      "metadata": {
        "id": "view-in-github",
        "colab_type": "text"
      },
      "source": [
        "<a href=\"https://colab.research.google.com/github/Jlrys/Linear-Algebra_ChE_2nd-Sem-2021-2022/blob/main/Activity_2_Matrices.ipynb\" target=\"_parent\"><img src=\"https://colab.research.google.com/assets/colab-badge.svg\" alt=\"Open In Colab\"/></a>"
      ]
    },
    {
      "cell_type": "markdown",
      "source": [
        "#Linear Algebra for ChE"
      ],
      "metadata": {
        "id": "gnKbD4cE1Ptx"
      }
    },
    {
      "cell_type": "markdown",
      "source": [
        "##Laboratory 4: Matrices\n",
        "Now that you have a fundamental knowledge about Python, we'll try to look into greater dimensions. "
      ],
      "metadata": {
        "id": "b_r6-4CK1Z4n"
      }
    },
    {
      "cell_type": "markdown",
      "source": [
        "### Objectives\n",
        "At the end of this activity you will be able to:\n",
        "1. Calculate the basic operations of matrices and their relation to linear equations using the Google Colab.\n",
        "2. Utilize basic matrix operations.\n",
        "3. Run the program and transcribe the matrix equation and operations using Python.\n",
        "\n"
      ],
      "metadata": {
        "id": "cANPWHZCLKF7"
      }
    },
    {
      "cell_type": "markdown",
      "source": [
        "#Discussion"
      ],
      "metadata": {
        "id": "ta4GlAWKLRD2"
      }
    },
    {
      "cell_type": "code",
      "source": [
        "import numpy as np\n",
        "import matplotlib.pyplot as plt\n",
        "import scipy.linalg as la\n",
        "%matplotlib inline\n"
      ],
      "metadata": {
        "id": "5L9f3ncjLXsW"
      },
      "execution_count": null,
      "outputs": []
    },
    {
      "cell_type": "markdown",
      "source": [
        "##Matrices"
      ],
      "metadata": {
        "id": "aIDMUvXRLhPB"
      }
    },
    {
      "cell_type": "markdown",
      "source": [
        "The notation and use of matrices is probably one of the fundamentals of modern computing. Matrices are also handy representations of complex equations or multiple inter-related equations from 2-dimensional equations to even hundreds and thousands of them.\n",
        "\n",
        "Let's say for example you have  and  as system of equation."
      ],
      "metadata": {
        "id": "cQ61-VovLuq7"
      }
    },
    {
      "cell_type": "markdown",
      "source": [
        "$$\n",
        "A = \\left\\{\n",
        "    \\begin{array}\\\n",
        "        x + y \\\\ \n",
        "        4x - 10y\n",
        "    \\end{array}\n",
        "\\right. \\\\\n",
        "B = \\left\\{\n",
        "    \\begin{array}\\\n",
        "        x+y+z \\\\ \n",
        "        3x -2y -z \\\\\n",
        "        -x + 4y +2z\n",
        "    \\end{array}\n",
        "\\right. \\\\\n",
        "C = \\left\\{\n",
        "    \\begin{array}\\\n",
        "        w-2x+3y-4z \\\\\n",
        "        3w-x-2y+z \\\\\n",
        "        2w-x+3y-2z \\\\\n",
        "    \\end{array}\n",
        "\\right. \\\\\n",
        "$$\n"
      ],
      "metadata": {
        "id": "r2Ss3pY7L4wC"
      }
    },
    {
      "cell_type": "markdown",
      "source": [
        "We could see that *A* is a system of 2 equations with 2 parameters. While *B* is a system of 3 equations with 3 parametes. We can represent them as matrices as:"
      ],
      "metadata": {
        "id": "ZQqATCQbNwq2"
      }
    },
    {
      "cell_type": "markdown",
      "source": [
        "$$\n",
        "A=\\begin{bmatrix} 1 & 1 \\\\ 4 & {-10}\\end{bmatrix} \\\\\n",
        "B=\\begin{bmatrix} 1 & 1 & 1 \\\\ 3 & -2 & -1 \\\\ -1 & 4 & 2\\end{bmatrix}\\\\\n",
        "C=\\begin{bmatrix} 1 & -2 & 3 & -4 \\\\ 3 & -1 & -2 & 1 \\\\ 2 & -1 & 3 & -2\\end{bmatrix}\\\\\n",
        "$$\n"
      ],
      "metadata": {
        "id": "BZME-sXaOUXe"
      }
    },
    {
      "cell_type": "markdown",
      "source": [
        "So assuming that you already discussed the fundamental representation of matrices, their types, and operations. We'll proceed in doing them in here in Python"
      ],
      "metadata": {
        "id": "3IX0JHxnPBmu"
      }
    },
    {
      "cell_type": "markdown",
      "source": [
        "##Declaring Matrices"
      ],
      "metadata": {
        "id": "WcbaF1GUPzs-"
      }
    },
    {
      "cell_type": "markdown",
      "source": [
        "Just like our previous laboratory activity, we'll represent system of linear \n",
        "equations as a matrix. The entities or numbers in matrices are called the elements of a matrix. These elements are arranged and ordered in rows and columns which form the list/array-like structure of matrices. And just like arrays, these elements are indexed according to their position with respect to their rows and columns. This can be reprsented just like the equation below. Whereas ***A*** is a matrix consisting of elements denoted by $$a_{(ij)}$$. Denoted by *i*  is the number of rows in the matrix while *j* stands for the number of columns.\n",
        "Do note that *size* the  of a matrix is *i x j*"
      ],
      "metadata": {
        "id": "zW_xtGoe2FMT"
      }
    },
    {
      "cell_type": "markdown",
      "source": [
        "$$A=\\begin{bmatrix}\n",
        "a_{(0,0)}&a_{(0,1)}&\\dots&a_{(0,j-1)}\\\\\n",
        "a_{(1,0)}&a_{(1,1)}&\\dots&a_{(1,j-1)}\\\\\n",
        "\\vdots&\\vdots&\\ddots&\\vdots&\\\\\n",
        "a_{(i-1,0)}&a_{(i-1,1)}&\\dots&a_{(i-1,j-1)}\n",
        "\\end{bmatrix}\n",
        "$$\n"
      ],
      "metadata": {
        "id": "EgX08RugP7_m"
      }
    },
    {
      "cell_type": "markdown",
      "source": [
        "We already gone over some of the types of matrices as vectors but we'll further discuss them in this laboratory activity. Since you already know how to describe vectors using **shape**, **dimensions** and **size** attributes, we'll use them to analyze these matrices."
      ],
      "metadata": {
        "id": "el-oM4Ns3kPS"
      }
    },
    {
      "cell_type": "code",
      "source": [
        "## Since we'll keep on describing matrices. Let's make a function. \n",
        "def describe_mat(matrix):\n",
        "    print(f'Matrix:\\n{matrix}\\n\\nShape:\\t{matrix.shape}\\nRank:\\t{matrix.ndim}\\n')\n"
      ],
      "metadata": {
        "id": "vS4lsBiAQXg_"
      },
      "execution_count": null,
      "outputs": []
    },
    {
      "cell_type": "code",
      "source": [
        "## Declearing a 2 x 2 matrix \n",
        "A = np.array([\n",
        "    [8,1],\n",
        "    [-1,-4]          \n",
        "])\n",
        "describe_mat(A)"
      ],
      "metadata": {
        "colab": {
          "base_uri": "https://localhost:8080/"
        },
        "id": "8B1RVTQ3QztL",
        "outputId": "37166b6c-ef52-4807-b567-bd73c3942c13"
      },
      "execution_count": null,
      "outputs": [
        {
          "output_type": "stream",
          "name": "stdout",
          "text": [
            "Matrix:\n",
            "[[ 8  1]\n",
            " [-1 -4]]\n",
            "\n",
            "Shape:\t(2, 2)\n",
            "Rank:\t2\n",
            "\n"
          ]
        }
      ]
    },
    {
      "cell_type": "code",
      "source": [
        "G = np.array([\n",
        "    [8,-3,4],\n",
        "    [5,10,-2]\n",
        "])\n",
        "describe_mat(G)\n"
      ],
      "metadata": {
        "colab": {
          "base_uri": "https://localhost:8080/"
        },
        "id": "gT7j1y3MR1hn",
        "outputId": "7da2990d-fea1-4ddc-8e61-c014022c9363"
      },
      "execution_count": null,
      "outputs": [
        {
          "output_type": "stream",
          "name": "stdout",
          "text": [
            "Matrix:\n",
            "[[ 8 -3  4]\n",
            " [ 5 10 -2]]\n",
            "\n",
            "Shape:\t(2, 3)\n",
            "Rank:\t2\n",
            "\n"
          ]
        }
      ]
    },
    {
      "cell_type": "code",
      "source": [
        "## Declearing a 3 x 2 matrix\n",
        "B = np.array([\n",
        "    [6, 0],\n",
        "    [1, 9],\n",
        "    [0, -1]\n",
        "])\n",
        "describe_mat(B)\n"
      ],
      "metadata": {
        "colab": {
          "base_uri": "https://localhost:8080/"
        },
        "id": "dkuGs1l9SaRt",
        "outputId": "e7c640c1-740b-407e-ba8e-3403c2d2b0eb"
      },
      "execution_count": null,
      "outputs": [
        {
          "output_type": "stream",
          "name": "stdout",
          "text": [
            "Matrix:\n",
            "[[ 6  0]\n",
            " [ 1  9]\n",
            " [ 0 -1]]\n",
            "\n",
            "Shape:\t(3, 2)\n",
            "Rank:\t2\n",
            "\n"
          ]
        }
      ]
    },
    {
      "cell_type": "code",
      "source": [
        "H = np.array([3,6,9,12])\n",
        "describe_mat(H)\n"
      ],
      "metadata": {
        "colab": {
          "base_uri": "https://localhost:8080/"
        },
        "id": "njct3-4qSx3y",
        "outputId": "493887bc-18e8-4f35-9ddd-22744a0cadad"
      },
      "execution_count": null,
      "outputs": [
        {
          "output_type": "stream",
          "name": "stdout",
          "text": [
            "Matrix:\n",
            "[ 3  6  9 12]\n",
            "\n",
            "Shape:\t(4,)\n",
            "Rank:\t1\n",
            "\n"
          ]
        }
      ]
    },
    {
      "cell_type": "markdown",
      "source": [
        "## Categorizing Matrices \n",
        "Matrices can be categorized in various of ways. Once might be according to their **shape** and another is according to their **element values**. We'll try to go through them."
      ],
      "metadata": {
        "id": "ECepFD6rTUeb"
      }
    },
    {
      "cell_type": "markdown",
      "source": [
        "###According to shape"
      ],
      "metadata": {
        "id": "KTLZZz7D335n"
      }
    },
    {
      "cell_type": "markdown",
      "source": [
        "###Row and Column Matrices\n",
        "Row and column matrices are common in vector and matrix computations. They can also represent row and column spaces of a bigger vector space. Row and column matrices are represented by a single column or single row. So with that being, the shape of row matrices would be 1 x *j*  and column matrices would be *i* x 1 ."
      ],
      "metadata": {
        "id": "LId2LYzOT1qX"
      }
    },
    {
      "cell_type": "code",
      "source": [
        "## Declaring a Row Matrix\n",
        "\n",
        "rowmatrix1D = np.array([\n",
        "    2, 4, -6, -8\n",
        "]) ## this is a 1-D Matrix with a shape of (3,), it's not really considered as a row matrix.\n",
        "row_mat_2D = np.array([\n",
        "    [2, 4, -6, -8]\n",
        "]) ## this is a 2-D Matrix with a shape of (1,3)\n",
        "describe_mat(rowmatrix1D)\n",
        "describe_mat(row_mat_2D)\n"
      ],
      "metadata": {
        "colab": {
          "base_uri": "https://localhost:8080/"
        },
        "id": "VFns7gavT6w5",
        "outputId": "3f542d9f-d46f-44a5-8c6d-85f790942073"
      },
      "execution_count": null,
      "outputs": [
        {
          "output_type": "stream",
          "name": "stdout",
          "text": [
            "Matrix:\n",
            "[ 2  4 -6 -8]\n",
            "\n",
            "Shape:\t(4,)\n",
            "Rank:\t1\n",
            "\n",
            "Matrix:\n",
            "[[ 2  4 -6 -8]]\n",
            "\n",
            "Shape:\t(1, 4)\n",
            "Rank:\t2\n",
            "\n"
          ]
        }
      ]
    },
    {
      "cell_type": "code",
      "source": [
        "## Describing a Column Matrix\n",
        "col_mat = np.array([\n",
        "    [3],\n",
        "    [7],\n",
        "    [10]\n",
        "]) ## this is a 2-D Matrix with a shape of (3,1)\n",
        "describe_mat(col_mat)\n"
      ],
      "metadata": {
        "colab": {
          "base_uri": "https://localhost:8080/"
        },
        "id": "RKn9vjgjUmma",
        "outputId": "8dfb069a-10af-4f15-e507-a809bc67390e"
      },
      "execution_count": null,
      "outputs": [
        {
          "output_type": "stream",
          "name": "stdout",
          "text": [
            "Matrix:\n",
            "[[ 3]\n",
            " [ 7]\n",
            " [10]]\n",
            "\n",
            "Shape:\t(3, 1)\n",
            "Rank:\t2\n",
            "\n"
          ]
        }
      ]
    },
    {
      "cell_type": "markdown",
      "source": [
        "###Square Matrices\n",
        "Matrixes with the same row and column sizes are known as square matrices. We could say a matrix is square if *i* = *j* . We can tweak our matrix descriptor function to determine square matrices."
      ],
      "metadata": {
        "id": "uxsdc1EkVQuI"
      }
    },
    {
      "cell_type": "code",
      "source": [
        "def describe_mat(matrix):\n",
        "    is_square = True if matrix.shape[0] == matrix.shape[1] else False \n",
        "    print(f'Matrix:\\n{matrix}\\n\\nShape:\\t{matrix.shape}\\nRank:\\t{matrix.ndim}\\nIs Square: {is_square}\\n')\n"
      ],
      "metadata": {
        "id": "M1cppQagVW2h"
      },
      "execution_count": null,
      "outputs": []
    },
    {
      "cell_type": "code",
      "source": [
        "square_mat = np.array([\n",
        "    [-1,2,3],\n",
        "    [4,-5,6],\n",
        "    [7,8,-9]\n",
        "])\n",
        "\n",
        "non_square_mat = np.array([\n",
        "    [1,-8,-9],\n",
        "    [-7,-3,8]\n",
        "])\n",
        "describe_mat(square_mat)\n",
        "describe_mat(non_square_mat)\n"
      ],
      "metadata": {
        "colab": {
          "base_uri": "https://localhost:8080/"
        },
        "id": "13vgpNlJVgVj",
        "outputId": "d77eefbc-ebe7-4ace-d1ba-7ec0f991866f"
      },
      "execution_count": null,
      "outputs": [
        {
          "output_type": "stream",
          "name": "stdout",
          "text": [
            "Matrix:\n",
            "[[-1  2  3]\n",
            " [ 4 -5  6]\n",
            " [ 7  8 -9]]\n",
            "\n",
            "Shape:\t(3, 3)\n",
            "Rank:\t2\n",
            "\n",
            "Matrix:\n",
            "[[ 1 -8 -9]\n",
            " [-7 -3  8]]\n",
            "\n",
            "Shape:\t(2, 3)\n",
            "Rank:\t2\n",
            "\n"
          ]
        }
      ]
    },
    {
      "cell_type": "markdown",
      "source": [
        "###According to element values"
      ],
      "metadata": {
        "id": "758dLuiM4zFC"
      }
    },
    {
      "cell_type": "markdown",
      "source": [
        "###Null Matrix\n",
        "A Null Matrix is a matrix that has no elements. It is always a subspace of any vector or matrix."
      ],
      "metadata": {
        "id": "mzloXYz7WRIZ"
      }
    },
    {
      "cell_type": "code",
      "source": [
        "def describe_mat(matrix):\n",
        "    if matrix.size > 0:\n",
        "        is_square = True if matrix.shape[0] == matrix.shape[1] else False \n",
        "        print(f'Matrix:\\n{matrix}\\n\\nShape:\\t{matrix.shape}\\nRank:\\t{matrix.ndim}\\nIs Square: {is_square}\\n')\n",
        "    else:\n",
        "        print('Matrix is Null')\n"
      ],
      "metadata": {
        "id": "suWzksrdWXn3"
      },
      "execution_count": null,
      "outputs": []
    },
    {
      "cell_type": "code",
      "source": [
        "null_mat = np.array([])\n",
        "describe_mat(null_mat)\n"
      ],
      "metadata": {
        "colab": {
          "base_uri": "https://localhost:8080/"
        },
        "id": "hxmrkbDCWdsE",
        "outputId": "0870f56c-2d39-4908-e138-898fb1b7a7a8"
      },
      "execution_count": null,
      "outputs": [
        {
          "output_type": "stream",
          "name": "stdout",
          "text": [
            "Matrix is Null\n"
          ]
        }
      ]
    },
    {
      "cell_type": "markdown",
      "source": [
        "###Zero Matrix\n",
        "A zero matrix can be any rectangular matrix with a value of 0 for all elements.\n"
      ],
      "metadata": {
        "id": "3tb1TteYXRC5"
      }
    },
    {
      "cell_type": "code",
      "source": [
        "zero_mat_row = np.zeros((1,2))\n",
        "zero_mat_sqr = np.zeros((2,2))\n",
        "zero_mat_rct = np.zeros((3,2))\n",
        "\n",
        "print(f'Zero Row Matrix: \\n{zero_mat_row}')\n",
        "print(f'Zero Square Matrix: \\n{zero_mat_sqr}')\n",
        "print(f'Zero Rectangular Matrix: \\n{zero_mat_rct}')\n"
      ],
      "metadata": {
        "colab": {
          "base_uri": "https://localhost:8080/"
        },
        "id": "hhDvwTJhXUVq",
        "outputId": "d5f5f1f0-4aa9-4855-e00c-93ee872ef142"
      },
      "execution_count": null,
      "outputs": [
        {
          "output_type": "stream",
          "name": "stdout",
          "text": [
            "Zero Row Matrix: \n",
            "[[0. 0.]]\n",
            "Zero Square Matrix: \n",
            "[[0. 0.]\n",
            " [0. 0.]]\n",
            "Zero Rectangular Matrix: \n",
            "[[0. 0.]\n",
            " [0. 0.]\n",
            " [0. 0.]]\n"
          ]
        }
      ]
    },
    {
      "cell_type": "markdown",
      "source": [
        "###Ones Matrix\n",
        "A ones matrix, like a zero matrix, can be any rectangular matrix with 1s instead of 0s in all of its elements."
      ],
      "metadata": {
        "id": "hk1d1nm2Xp-3"
      }
    },
    {
      "cell_type": "code",
      "source": [
        "ones_mat_row = np.ones((1,2))\n",
        "ones_mat_sqr = np.ones((2,2))\n",
        "ones_mat_rct = np.ones((3,2))\n",
        "\n",
        "print(f'Ones Row Matrix: \\n{ones_mat_row}')\n",
        "print(f'Ones Square Matrix: \\n{ones_mat_sqr}')\n",
        "print(f'Ones Rectangular Matrix: \\n{ones_mat_rct}')\n"
      ],
      "metadata": {
        "colab": {
          "base_uri": "https://localhost:8080/"
        },
        "id": "mMap7ZKeXuzp",
        "outputId": "40730856-b0b5-4802-a06b-6d8d14a65ec0"
      },
      "execution_count": null,
      "outputs": [
        {
          "output_type": "stream",
          "name": "stdout",
          "text": [
            "Ones Row Matrix: \n",
            "[[1. 1.]]\n",
            "Ones Square Matrix: \n",
            "[[1. 1.]\n",
            " [1. 1.]]\n",
            "Ones Rectangular Matrix: \n",
            "[[1. 1.]\n",
            " [1. 1.]\n",
            " [1. 1.]]\n"
          ]
        }
      ]
    },
    {
      "cell_type": "markdown",
      "source": [
        "###Diagonal Matrix\n",
        "A diagonal matrix is a square matrix that has values only at the diagonal of the matrix."
      ],
      "metadata": {
        "id": "EMTlEEKyX9L6"
      }
    },
    {
      "cell_type": "code",
      "source": [
        "np.array([\n",
        "    [2,0,0],\n",
        "    [0,8,0],\n",
        "    [0,0,-15]\n",
        "])\n",
        "# a[1,1], a[2,2], a[3,3], ... a[n-1,n-1]"
      ],
      "metadata": {
        "colab": {
          "base_uri": "https://localhost:8080/"
        },
        "id": "Wn6u1Hj3YAu2",
        "outputId": "3bce04e4-bc8f-4b60-aa75-cb606b7025ac"
      },
      "execution_count": null,
      "outputs": [
        {
          "output_type": "execute_result",
          "data": {
            "text/plain": [
              "array([[  2,   0,   0],\n",
              "       [  0,   8,   0],\n",
              "       [  0,   0, -15]])"
            ]
          },
          "metadata": {},
          "execution_count": 29
        }
      ]
    },
    {
      "cell_type": "code",
      "source": [
        "d = np.diag([1,-9,-4,1])\n",
        "#d.shape[0] == d.shape[1]\n",
        "d"
      ],
      "metadata": {
        "colab": {
          "base_uri": "https://localhost:8080/"
        },
        "id": "-togdGZvYMSM",
        "outputId": "1d08997a-dbfd-460c-a2ae-d29218605719"
      },
      "execution_count": null,
      "outputs": [
        {
          "output_type": "execute_result",
          "data": {
            "text/plain": [
              "array([[ 1,  0,  0,  0],\n",
              "       [ 0, -9,  0,  0],\n",
              "       [ 0,  0, -4,  0],\n",
              "       [ 0,  0,  0,  1]])"
            ]
          },
          "metadata": {},
          "execution_count": 31
        }
      ]
    },
    {
      "cell_type": "markdown",
      "source": [
        "###Identity Matrix\n",
        "An identity matrix is a special diagonal matrix in which the values at the diagonal are ones."
      ],
      "metadata": {
        "id": "s4myOfIkYz02"
      }
    },
    {
      "cell_type": "code",
      "source": [
        "np.eye(3)"
      ],
      "metadata": {
        "colab": {
          "base_uri": "https://localhost:8080/"
        },
        "id": "90kUar8rY4pY",
        "outputId": "8063445e-db12-4191-a396-4d83a872632a"
      },
      "execution_count": null,
      "outputs": [
        {
          "output_type": "execute_result",
          "data": {
            "text/plain": [
              "array([[1., 0., 0.],\n",
              "       [0., 1., 0.],\n",
              "       [0., 0., 1.]])"
            ]
          },
          "metadata": {},
          "execution_count": 25
        }
      ]
    },
    {
      "cell_type": "code",
      "source": [
        "np.identity(10)"
      ],
      "metadata": {
        "colab": {
          "base_uri": "https://localhost:8080/"
        },
        "id": "LP7aGh-TY-gG",
        "outputId": "afee7bc0-bfc3-46b6-cf3c-f6f79e982aa0"
      },
      "execution_count": null,
      "outputs": [
        {
          "output_type": "execute_result",
          "data": {
            "text/plain": [
              "array([[1., 0., 0., 0., 0., 0., 0., 0., 0., 0.],\n",
              "       [0., 1., 0., 0., 0., 0., 0., 0., 0., 0.],\n",
              "       [0., 0., 1., 0., 0., 0., 0., 0., 0., 0.],\n",
              "       [0., 0., 0., 1., 0., 0., 0., 0., 0., 0.],\n",
              "       [0., 0., 0., 0., 1., 0., 0., 0., 0., 0.],\n",
              "       [0., 0., 0., 0., 0., 1., 0., 0., 0., 0.],\n",
              "       [0., 0., 0., 0., 0., 0., 1., 0., 0., 0.],\n",
              "       [0., 0., 0., 0., 0., 0., 0., 1., 0., 0.],\n",
              "       [0., 0., 0., 0., 0., 0., 0., 0., 1., 0.],\n",
              "       [0., 0., 0., 0., 0., 0., 0., 0., 0., 1.]])"
            ]
          },
          "metadata": {},
          "execution_count": 26
        }
      ]
    },
    {
      "cell_type": "markdown",
      "source": [
        "###Upper Triangular Matrix\n",
        "An upper triangular matrix is a matrix that has no values below the diagonal."
      ],
      "metadata": {
        "id": "YiB1wmpjZRGA"
      }
    },
    {
      "cell_type": "code",
      "source": [
        "np.array([\n",
        "    [1,2,3,4],\n",
        "    [0,3,1,-1],\n",
        "    [0,0,5,2],\n",
        "    [0,0,0,2]\n",
        "])\n"
      ],
      "metadata": {
        "colab": {
          "base_uri": "https://localhost:8080/"
        },
        "id": "fdO_wjIWZYUt",
        "outputId": "2db03efa-b024-4923-e645-5b6d0d36981b"
      },
      "execution_count": null,
      "outputs": [
        {
          "output_type": "execute_result",
          "data": {
            "text/plain": [
              "array([[ 1,  2,  3,  4],\n",
              "       [ 0,  3,  1, -1],\n",
              "       [ 0,  0,  5,  2],\n",
              "       [ 0,  0,  0,  2]])"
            ]
          },
          "metadata": {},
          "execution_count": 27
        }
      ]
    },
    {
      "cell_type": "code",
      "source": [
        "F = np.array([\n",
        "              [2, -3, 4, -5, 6],\n",
        "              [2, -3, 4, -5, 6],\n",
        "              [2, -3, 4, -5, 6],\n",
        "              [2, -3, 4, -5, 6],\n",
        "              [2, -3, 4, -5, 6],\n",
        "])\n",
        "np.triu(F)\n"
      ],
      "metadata": {
        "colab": {
          "base_uri": "https://localhost:8080/"
        },
        "id": "4o5i43q5Z3wW",
        "outputId": "81988841-3af9-4f8f-ab65-d10889370e85"
      },
      "execution_count": null,
      "outputs": [
        {
          "output_type": "execute_result",
          "data": {
            "text/plain": [
              "array([[ 2, -3,  4, -5,  6],\n",
              "       [ 0, -3,  4, -5,  6],\n",
              "       [ 0,  0,  4, -5,  6],\n",
              "       [ 0,  0,  0, -5,  6],\n",
              "       [ 0,  0,  0,  0,  6]])"
            ]
          },
          "metadata": {},
          "execution_count": 28
        }
      ]
    },
    {
      "cell_type": "markdown",
      "source": [
        "###Lower Triangular Matrix\n",
        "A lower triangular matrix is a matrix that has no values above the diagonal."
      ],
      "metadata": {
        "id": "Exk7recSaNT3"
      }
    },
    {
      "cell_type": "code",
      "source": [
        "np.tril(F)\n"
      ],
      "metadata": {
        "colab": {
          "base_uri": "https://localhost:8080/"
        },
        "id": "zEfTXqAQaY_5",
        "outputId": "037a381a-03fe-4db7-87e4-513ca8810222"
      },
      "execution_count": null,
      "outputs": [
        {
          "output_type": "execute_result",
          "data": {
            "text/plain": [
              "array([[ 2,  0,  0,  0,  0],\n",
              "       [ 2, -3,  0,  0,  0],\n",
              "       [ 2, -3,  4,  0,  0],\n",
              "       [ 2, -3,  4, -5,  0],\n",
              "       [ 2, -3,  4, -5,  6]])"
            ]
          },
          "metadata": {},
          "execution_count": 29
        }
      ]
    },
    {
      "cell_type": "code",
      "source": [
        "np.array([\n",
        "          [1,0,0],\n",
        "          [5,3,0],\n",
        "          [7,8,5]\n",
        "])"
      ],
      "metadata": {
        "colab": {
          "base_uri": "https://localhost:8080/"
        },
        "id": "hCG5O3Ctaev4",
        "outputId": "f3b1d5c1-79eb-4fb7-dfb6-951b829aed2f"
      },
      "execution_count": null,
      "outputs": [
        {
          "output_type": "execute_result",
          "data": {
            "text/plain": [
              "array([[1, 0, 0],\n",
              "       [5, 3, 0],\n",
              "       [7, 8, 5]])"
            ]
          },
          "metadata": {},
          "execution_count": 30
        }
      ]
    },
    {
      "cell_type": "markdown",
      "source": [
        "##Practice"
      ],
      "metadata": {
        "id": "iEVGisrabAO0"
      }
    },
    {
      "cell_type": "markdown",
      "source": [
        "1. Given the linear combination below, try to create a corresponding matrix representing it.\n"
      ],
      "metadata": {
        "id": "gQo2r6B0bJcA"
      }
    },
    {
      "cell_type": "markdown",
      "source": [
        ":$$\\theta = 5x + 3y - z$$\n"
      ],
      "metadata": {
        "id": "nTyzV15TbNz5"
      }
    },
    {
      "cell_type": "markdown",
      "source": [
        "$$\\theta =\\begin{bmatrix} 5 & 3 & -1\\end{bmatrix}\\\\ $$"
      ],
      "metadata": {
        "id": "kq84kFWCbIqX"
      }
    },
    {
      "cell_type": "markdown",
      "source": [
        "2. Given the system of linear combinations below, try to encode it as a matrix. Also describe the matrix.\n"
      ],
      "metadata": {
        "id": "ftZU0LCabTh0"
      }
    },
    {
      "cell_type": "markdown",
      "source": [
        "$$\n",
        "A = \\left\\{\\begin{array}\n",
        "5x_1 + 2x_2 +x_3\\\\\n",
        "4x_2 - x_3\\\\\n",
        "10x_3\n",
        "\\end{array}\\right.\n",
        "$$\n"
      ],
      "metadata": {
        "id": "2VBPK6oObXMG"
      }
    },
    {
      "cell_type": "code",
      "source": [
        "A = np.array([\n",
        "    [1, 2, 1],\n",
        "    [0, 4, -1],\n",
        "    [0, 0, 10]\n",
        "])\n",
        "A"
      ],
      "metadata": {
        "colab": {
          "base_uri": "https://localhost:8080/"
        },
        "id": "fOX-AXUw_uLf",
        "outputId": "cf386359-669c-400e-b2e4-8e7e41410781"
      },
      "execution_count": null,
      "outputs": [
        {
          "output_type": "execute_result",
          "data": {
            "text/plain": [
              "array([[ 1,  2,  1],\n",
              "       [ 0,  4, -1],\n",
              "       [ 0,  0, 10]])"
            ]
          },
          "metadata": {},
          "execution_count": 5
        }
      ]
    },
    {
      "cell_type": "markdown",
      "source": [
        "The above matrix is considered as Upper Triangular Matrix since all the elements below the main diagonal are zeros.  "
      ],
      "metadata": {
        "id": "k4D1dzsNgZpr"
      }
    },
    {
      "cell_type": "markdown",
      "source": [
        "3. Given the matrix below, express it as a linear combination in a markdown."
      ],
      "metadata": {
        "id": "UhDrP6z3bYyI"
      }
    },
    {
      "cell_type": "code",
      "source": [
        "G = np.array([ \n",
        "    [1,7,8], \n",
        "    [2,2,2], \n",
        "    [4,6,7] \n",
        "])\n"
      ],
      "metadata": {
        "id": "Ge9Mgz-y8Fvp"
      },
      "execution_count": null,
      "outputs": []
    },
    {
      "cell_type": "markdown",
      "source": [
        "$$\n",
        "G = \\left\\{\\begin{array}\n",
        "1x + 7y + 8z\\\\\n",
        "2x + 2y + 2z\\\\\n",
        "4x + 6y + 7z\n",
        "\\end{array}\\right.\n",
        "$$\n"
      ],
      "metadata": {
        "id": "hTDknR2I_GZR"
      }
    },
    {
      "cell_type": "markdown",
      "source": [
        "4. Given the matrix below, display the output as a LaTeX markdown also express it as a system of linear combinations.\n"
      ],
      "metadata": {
        "id": "UXTiKj1-bfd5"
      }
    },
    {
      "cell_type": "code",
      "source": [
        "H = np.tril(G)\n",
        "H"
      ],
      "metadata": {
        "colab": {
          "base_uri": "https://localhost:8080/"
        },
        "id": "q4m8U-Vx8sJg",
        "outputId": "df57dc0b-6cd6-4151-8537-9c0dea57158e"
      },
      "execution_count": null,
      "outputs": [
        {
          "output_type": "execute_result",
          "data": {
            "text/plain": [
              "array([[1, 0, 0],\n",
              "       [2, 2, 0],\n",
              "       [4, 6, 7]])"
            ]
          },
          "metadata": {},
          "execution_count": 7
        }
      ]
    },
    {
      "cell_type": "markdown",
      "source": [
        "$$\n",
        "H = \\begin{bmatrix} \n",
        "1 & 0 & 0 \\\\\n",
        "2 & 2 & 0\\\\\n",
        "4 & 6 & 7 \\\\\n",
        "\\end{bmatrix}\n",
        "$$\n",
        "\n",
        "$$\n",
        "H = \\left\\{\\begin{array}\n",
        "1x \\\\\n",
        "2x + 2y\\\\\n",
        "4x + 6y + 7z\n",
        "\\end{array}\\right.\n",
        "$$\n",
        "\n"
      ],
      "metadata": {
        "id": "tq1CSo5pAy_c"
      }
    },
    {
      "cell_type": "markdown",
      "source": [
        "##Matrix Algebra"
      ],
      "metadata": {
        "id": "VJsCc30o87o7"
      }
    },
    {
      "cell_type": "markdown",
      "source": [
        "###Addition"
      ],
      "metadata": {
        "id": "9AScxCjF9DrI"
      }
    },
    {
      "cell_type": "code",
      "source": [
        "A = np.array([\n",
        "    [1,2],\n",
        "    [2,3],\n",
        "    [4,1]\n",
        "])\n",
        "B = np.array([\n",
        "    [2,2],\n",
        "    [0,0],\n",
        "    [1,1]\n",
        "])\n",
        "A+B"
      ],
      "metadata": {
        "colab": {
          "base_uri": "https://localhost:8080/"
        },
        "id": "Fd2hLN5m9LDZ",
        "outputId": "14d7011f-c3ff-4bee-c78b-697507a074e9"
      },
      "execution_count": null,
      "outputs": [
        {
          "output_type": "execute_result",
          "data": {
            "text/plain": [
              "array([[3, 4],\n",
              "       [2, 3],\n",
              "       [5, 2]])"
            ]
          },
          "metadata": {},
          "execution_count": 8
        }
      ]
    },
    {
      "cell_type": "code",
      "source": [
        "2+A ##Broadcasting\n",
        "# 2*np.ones(A.shape)+A"
      ],
      "metadata": {
        "colab": {
          "base_uri": "https://localhost:8080/"
        },
        "id": "cmBEG4DY9PXj",
        "outputId": "5140dd1c-7bb2-4873-f904-b78c0745e816"
      },
      "execution_count": null,
      "outputs": [
        {
          "output_type": "execute_result",
          "data": {
            "text/plain": [
              "array([[3, 4],\n",
              "       [4, 5],\n",
              "       [6, 3]])"
            ]
          },
          "metadata": {},
          "execution_count": 9
        }
      ]
    },
    {
      "cell_type": "markdown",
      "source": [
        "###Subtraction"
      ],
      "metadata": {
        "id": "tCY9OxNT9X0t"
      }
    },
    {
      "cell_type": "code",
      "source": [
        "A-B"
      ],
      "metadata": {
        "colab": {
          "base_uri": "https://localhost:8080/"
        },
        "id": "A3YBul0Z9b8p",
        "outputId": "b61fd5a0-ebae-4d18-ffd4-b2424158e2c5"
      },
      "execution_count": null,
      "outputs": [
        {
          "output_type": "execute_result",
          "data": {
            "text/plain": [
              "array([[-1,  0],\n",
              "       [ 2,  3],\n",
              "       [ 3,  0]])"
            ]
          },
          "metadata": {},
          "execution_count": 10
        }
      ]
    },
    {
      "cell_type": "code",
      "source": [
        "3-B == 3*np.ones(B.shape)-B"
      ],
      "metadata": {
        "colab": {
          "base_uri": "https://localhost:8080/"
        },
        "id": "Cg7Bw-Uw9edy",
        "outputId": "b76afc0b-6132-4847-b48b-dd3e44401d66"
      },
      "execution_count": null,
      "outputs": [
        {
          "output_type": "execute_result",
          "data": {
            "text/plain": [
              "array([[ True,  True],\n",
              "       [ True,  True],\n",
              "       [ True,  True]])"
            ]
          },
          "metadata": {},
          "execution_count": 11
        }
      ]
    },
    {
      "cell_type": "markdown",
      "source": [
        "###Element-wise Multiplication\n",
        "\n",
        "\n",
        "\n",
        "\n",
        "\n"
      ],
      "metadata": {
        "id": "7M8fpb5-9iYX"
      }
    },
    {
      "cell_type": "code",
      "source": [
        "A*B"
      ],
      "metadata": {
        "colab": {
          "base_uri": "https://localhost:8080/"
        },
        "id": "4FwgPcej9qU_",
        "outputId": "543fc2cd-4b16-483d-9b83-88c9cbabf95c"
      },
      "execution_count": null,
      "outputs": [
        {
          "output_type": "execute_result",
          "data": {
            "text/plain": [
              "array([[2, 4],\n",
              "       [0, 0],\n",
              "       [4, 1]])"
            ]
          },
          "metadata": {},
          "execution_count": 12
        }
      ]
    },
    {
      "cell_type": "code",
      "source": [
        "2*A"
      ],
      "metadata": {
        "colab": {
          "base_uri": "https://localhost:8080/"
        },
        "id": "F0tMOr3a9u8F",
        "outputId": "99a6a26c-3aba-4590-a657-d6f2afadeeaf"
      },
      "execution_count": null,
      "outputs": [
        {
          "output_type": "execute_result",
          "data": {
            "text/plain": [
              "array([[2, 4],\n",
              "       [4, 6],\n",
              "       [8, 2]])"
            ]
          },
          "metadata": {},
          "execution_count": 13
        }
      ]
    },
    {
      "cell_type": "code",
      "source": [
        "A@B"
      ],
      "metadata": {
        "colab": {
          "base_uri": "https://localhost:8080/",
          "height": 165
        },
        "id": "lIJETK5n9xrx",
        "outputId": "bb6d1302-3036-4388-ed52-ff65c5d46168"
      },
      "execution_count": null,
      "outputs": [
        {
          "output_type": "error",
          "ename": "ValueError",
          "evalue": "ignored",
          "traceback": [
            "\u001b[0;31m---------------------------------------------------------------------------\u001b[0m",
            "\u001b[0;31mValueError\u001b[0m                                Traceback (most recent call last)",
            "\u001b[0;32m<ipython-input-7-5016aafd2858>\u001b[0m in \u001b[0;36m<module>\u001b[0;34m()\u001b[0m\n\u001b[0;32m----> 1\u001b[0;31m \u001b[0mA\u001b[0m\u001b[0;34m@\u001b[0m\u001b[0mB\u001b[0m\u001b[0;34m\u001b[0m\u001b[0;34m\u001b[0m\u001b[0m\n\u001b[0m",
            "\u001b[0;31mValueError\u001b[0m: matmul: Input operand 1 has a mismatch in its core dimension 0, with gufunc signature (n?,k),(k,m?)->(n?,m?) (size 3 is different from 5)"
          ]
        }
      ]
    },
    {
      "cell_type": "code",
      "source": [
        "alpha=10**-10\n",
        "A/(alpha+B)"
      ],
      "metadata": {
        "colab": {
          "base_uri": "https://localhost:8080/"
        },
        "id": "Do8vJiuR91_5",
        "outputId": "dce1de5f-7116-445d-8889-03217379bae8"
      },
      "execution_count": null,
      "outputs": [
        {
          "output_type": "execute_result",
          "data": {
            "text/plain": [
              "array([[5.e-01, 1.e+00],\n",
              "       [2.e+10, 3.e+10],\n",
              "       [4.e+00, 1.e+00]])"
            ]
          },
          "metadata": {},
          "execution_count": 15
        }
      ]
    },
    {
      "cell_type": "code",
      "source": [
        "np.add(A,B)"
      ],
      "metadata": {
        "colab": {
          "base_uri": "https://localhost:8080/"
        },
        "id": "P35ovUU-9-E_",
        "outputId": "82a13f96-ba4c-44ff-f5a1-3cd3ac2a1172"
      },
      "execution_count": null,
      "outputs": [
        {
          "output_type": "execute_result",
          "data": {
            "text/plain": [
              "array([[3, 4],\n",
              "       [2, 3],\n",
              "       [5, 2]])"
            ]
          },
          "metadata": {},
          "execution_count": 16
        }
      ]
    },
    {
      "cell_type": "markdown",
      "source": [
        "##**Activity**"
      ],
      "metadata": {
        "id": "DhPBvcR8-Een"
      }
    },
    {
      "cell_type": "markdown",
      "source": [
        "###**Task 1**\n",
        "Create a function named mat_desc() that througouhly describes a matrix, it should:\n",
        "1. Displays the shape, size, and rank of the matrix.\n",
        "2. Displays whether the matrix is square or non-square.\n",
        "3. Displays whether the matrix is an empty matrix.\n",
        "4. Displays if the matrix is an identity, ones, or zeros matrix\n",
        "\n",
        "Use 5 sample matrices in which their shapes are not lower than **(3,3)**. In your methodology, create a flowchart discuss the functions and methods you have done. Present your results in the results section showing the description of each matrix you have declared."
      ],
      "metadata": {
        "id": "M9iyYp4W-GoD"
      }
    },
    {
      "cell_type": "markdown",
      "source": [
        "####Matrix Declaration"
      ],
      "metadata": {
        "id": "O-s3EAFKTxRl"
      }
    },
    {
      "cell_type": "code",
      "source": [
        "A = np.array([\n",
        "    [1, 0, 0, 0, 0],\n",
        "    [0, 1, 0, 0, 0],\n",
        "    [0, 0, 1, 0, 0],\n",
        "    [0, 0, 0, 1, 0],\n",
        "    [0, 0, 0, 0, 1],     \n",
        "])\n",
        "B = np.array([\n",
        "    [1, 1, 1],\n",
        "    [1, 1, 1],\n",
        "    [1, 1, 1],    \n",
        "])\n",
        "C = np.zeros((4,6))\n",
        "D = np.identity((6))\n",
        "E = np.ones((4,5))"
      ],
      "metadata": {
        "id": "M3i9Uv6_T3V7"
      },
      "execution_count": null,
      "outputs": []
    },
    {
      "cell_type": "markdown",
      "source": [
        "####Function Area"
      ],
      "metadata": {
        "id": "xyyAMsC8T-Sf"
      }
    },
    {
      "cell_type": "code",
      "source": [
        "def mat_desc(matrix):\n",
        "        print(f'Matrix:\\n{matrix}\\n\\nShape:\\t{matrix.shape}\\nSize:\\t{matrix.size}\\nRank:\\t{matrix.ndim}\\n')\n",
        "        square = False\n",
        "        if (matrix.shape[0] == matrix.shape[1]):\n",
        "          square = True\n",
        "          print('The matrix is square')   \n",
        "        else:\n",
        "          print('The matrix is non-square') \n",
        "        if (matrix.shape[0] == 0 and matrix.shape[1] == 0):\n",
        "          print('The matrix is empty')\n",
        "        else: \n",
        "          print('The matrix is not empty')  \n",
        "        identity = np.identity(matrix.shape[0])\n",
        "        if (square and (identity == matrix).all()):\n",
        "          print('Identity Matrix\\n\\n')\n",
        "        else:\n",
        "          print()\n",
        "        one = np.ones((matrix.shape[0], matrix.shape[1]))\n",
        "        if ((one == matrix).all()):\n",
        "          print(end = 'Ones Matrix\\n\\n')\n",
        "        else:\n",
        "          print('')\n",
        "        zero = np.zeros((matrix.shape[0], matrix.shape[1])) \n",
        "        if ((zero == matrix).all()):\n",
        "          print('Zeros Matrix \\n\\n')\n",
        "        else:\n",
        "          print('')\n",
        " "
      ],
      "metadata": {
        "id": "3C-u-hEhkx__"
      },
      "execution_count": null,
      "outputs": []
    },
    {
      "cell_type": "markdown",
      "source": [
        "####Test Areas"
      ],
      "metadata": {
        "id": "RSAsnbH9tPLo"
      }
    },
    {
      "cell_type": "code",
      "source": [
        "mat_desc(A)"
      ],
      "metadata": {
        "colab": {
          "base_uri": "https://localhost:8080/"
        },
        "id": "fvkjMQDck0h5",
        "outputId": "e0de0b7a-6cf4-4fc6-9f04-d1bfcee5cc5e"
      },
      "execution_count": null,
      "outputs": [
        {
          "output_type": "stream",
          "name": "stdout",
          "text": [
            "Matrix:\n",
            "[[1 0 0 0 0]\n",
            " [0 1 0 0 0]\n",
            " [0 0 1 0 0]\n",
            " [0 0 0 1 0]\n",
            " [0 0 0 0 1]]\n",
            "\n",
            "Shape:\t(5, 5)\n",
            "Size:\t25\n",
            "Rank:\t2\n",
            "\n",
            "The matrix is square\n",
            "The matrix is not empty\n",
            "Identity Matrix\n",
            "\n",
            "\n",
            "\n",
            "\n"
          ]
        }
      ]
    },
    {
      "cell_type": "code",
      "source": [
        "mat_desc(B)"
      ],
      "metadata": {
        "colab": {
          "base_uri": "https://localhost:8080/"
        },
        "id": "z1hz4bhxk4zM",
        "outputId": "22d4dfca-4cf0-4fe7-bbf9-8e7100d0f552"
      },
      "execution_count": null,
      "outputs": [
        {
          "output_type": "stream",
          "name": "stdout",
          "text": [
            "Matrix:\n",
            "[[1 1 1]\n",
            " [1 1 1]\n",
            " [1 1 1]]\n",
            "\n",
            "Shape:\t(3, 3)\n",
            "Size:\t9\n",
            "Rank:\t2\n",
            "\n",
            "The matrix is square\n",
            "The matrix is not empty\n",
            "\n",
            "Ones Matrix\n",
            "\n",
            "\n"
          ]
        }
      ]
    },
    {
      "cell_type": "code",
      "source": [
        "mat_desc(C)"
      ],
      "metadata": {
        "colab": {
          "base_uri": "https://localhost:8080/"
        },
        "id": "QG_vaFuuk9cB",
        "outputId": "88273a34-7eff-491c-f98d-847ad0dbc244"
      },
      "execution_count": null,
      "outputs": [
        {
          "output_type": "stream",
          "name": "stdout",
          "text": [
            "Matrix:\n",
            "[[0. 0. 0. 0. 0. 0.]\n",
            " [0. 0. 0. 0. 0. 0.]\n",
            " [0. 0. 0. 0. 0. 0.]\n",
            " [0. 0. 0. 0. 0. 0.]]\n",
            "\n",
            "Shape:\t(4, 6)\n",
            "Size:\t24\n",
            "Rank:\t2\n",
            "\n",
            "The matrix is non-square\n",
            "The matrix is not empty\n",
            "\n",
            "\n",
            "Zeros Matrix \n",
            "\n",
            "\n"
          ]
        }
      ]
    },
    {
      "cell_type": "markdown",
      "source": [
        "###**Task 2**\n",
        "Create a function named mat_operations() that takes in two matrices a input parameters it should:\n",
        "\n",
        "1. Determines if the matrices are viable for operation and returns your own error message if they are not viable.\n",
        "2. Returns the sum of the matrices.\n",
        "3. Returns the differen of the matrices.\n",
        "4. Returns the element-wise multiplication of the matrices.\n",
        "5. Returns the element-wise division of the matrices.\n",
        "\n",
        "\n",
        "Use 5 sample matrices in which their shapes are not lower than **(3,3)**. In your methodology, create a flowchart discuss the functions and methods you have done. Present your results in the results section showing the description of each matrix you have declared.\n",
        "\n"
      ],
      "metadata": {
        "id": "aIKXmflx6Y_h"
      }
    },
    {
      "cell_type": "markdown",
      "source": [
        "####Function Area"
      ],
      "metadata": {
        "id": "jGXqiH1htp6p"
      }
    },
    {
      "cell_type": "code",
      "source": [
        "def mat_operations(K,J,L,M,N):\n",
        "  if (K.shape != J.shape != L.shape != M.shape != N.shape ):\n",
        "    print('The shape of both matrices are not the same. You will not able to perform operations')\n",
        "  elif (K.shape == J.shape or J.shape == L.shape  or L.shape == M.shape or M.shape == N.shape or K.shape == N.shape ):\n",
        "    print('The matrices are viable.')\n",
        "  else:\n",
        "    print('The matrix is empty')"
      ],
      "metadata": {
        "id": "ebH2zkXutniD"
      },
      "execution_count": null,
      "outputs": []
    },
    {
      "cell_type": "markdown",
      "source": [
        "####Matrix Declaration"
      ],
      "metadata": {
        "id": "Udk9scf6triG"
      }
    },
    {
      "cell_type": "code",
      "source": [
        "K = np.array([\n",
        "    [2,8,7],\n",
        "    [-2,4,6],\n",
        "    [6,8,6]\n",
        "])\n",
        "J = np.array([\n",
        "    [3,3,3],\n",
        "    [2,4,2],\n",
        "    [5,6,6]\n",
        "])\n",
        "L = np.array([\n",
        "    [7,-3,13],\n",
        "    [0,9,-2],\n",
        "    [-5,1,8],\n",
        "])\n",
        "M = np.array([\n",
        "    [2,-5,-11,0],\n",
        "    [-9,4,6,13],\n",
        "    [4,7,12,-2],\n",
        "])\n",
        "N = np.array([\n",
        "    [1,4,5,12],\n",
        "    [-5,8,9,0],\n",
        "    [-6,7,11,19]\n",
        "])\n"
      ],
      "metadata": {
        "id": "KmbJUmkftvrp"
      },
      "execution_count": null,
      "outputs": []
    },
    {
      "cell_type": "markdown",
      "source": [
        "####Test Areas"
      ],
      "metadata": {
        "id": "9VYKd1M8uDfv"
      }
    },
    {
      "cell_type": "code",
      "source": [
        "ksum = K + L\n",
        "print('The sum of the given matrices: \\n', ksum)\n",
        "mat_operations(K,J,L,M,N)\n"
      ],
      "metadata": {
        "colab": {
          "base_uri": "https://localhost:8080/"
        },
        "id": "-rO8Oy87tnd6",
        "outputId": "3b9736d2-3b85-4339-b4a0-86125cb4cac9"
      },
      "execution_count": null,
      "outputs": [
        {
          "output_type": "stream",
          "name": "stdout",
          "text": [
            "The sum of the given matrices: \n",
            " [[ 9  5 20]\n",
            " [-2 13  4]\n",
            " [ 1  9 14]]\n",
            "The matrices are viable.\n"
          ]
        }
      ]
    },
    {
      "cell_type": "code",
      "source": [
        "kdiff = M - N \n",
        "print('The difference of the given matrices: \\n', kdiff)\n",
        "mat_operations(K,J,L,M,N)"
      ],
      "metadata": {
        "colab": {
          "base_uri": "https://localhost:8080/"
        },
        "id": "5VaLlgnyuLuf",
        "outputId": "ea67a50a-dc57-4758-9d7b-cada5218a359"
      },
      "execution_count": null,
      "outputs": [
        {
          "output_type": "stream",
          "name": "stdout",
          "text": [
            "The difference of the given matrices: \n",
            " [[-1  5  4]\n",
            " [-4  0  4]\n",
            " [ 1  2  0]]\n",
            "The matrices are viable.\n"
          ]
        }
      ]
    },
    {
      "cell_type": "code",
      "source": [
        "kmul = np.multiply(M,N)\n",
        "print('The element-wise multiplication of the given matrices: \\n', kmul)\n",
        "mat_operations(K,J, L, M, N)"
      ],
      "metadata": {
        "colab": {
          "base_uri": "https://localhost:8080/"
        },
        "id": "hqRLgVNUuOD_",
        "outputId": "0f4e05e2-26f9-4f59-88b2-98856e267f01"
      },
      "execution_count": null,
      "outputs": [
        {
          "output_type": "stream",
          "name": "stdout",
          "text": [
            "The element-wise multiplication of the given matrices: \n",
            " [[  2 -20 -55   0]\n",
            " [ 45  32  54   0]\n",
            " [-24  49 132 -38]]\n",
            "The matrices are viable.\n"
          ]
        }
      ]
    },
    {
      "cell_type": "code",
      "source": [
        "kdiv = np.divide(K,J)\n",
        "print('The element-wise division of the given matrices: \\n', kdiv)\n",
        "mat_operations(K,J,L,M,N)"
      ],
      "metadata": {
        "colab": {
          "base_uri": "https://localhost:8080/"
        },
        "id": "5lh0f1XquP4H",
        "outputId": "ed7e40c7-c0f7-4993-884d-5001087beeeb"
      },
      "execution_count": null,
      "outputs": [
        {
          "output_type": "stream",
          "name": "stdout",
          "text": [
            "The element-wise division of the given matrices: \n",
            " [[ 0.66666667  2.66666667  2.33333333]\n",
            " [-1.          1.          3.        ]\n",
            " [ 1.2         1.33333333  1.        ]]\n",
            "The matrices are viable.\n"
          ]
        }
      ]
    },
    {
      "cell_type": "markdown",
      "source": [
        "##**Conclusion**\n",
        "For your conclusion synthesize the concept and application of the laboratory. Briefly discuss what you have learned and achieved in this activity. Also answer the question: \"How can matrix operations solve problems in technology?\"."
      ],
      "metadata": {
        "id": "aca9lxQK7Dfm"
      }
    },
    {
      "cell_type": "markdown",
      "source": [
        "Matrices have a wide range of applications in various branches of mathematics; in fields like engineering, physics, economics, and statistics. It may be used to write and deal with many linear equations, often known as a system of linear equations, in a compact manner. The numbers in a matrix can represent both data and mathematical equations. \n",
        "Considering that we live in the era of advanced technologies, and we use modern inventions in our everyday life to analyze things to solve a problem, we need tools like matrices that we can utilize, such as in linear programming, where we can use to predict. Matrices can be used to analyze things to solve problems and can be applied to develop different technologies. In this activity, students learned how to apply operations on matrices. They also discussed how to determine the shapes of it and how important to know first the shape of the matrix to determine if an operation can be applied to it. Also, they comprehend different matrices and their functions using Python programming. Furthermore, the students were able to apply the learnings in creating two programs; where they declare matrices, display shape, rank, and size, and lastly, they use different mathematical operations in the declared matrices. With that, we can say that matrix operations are a much more efficient solution in technology. \n"
      ],
      "metadata": {
        "id": "wA9GblDPgHgK"
      }
    }
  ]
}
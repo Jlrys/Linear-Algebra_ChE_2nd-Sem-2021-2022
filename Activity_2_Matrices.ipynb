{
  "nbformat": 4,
  "nbformat_minor": 0,
  "metadata": {
    "colab": {
      "name": "Assignment4.ipynb",
      "provenance": [],
      "collapsed_sections": [],
      "include_colab_link": true
    },
    "kernelspec": {
      "name": "python3",
      "display_name": "Python 3"
    },
    "language_info": {
      "name": "python"
    }
  },
  "cells": [
    {
      "cell_type": "markdown",
      "metadata": {
        "id": "view-in-github",
        "colab_type": "text"
      },
      "source": [
        "<a href=\"https://colab.research.google.com/github/Jlrys/Linear-Algebra_ChE_2nd-Sem-2021-2022/blob/main/Activity_2_Matrices.ipynb\" target=\"_parent\"><img src=\"https://colab.research.google.com/assets/colab-badge.svg\" alt=\"Open In Colab\"/></a>"
      ]
    },
    {
      "cell_type": "markdown",
      "source": [
        "#Linear Algebra for ChE"
      ],
      "metadata": {
        "id": "gnKbD4cE1Ptx"
      }
    },
    {
      "cell_type": "markdown",
      "source": [
        "##Laboratory 4: Matrices\n",
        "Now that you have a fundamental knowledge about Python, we'll try to look into greater dimensions. "
      ],
      "metadata": {
        "id": "b_r6-4CK1Z4n"
      }
    },
    {
      "cell_type": "markdown",
      "source": [
        "### Objectives\n",
        "At the end of this activity you will be able to:\n",
        "1. Calculate the basic operations of matrices and their relation to linear equations using the Google Colab.\n",
        "2. Utilize basic matrix operations.\n",
        "3. Run the program and transcribe the matrix equation and operations using Python.\n",
        "\n"
      ],
      "metadata": {
        "id": "cANPWHZCLKF7"
      }
    },
    {
      "cell_type": "markdown",
      "source": [
        "#Discussion"
      ],
      "metadata": {
        "id": "ta4GlAWKLRD2"
      }
    },
    {
      "cell_type": "code",
      "source": [
        "import numpy as np\n",
        "import matplotlib.pyplot as plt\n",
        "import scipy.linalg as la\n",
        "%matplotlib inline\n"
      ],
      "metadata": {
        "id": "5L9f3ncjLXsW"
      },
      "execution_count": null,
      "outputs": []
    },
    {
      "cell_type": "markdown",
      "source": [
        "##Matrices"
      ],
      "metadata": {
        "id": "aIDMUvXRLhPB"
      }
    },
    {
      "cell_type": "markdown",
      "source": [
        "The notation and use of matrices is probably one of the fundamentals of modern computing. Matrices are also handy representations of complex equations or multiple inter-related equations from 2-dimensional equations to even hundreds and thousands of them.\n",
        "\n",
        "Let's say for example you have  and  as system of equation."
      ],
      "metadata": {
        "id": "cQ61-VovLuq7"
      }
    },
    {
      "cell_type": "markdown",
      "source": [
        "$$\n",
        "A = \\left\\{\n",
        "    \\begin{array}\\\n",
        "        x + y \\\\ \n",
        "        4x - 10y\n",
        "    \\end{array}\n",
        "\\right. \\\\\n",
        "B = \\left\\{\n",
        "    \\begin{array}\\\n",
        "        x+y+z \\\\ \n",
        "        3x -2y -z \\\\\n",
        "        -x + 4y +2z\n",
        "    \\end{array}\n",
        "\\right. \\\\\n",
        "C = \\left\\{\n",
        "    \\begin{array}\\\n",
        "        w-2x+3y-4z \\\\\n",
        "        3w-x-2y+z \\\\\n",
        "        2w-x+3y-2z \\\\\n",
        "    \\end{array}\n",
        "\\right. \\\\\n",
        "$$\n"
      ],
      "metadata": {
        "id": "r2Ss3pY7L4wC"
      }
    },
    {
      "cell_type": "markdown",
      "source": [
        "We could see that *A* is a system of 2 equations with 2 parameters. While *B* is a system of 3 equations with 3 parametes. We can represent them as matrices as:"
      ],
      "metadata": {
        "id": "ZQqATCQbNwq2"
      }
    },
    {
      "cell_type": "markdown",
      "source": [
        "$$\n",
        "A=\\begin{bmatrix} 1 & 1 \\\\ 4 & {-10}\\end{bmatrix} \\\\\n",
        "B=\\begin{bmatrix} 1 & 1 & 1 \\\\ 3 & -2 & -1 \\\\ -1 & 4 & 2\\end{bmatrix}\\\\\n",
        "C=\\begin{bmatrix} 1 & -2 & 3 & -4 \\\\ 3 & -1 & -2 & 1 \\\\ 2 & -1 & 3 & -2\\end{bmatrix}\\\\\n",
        "$$\n"
      ],
      "metadata": {
        "id": "BZME-sXaOUXe"
      }
    },
    {
      "cell_type": "markdown",
      "source": [
        "So assuming that you already discussed the fundamental representation of matrices, their types, and operations. We'll proceed in doing them in here in Python"
      ],
      "metadata": {
        "id": "3IX0JHxnPBmu"
      }
    },
    {
      "cell_type": "markdown",
      "source": [
        "##Declaring Matrices"
      ],
      "metadata": {
        "id": "WcbaF1GUPzs-"
      }
    },
    {
      "cell_type": "markdown",
      "source": [
        "Just like our previous laboratory activity, we'll represent system of linear \n",
        "equations as a matrix. The entities or numbers in matrices are called the elements of a matrix. These elements are arranged and ordered in rows and columns which form the list/array-like structure of matrices. And just like arrays, these elements are indexed according to their position with respect to their rows and columns. This can be reprsented just like the equation below. Whereas ***A*** is a matrix consisting of elements denoted by $$a_{(ij)}$$. Denoted by *i*  is the number of rows in the matrix while *j* stands for the number of columns.\n",
        "Do note that *size* the  of a matrix is *i x j*"
      ],
      "metadata": {
        "id": "zW_xtGoe2FMT"
      }
    },
    {
      "cell_type": "markdown",
      "source": [
        "$$A=\\begin{bmatrix}\n",
        "a_{(0,0)}&a_{(0,1)}&\\dots&a_{(0,j-1)}\\\\\n",
        "a_{(1,0)}&a_{(1,1)}&\\dots&a_{(1,j-1)}\\\\\n",
        "\\vdots&\\vdots&\\ddots&\\vdots&\\\\\n",
        "a_{(i-1,0)}&a_{(i-1,1)}&\\dots&a_{(i-1,j-1)}\n",
        "\\end{bmatrix}\n",
        "$$\n"
      ],
      "metadata": {
        "id": "EgX08RugP7_m"
      }
    },
    {
      "cell_type": "markdown",
      "source": [
        "We already gone over some of the types of matrices as vectors but we'll further discuss them in this laboratory activity. Since you already know how to describe vectors using **shape**, **dimensions** and **size** attributes, we'll use them to analyze these matrices."
      ],
      "metadata": {
        "id": "el-oM4Ns3kPS"
      }
    },
    {
      "cell_type": "code",
      "source": [
        "## Since we'll keep on describing matrices. Let's make a function. \n",
        "def describe_mat(matrix):\n",
        "    print(f'Matrix:\\n{matrix}\\n\\nShape:\\t{matrix.shape}\\nRank:\\t{matrix.ndim}\\n')\n"
      ],
      "metadata": {
        "id": "vS4lsBiAQXg_"
      },
      "execution_count": null,
      "outputs": []
    },
    {
      "cell_type": "code",
      "source": [
        "## Declearing a 2 x 2 matrix \n",
        "A = np.array([\n",
        "    [8,1],\n",
        "    [-1,-4]          \n",
        "])\n",
        "describe_mat(A)"
      ],
      "metadata": {
        "colab": {
          "base_uri": "https://localhost:8080/"
        },
        "id": "8B1RVTQ3QztL",
        "outputId": "37166b6c-ef52-4807-b567-bd73c3942c13"
      },
      "execution_count": null,
      "outputs": [
        {
          "output_type": "stream",
          "name": "stdout",
          "text": [
            "Matrix:\n",
            "[[ 8  1]\n",
            " [-1 -4]]\n",
            "\n",
            "Shape:\t(2, 2)\n",
            "Rank:\t2\n",
            "\n"
          ]
        }
      ]
    },
    {
      "cell_type": "code",
      "source": [
        "G = np.array([\n",
        "    [8,-3,4],\n",
        "    [5,10,-2]\n",
        "])\n",
        "describe_mat(G)\n"
      ],
      "metadata": {
        "colab": {
          "base_uri": "https://localhost:8080/"
        },
        "id": "gT7j1y3MR1hn",
        "outputId": "7da2990d-fea1-4ddc-8e61-c014022c9363"
      },
      "execution_count": null,
      "outputs": [
        {
          "output_type": "stream",
          "name": "stdout",
          "text": [
            "Matrix:\n",
            "[[ 8 -3  4]\n",
            " [ 5 10 -2]]\n",
            "\n",
            "Shape:\t(2, 3)\n",
            "Rank:\t2\n",
            "\n"
          ]
        }
      ]
    },
    {
      "cell_type": "code",
      "source": [
        "## Declearing a 3 x 2 matrix\n",
        "B = np.array([\n",
        "    [6, 0],\n",
        "    [1, 9],\n",
        "    [0, -1]\n",
        "])\n",
        "describe_mat(B)\n"
      ],
      "metadata": {
        "colab": {
          "base_uri": "https://localhost:8080/"
        },
        "id": "dkuGs1l9SaRt",
        "outputId": "e7c640c1-740b-407e-ba8e-3403c2d2b0eb"
      },
      "execution_count": null,
      "outputs": [
        {
          "output_type": "stream",
          "name": "stdout",
          "text": [
            "Matrix:\n",
            "[[ 6  0]\n",
            " [ 1  9]\n",
            " [ 0 -1]]\n",
            "\n",
            "Shape:\t(3, 2)\n",
            "Rank:\t2\n",
            "\n"
          ]
        }
      ]
    },
    {
      "cell_type": "code",
      "source": [
        "H = np.array([3,6,9,12])\n",
        "describe_mat(H)\n"
      ],
      "metadata": {
        "colab": {
          "base_uri": "https://localhost:8080/"
        },
        "id": "njct3-4qSx3y",
        "outputId": "493887bc-18e8-4f35-9ddd-22744a0cadad"
      },
      "execution_count": null,
      "outputs": [
        {
          "output_type": "stream",
          "name": "stdout",
          "text": [
            "Matrix:\n",
            "[ 3  6  9 12]\n",
            "\n",
            "Shape:\t(4,)\n",
            "Rank:\t1\n",
            "\n"
          ]
        }
      ]
    },
    {
      "cell_type": "markdown",
      "source": [
        "## Categorizing Matrices \n",
        "Matrices can be categorized in various of ways. Once might be according to their **shape** and another is according to their **element values**. We'll try to go through them."
      ],
      "metadata": {
        "id": "ECepFD6rTUeb"
      }
    },
    {
      "cell_type": "markdown",
      "source": [
        "###According to shape"
      ],
      "metadata": {
        "id": "KTLZZz7D335n"
      }
    },
    {
      "cell_type": "markdown",
      "source": [
        "###Row and Column Matrices\n",
        "Row and column matrices are common in vector and matrix computations. They can also represent row and column spaces of a bigger vector space. Row and column matrices are represented by a single column or single row. So with that being, the shape of row matrices would be 1 x *j*  and column matrices would be *i* x 1 ."
      ],
      "metadata": {
        "id": "LId2LYzOT1qX"
      }
    },
    {
      "cell_type": "code",
      "source": [
        "## Declaring a Row Matrix\n",
        "\n",
        "rowmatrix1D = np.array([\n",
        "    2, 4, -6, -8\n",
        "]) ## this is a 1-D Matrix with a shape of (3,), it's not really considered as a row matrix.\n",
        "row_mat_2D = np.array([\n",
        "    [2, 4, -6, -8]\n",
        "]) ## this is a 2-D Matrix with a shape of (1,3)\n",
        "describe_mat(rowmatrix1D)\n",
        "describe_mat(row_mat_2D)\n"
      ],
      "metadata": {
        "colab": {
          "base_uri": "https://localhost:8080/"
        },
        "id": "VFns7gavT6w5",
        "outputId": "3f542d9f-d46f-44a5-8c6d-85f790942073"
      },
      "execution_count": null,
      "outputs": [
        {
          "output_type": "stream",
          "name": "stdout",
          "text": [
            "Matrix:\n",
            "[ 2  4 -6 -8]\n",
            "\n",
            "Shape:\t(4,)\n",
            "Rank:\t1\n",
            "\n",
            "Matrix:\n",
            "[[ 2  4 -6 -8]]\n",
            "\n",
            "Shape:\t(1, 4)\n",
            "Rank:\t2\n",
            "\n"
          ]
        }
      ]
    },
    {
      "cell_type": "code",
      "source": [
        "## Describing a Column Matrix\n",
        "col_mat = np.array([\n",
        "    [3],\n",
        "    [7],\n",
        "    [10]\n",
        "]) ## this is a 2-D Matrix with a shape of (3,1)\n",
        "describe_mat(col_mat)\n"
      ],
      "metadata": {
        "colab": {
          "base_uri": "https://localhost:8080/"
        },
        "id": "RKn9vjgjUmma",
        "outputId": "8dfb069a-10af-4f15-e507-a809bc67390e"
      },
      "execution_count": null,
      "outputs": [
        {
          "output_type": "stream",
          "name": "stdout",
          "text": [
            "Matrix:\n",
            "[[ 3]\n",
            " [ 7]\n",
            " [10]]\n",
            "\n",
            "Shape:\t(3, 1)\n",
            "Rank:\t2\n",
            "\n"
          ]
        }
      ]
    },
    {
      "cell_type": "markdown",
      "source": [
        "###Square Matrices\n",
        "Matrixes with the same row and column sizes are known as square matrices. We could say a matrix is square if *i* = *j* . We can tweak our matrix descriptor function to determine square matrices."
      ],
      "metadata": {
        "id": "uxsdc1EkVQuI"
      }
    },
    {
      "cell_type": "code",
      "source": [
        "def describe_mat(matrix):\n",
        "    is_square = True if matrix.shape[0] == matrix.shape[1] else False \n",
        "    print(f'Matrix:\\n{matrix}\\n\\nShape:\\t{matrix.shape}\\nRank:\\t{matrix.ndim}\\nIs Square: {is_square}\\n')\n"
      ],
      "metadata": {
        "id": "M1cppQagVW2h"
      },
      "execution_count": null,
      "outputs": []
    },
    {
      "cell_type": "code",
      "source": [
        "square_mat = np.array([\n",
        "    [-1,2,3],\n",
        "    [4,-5,6],\n",
        "    [7,8,-9]\n",
        "])\n",
        "\n",
        "non_square_mat = np.array([\n",
        "    [1,-8,-9],\n",
        "    [-7,-3,8]\n",
        "])\n",
        "describe_mat(square_mat)\n",
        "describe_mat(non_square_mat)\n"
      ],
      "metadata": {
        "colab": {
          "base_uri": "https://localhost:8080/"
        },
        "id": "13vgpNlJVgVj",
        "outputId": "d77eefbc-ebe7-4ace-d1ba-7ec0f991866f"
      },
      "execution_count": null,
      "outputs": [
        {
          "output_type": "stream",
          "name": "stdout",
          "text": [
            "Matrix:\n",
            "[[-1  2  3]\n",
            " [ 4 -5  6]\n",
            " [ 7  8 -9]]\n",
            "\n",
            "Shape:\t(3, 3)\n",
            "Rank:\t2\n",
            "\n",
            "Matrix:\n",
            "[[ 1 -8 -9]\n",
            " [-7 -3  8]]\n",
            "\n",
            "Shape:\t(2, 3)\n",
            "Rank:\t2\n",
            "\n"
          ]
        }
      ]
    },
    {
      "cell_type": "markdown",
      "source": [
        "###According to element values"
      ],
      "metadata": {
        "id": "758dLuiM4zFC"
      }
    },
    {
      "cell_type": "markdown",
      "source": [
        "###Null Matrix\n",
        "A Null Matrix is a matrix that has no elements. It is always a subspace of any vector or matrix."
      ],
      "metadata": {
        "id": "mzloXYz7WRIZ"
      }
    },
    {
      "cell_type": "code",
      "source": [
        "def describe_mat(matrix):\n",
        "    if matrix.size > 0:\n",
        "        is_square = True if matrix.shape[0] == matrix.shape[1] else False \n",
        "        print(f'Matrix:\\n{matrix}\\n\\nShape:\\t{matrix.shape}\\nRank:\\t{matrix.ndim}\\nIs Square: {is_square}\\n')\n",
        "    else:\n",
        "        print('Matrix is Null')\n"
      ],
      "metadata": {
        "id": "suWzksrdWXn3"
      },
      "execution_count": null,
      "outputs": []
    },
    {
      "cell_type": "code",
      "source": [
        "null_mat = np.array([])\n",
        "describe_mat(null_mat)\n"
      ],
      "metadata": {
        "colab": {
          "base_uri": "https://localhost:8080/"
        },
        "id": "hxmrkbDCWdsE",
        "outputId": "0870f56c-2d39-4908-e138-898fb1b7a7a8"
      },
      "execution_count": null,
      "outputs": [
        {
          "output_type": "stream",
          "name": "stdout",
          "text": [
            "Matrix is Null\n"
          ]
        }
      ]
    },
    {
      "cell_type": "markdown",
      "source": [
        "###Zero Matrix\n",
        "A zero matrix can be any rectangular matrix with a value of 0 for all elements.\n"
      ],
      "metadata": {
        "id": "3tb1TteYXRC5"
      }
    },
    {
      "cell_type": "code",
      "source": [
        "zero_mat_row = np.zeros((1,2))\n",
        "zero_mat_sqr = np.zeros((2,2))\n",
        "zero_mat_rct = np.zeros((3,2))\n",
        "\n",
        "print(f'Zero Row Matrix: \\n{zero_mat_row}')\n",
        "print(f'Zero Square Matrix: \\n{zero_mat_sqr}')\n",
        "print(f'Zero Rectangular Matrix: \\n{zero_mat_rct}')\n"
      ],
      "metadata": {
        "colab": {
          "base_uri": "https://localhost:8080/"
        },
        "id": "hhDvwTJhXUVq",
        "outputId": "d5f5f1f0-4aa9-4855-e00c-93ee872ef142"
      },
      "execution_count": null,
      "outputs": [
        {
          "output_type": "stream",
          "name": "stdout",
          "text": [
            "Zero Row Matrix: \n",
            "[[0. 0.]]\n",
            "Zero Square Matrix: \n",
            "[[0. 0.]\n",
            " [0. 0.]]\n",
            "Zero Rectangular Matrix: \n",
            "[[0. 0.]\n",
            " [0. 0.]\n",
            " [0. 0.]]\n"
          ]
        }
      ]
    },
    {
      "cell_type": "markdown",
      "source": [
        "###Ones Matrix\n",
        "A ones matrix, like a zero matrix, can be any rectangular matrix with 1s instead of 0s in all of its elements."
      ],
      "metadata": {
        "id": "hk1d1nm2Xp-3"
      }
    },
    {
      "cell_type": "code",
      "source": [
        "ones_mat_row = np.ones((1,2))\n",
        "ones_mat_sqr = np.ones((2,2))\n",
        "ones_mat_rct = np.ones((3,2))\n",
        "\n",
        "print(f'Ones Row Matrix: \\n{ones_mat_row}')\n",
        "print(f'Ones Square Matrix: \\n{ones_mat_sqr}')\n",
        "print(f'Ones Rectangular Matrix: \\n{ones_mat_rct}')\n"
      ],
      "metadata": {
        "colab": {
          "base_uri": "https://localhost:8080/"
        },
        "id": "mMap7ZKeXuzp",
        "outputId": "40730856-b0b5-4802-a06b-6d8d14a65ec0"
      },
      "execution_count": null,
      "outputs": [
        {
          "output_type": "stream",
          "name": "stdout",
          "text": [
            "Ones Row Matrix: \n",
            "[[1. 1.]]\n",
            "Ones Square Matrix: \n",
            "[[1. 1.]\n",
            " [1. 1.]]\n",
            "Ones Rectangular Matrix: \n",
            "[[1. 1.]\n",
            " [1. 1.]\n",
            " [1. 1.]]\n"
          ]
        }
      ]
    },
    {
      "cell_type": "markdown",
      "source": [
        "###Diagonal Matrix\n",
        "A diagonal matrix is a square matrix that has values only at the diagonal of the matrix."
      ],
      "metadata": {
        "id": "EMTlEEKyX9L6"
      }
    },
    {
      "cell_type": "code",
      "source": [
        "np.array([\n",
        "    [2,0,0],\n",
        "    [0,8,0],\n",
        "    [0,0,-15]\n",
        "])\n",
        "# a[1,1], a[2,2], a[3,3], ... a[n-1,n-1]"
      ],
      "metadata": {
        "colab": {
          "base_uri": "https://localhost:8080/"
        },
        "id": "Wn6u1Hj3YAu2",
        "outputId": "3bce04e4-bc8f-4b60-aa75-cb606b7025ac"
      },
      "execution_count": null,
      "outputs": [
        {
          "output_type": "execute_result",
          "data": {
            "text/plain": [
              "array([[  2,   0,   0],\n",
              "       [  0,   8,   0],\n",
              "       [  0,   0, -15]])"
            ]
          },
          "metadata": {},
          "execution_count": 29
        }
      ]
    },
    {
      "cell_type": "code",
      "source": [
        "d = np.diag([1,-9,-4,1])\n",
        "#d.shape[0] == d.shape[1]\n",
        "d"
      ],
      "metadata": {
        "colab": {
          "base_uri": "https://localhost:8080/"
        },
        "id": "-togdGZvYMSM",
        "outputId": "1d08997a-dbfd-460c-a2ae-d29218605719"
      },
      "execution_count": null,
      "outputs": [
        {
          "output_type": "execute_result",
          "data": {
            "text/plain": [
              "array([[ 1,  0,  0,  0],\n",
              "       [ 0, -9,  0,  0],\n",
              "       [ 0,  0, -4,  0],\n",
              "       [ 0,  0,  0,  1]])"
            ]
          },
          "metadata": {},
          "execution_count": 31
        }
      ]
    },
    {
      "cell_type": "markdown",
      "source": [
        "###Identity Matrix\n",
        "An identity matrix is a special diagonal matrix in which the values at the diagonal are ones."
      ],
      "metadata": {
        "id": "s4myOfIkYz02"
      }
    },
    {
      "cell_type": "code",
      "source": [
        "np.eye(3)"
      ],
      "metadata": {
        "colab": {
          "base_uri": "https://localhost:8080/"
        },
        "id": "90kUar8rY4pY",
        "outputId": "8063445e-db12-4191-a396-4d83a872632a"
      },
      "execution_count": null,
      "outputs": [
        {
          "output_type": "execute_result",
          "data": {
            "text/plain": [
              "array([[1., 0., 0.],\n",
              "       [0., 1., 0.],\n",
              "       [0., 0., 1.]])"
            ]
          },
          "metadata": {},
          "execution_count": 25
        }
      ]
    },
    {
      "cell_type": "code",
      "source": [
        "np.identity(10)"
      ],
      "metadata": {
        "colab": {
          "base_uri": "https://localhost:8080/"
        },
        "id": "LP7aGh-TY-gG",
        "outputId": "afee7bc0-bfc3-46b6-cf3c-f6f79e982aa0"
      },
      "execution_count": null,
      "outputs": [
        {
          "output_type": "execute_result",
          "data": {
            "text/plain": [
              "array([[1., 0., 0., 0., 0., 0., 0., 0., 0., 0.],\n",
              "       [0., 1., 0., 0., 0., 0., 0., 0., 0., 0.],\n",
              "       [0., 0., 1., 0., 0., 0., 0., 0., 0., 0.],\n",
              "       [0., 0., 0., 1., 0., 0., 0., 0., 0., 0.],\n",
              "       [0., 0., 0., 0., 1., 0., 0., 0., 0., 0.],\n",
              "       [0., 0., 0., 0., 0., 1., 0., 0., 0., 0.],\n",
              "       [0., 0., 0., 0., 0., 0., 1., 0., 0., 0.],\n",
              "       [0., 0., 0., 0., 0., 0., 0., 1., 0., 0.],\n",
              "       [0., 0., 0., 0., 0., 0., 0., 0., 1., 0.],\n",
              "       [0., 0., 0., 0., 0., 0., 0., 0., 0., 1.]])"
            ]
          },
          "metadata": {},
          "execution_count": 26
        }
      ]
    },
    {
      "cell_type": "markdown",
      "source": [
        "###Upper Triangular Matrix\n",
        "An upper triangular matrix is a matrix that has no values below the diagonal."
      ],
      "metadata": {
        "id": "YiB1wmpjZRGA"
      }
    },
    {
      "cell_type": "code",
      "source": [
        "np.array([\n",
        "    [1,2,3,4],\n",
        "    [0,3,1,-1],\n",
        "    [0,0,5,2],\n",
        "    [0,0,0,2]\n",
        "])\n"
      ],
      "metadata": {
        "colab": {
          "base_uri": "https://localhost:8080/"
        },
        "id": "fdO_wjIWZYUt",
        "outputId": "2db03efa-b024-4923-e645-5b6d0d36981b"
      },
      "execution_count": null,
      "outputs": [
        {
          "output_type": "execute_result",
          "data": {
            "text/plain": [
              "array([[ 1,  2,  3,  4],\n",
              "       [ 0,  3,  1, -1],\n",
              "       [ 0,  0,  5,  2],\n",
              "       [ 0,  0,  0,  2]])"
            ]
          },
          "metadata": {},
          "execution_count": 27
        }
      ]
    },
    {
      "cell_type": "code",
      "source": [
        "F = np.array([\n",
        "              [2, -3, 4, -5, 6],\n",
        "              [2, -3, 4, -5, 6],\n",
        "              [2, -3, 4, -5, 6],\n",
        "              [2, -3, 4, -5, 6],\n",
        "              [2, -3, 4, -5, 6],\n",
        "])\n",
        "np.triu(F)\n"
      ],
      "metadata": {
        "colab": {
          "base_uri": "https://localhost:8080/"
        },
        "id": "4o5i43q5Z3wW",
        "outputId": "81988841-3af9-4f8f-ab65-d10889370e85"
      },
      "execution_count": null,
      "outputs": [
        {
          "output_type": "execute_result",
          "data": {
            "text/plain": [
              "array([[ 2, -3,  4, -5,  6],\n",
              "       [ 0, -3,  4, -5,  6],\n",
              "       [ 0,  0,  4, -5,  6],\n",
              "       [ 0,  0,  0, -5,  6],\n",
              "       [ 0,  0,  0,  0,  6]])"
            ]
          },
          "metadata": {},
          "execution_count": 28
        }
      ]
    },
    {
      "cell_type": "markdown",
      "source": [
        "###Lower Triangular Matrix\n",
        "A lower triangular matrix is a matrix that has no values above the diagonal."
      ],
      "metadata": {
        "id": "Exk7recSaNT3"
      }
    },
    {
      "cell_type": "code",
      "source": [
        "np.tril(F)\n"
      ],
      "metadata": {
        "colab": {
          "base_uri": "https://localhost:8080/"
        },
        "id": "zEfTXqAQaY_5",
        "outputId": "037a381a-03fe-4db7-87e4-513ca8810222"
      },
      "execution_count": null,
      "outputs": [
        {
          "output_type": "execute_result",
          "data": {
            "text/plain": [
              "array([[ 2,  0,  0,  0,  0],\n",
              "       [ 2, -3,  0,  0,  0],\n",
              "       [ 2, -3,  4,  0,  0],\n",
              "       [ 2, -3,  4, -5,  0],\n",
              "       [ 2, -3,  4, -5,  6]])"
            ]
          },
          "metadata": {},
          "execution_count": 29
        }
      ]
    },
    {
      "cell_type": "code",
      "source": [
        "np.array([\n",
        "          [1,0,0],\n",
        "          [5,3,0],\n",
        "          [7,8,5]\n",
        "])"
      ],
      "metadata": {
        "colab": {
          "base_uri": "https://localhost:8080/"
        },
        "id": "hCG5O3Ctaev4",
        "outputId": "f3b1d5c1-79eb-4fb7-dfb6-951b829aed2f"
      },
      "execution_count": null,
      "outputs": [
        {
          "output_type": "execute_result",
          "data": {
            "text/plain": [
              "array([[1, 0, 0],\n",
              "       [5, 3, 0],\n",
              "       [7, 8, 5]])"
            ]
          },
          "metadata": {},
          "execution_count": 30
        }
      ]
    },
    {
      "cell_type": "markdown",
      "source": [
        "##Practice"
      ],
      "metadata": {
        "id": "iEVGisrabAO0"
      }
    },
    {
      "cell_type": "markdown",
      "source": [
        "1. Given the linear combination below, try to create a corresponding matrix representing it.\n"
      ],
      "metadata": {
        "id": "gQo2r6B0bJcA"
      }
    },
    {
      "cell_type": "markdown",
      "source": [
        ":$$\\theta = 5x + 3y - z$$\n"
      ],
      "metadata": {
        "id": "nTyzV15TbNz5"
      }
    },
    {
      "cell_type": "markdown",
      "source": [
        "$$\\theta =\\begin{bmatrix} 5 & 3 & -1\\end{bmatrix}\\\\ $$"
      ],
      "metadata": {
        "id": "kq84kFWCbIqX"
      }
    },
    {
      "cell_type": "markdown",
      "source": [
        "2. Given the system of linear combinations below, try to encode it as a matrix. Also describe the matrix.\n"
      ],
      "metadata": {
        "id": "ftZU0LCabTh0"
      }
    },
    {
      "cell_type": "markdown",
      "source": [
        "$$\n",
        "A = \\left\\{\\begin{array}\n",
        "5x_1 + 2x_2 +x_3\\\\\n",
        "4x_2 - x_3\\\\\n",
        "10x_3\n",
        "\\end{array}\\right.\n",
        "$$\n"
      ],
      "metadata": {
        "id": "2VBPK6oObXMG"
      }
    },
    {
      "cell_type": "code",
      "source": [
        "A = np.array([\n",
        "    [1, 2, 1],\n",
        "    [0, 4, -1],\n",
        "    [0, 0, 10]\n",
        "])\n",
        "A"
      ],
      "metadata": {
        "colab": {
          "base_uri": "https://localhost:8080/"
        },
        "id": "fOX-AXUw_uLf",
        "outputId": "cf386359-669c-400e-b2e4-8e7e41410781"
      },
      "execution_count": null,
      "outputs": [
        {
          "output_type": "execute_result",
          "data": {
            "text/plain": [
              "array([[ 1,  2,  1],\n",
              "       [ 0,  4, -1],\n",
              "       [ 0,  0, 10]])"
            ]
          },
          "metadata": {},
          "execution_count": 5
        }
      ]
    },
    {
      "cell_type": "markdown",
      "source": [
        "The above matrix is considered as Upper Triangular Matrix since all the elements below the main diagonal are zeros.  "
      ],
      "metadata": {
        "id": "k4D1dzsNgZpr"
      }
    },
    {
      "cell_type": "markdown",
      "source": [
        "3. Given the matrix below, express it as a linear combination in a markdown."
      ],
      "metadata": {
        "id": "UhDrP6z3bYyI"
      }
    },
    {
      "cell_type": "code",
      "source": [
        "G = np.array([ \n",
        "    [1,7,8], \n",
        "    [2,2,2], \n",
        "    [4,6,7] \n",
        "])\n"
      ],
      "metadata": {
        "id": "Ge9Mgz-y8Fvp"
      },
      "execution_count": null,
      "outputs": []
    },
    {
      "cell_type": "markdown",
      "source": [
        "$$\n",
        "G = \\left\\{\\begin{array}\n",
        "1x + 7y + 8z\\\\\n",
        "2x + 2y + 2z\\\\\n",
        "4x + 6y + 7z\n",
        "\\end{array}\\right.\n",
        "$$\n"
      ],
      "metadata": {
        "id": "hTDknR2I_GZR"
      }
    },
    {
      "cell_type": "markdown",
      "source": [
        "4. Given the matrix below, display the output as a LaTeX markdown also express it as a system of linear combinations.\n"
      ],
      "metadata": {
        "id": "UXTiKj1-bfd5"
      }
    },
    {
      "cell_type": "code",
      "source": [
        "H = np.tril(G)\n",
        "H"
      ],
      "metadata": {
        "colab": {
          "base_uri": "https://localhost:8080/"
        },
        "id": "q4m8U-Vx8sJg",
        "outputId": "df57dc0b-6cd6-4151-8537-9c0dea57158e"
      },
      "execution_count": null,
      "outputs": [
        {
          "output_type": "execute_result",
          "data": {
            "text/plain": [
              "array([[1, 0, 0],\n",
              "       [2, 2, 0],\n",
              "       [4, 6, 7]])"
            ]
          },
          "metadata": {},
          "execution_count": 7
        }
      ]
    },
    {
      "cell_type": "markdown",
      "source": [
        "$$\n",
        "H = \\begin{bmatrix} \n",
        "1 & 0 & 0 \\\\\n",
        "2 & 2 & 0\\\\\n",
        "4 & 6 & 7 \\\\\n",
        "\\end{bmatrix}\n",
        "$$\n",
        "\n",
        "$$\n",
        "H = \\left\\{\\begin{array}\n",
        "1x \\\\\n",
        "2x + 2y\\\\\n",
        "4x + 6y + 7z\n",
        "\\end{array}\\right.\n",
        "$$\n",
        "\n"
      ],
      "metadata": {
        "id": "tq1CSo5pAy_c"
      }
    },
    {
      "cell_type": "markdown",
      "source": [
        "##Matrix Algebra"
      ],
      "metadata": {
        "id": "VJsCc30o87o7"
      }
    },
    {
      "cell_type": "markdown",
      "source": [
        "###Addition"
      ],
      "metadata": {
        "id": "9AScxCjF9DrI"
      }
    },
    {
      "cell_type": "code",
      "source": [
        "A = np.array([\n",
        "    [1,2],\n",
        "    [2,3],\n",
        "    [4,1]\n",
        "])\n",
        "B = np.array([\n",
        "    [2,2],\n",
        "    [0,0],\n",
        "    [1,1]\n",
        "])\n",
        "A+B"
      ],
      "metadata": {
        "colab": {
          "base_uri": "https://localhost:8080/"
        },
        "id": "Fd2hLN5m9LDZ",
        "outputId": "14d7011f-c3ff-4bee-c78b-697507a074e9"
      },
      "execution_count": null,
      "outputs": [
        {
          "output_type": "execute_result",
          "data": {
            "text/plain": [
              "array([[3, 4],\n",
              "       [2, 3],\n",
              "       [5, 2]])"
            ]
          },
          "metadata": {},
          "execution_count": 8
        }
      ]
    },
    {
      "cell_type": "code",
      "source": [
        "2+A ##Broadcasting\n",
        "# 2*np.ones(A.shape)+A"
      ],
      "metadata": {
        "colab": {
          "base_uri": "https://localhost:8080/"
        },
        "id": "cmBEG4DY9PXj",
        "outputId": "5140dd1c-7bb2-4873-f904-b78c0745e816"
      },
      "execution_count": null,
      "outputs": [
        {
          "output_type": "execute_result",
          "data": {
            "text/plain": [
              "array([[3, 4],\n",
              "       [4, 5],\n",
              "       [6, 3]])"
            ]
          },
          "metadata": {},
          "execution_count": 9
        }
      ]
    },
    {
      "cell_type": "markdown",
      "source": [
        "###Subtraction"
      ],
      "metadata": {
        "id": "tCY9OxNT9X0t"
      }
    },
    {
      "cell_type": "code",
      "source": [
        "A-B"
      ],
      "metadata": {
        "colab": {
          "base_uri": "https://localhost:8080/"
        },
        "id": "A3YBul0Z9b8p",
        "outputId": "b61fd5a0-ebae-4d18-ffd4-b2424158e2c5"
      },
      "execution_count": null,
      "outputs": [
        {
          "output_type": "execute_result",
          "data": {
            "text/plain": [
              "array([[-1,  0],\n",
              "       [ 2,  3],\n",
              "       [ 3,  0]])"
            ]
          },
          "metadata": {},
          "execution_count": 10
        }
      ]
    },
    {
      "cell_type": "code",
      "source": [
        "3-B == 3*np.ones(B.shape)-B"
      ],
      "metadata": {
        "colab": {
          "base_uri": "https://localhost:8080/"
        },
        "id": "Cg7Bw-Uw9edy",
        "outputId": "b76afc0b-6132-4847-b48b-dd3e44401d66"
      },
      "execution_count": null,
      "outputs": [
        {
          "output_type": "execute_result",
          "data": {
            "text/plain": [
              "array([[ True,  True],\n",
              "       [ True,  True],\n",
              "       [ True,  True]])"
            ]
          },
          "metadata": {},
          "execution_count": 11
        }
      ]
    },
    {
      "cell_type": "markdown",
      "source": [
        "###Element-wise Multiplication\n",
        "\n",
        "\n",
        "\n",
        "\n",
        "\n"
      ],
      "metadata": {
        "id": "7M8fpb5-9iYX"
      }
    },
    {
      "cell_type": "code",
      "source": [
        "A*B"
      ],
      "metadata": {
        "colab": {
          "base_uri": "https://localhost:8080/"
        },
        "id": "4FwgPcej9qU_",
        "outputId": "543fc2cd-4b16-483d-9b83-88c9cbabf95c"
      },
      "execution_count": null,
      "outputs": [
        {
          "output_type": "execute_result",
          "data": {
            "text/plain": [
              "array([[2, 4],\n",
              "       [0, 0],\n",
              "       [4, 1]])"
            ]
          },
          "metadata": {},
          "execution_count": 12
        }
      ]
    },
    {
      "cell_type": "code",
      "source": [
        "2*A"
      ],
      "metadata": {
        "colab": {
          "base_uri": "https://localhost:8080/"
        },
        "id": "F0tMOr3a9u8F",
        "outputId": "99a6a26c-3aba-4590-a657-d6f2afadeeaf"
      },
      "execution_count": null,
      "outputs": [
        {
          "output_type": "execute_result",
          "data": {
            "text/plain": [
              "array([[2, 4],\n",
              "       [4, 6],\n",
              "       [8, 2]])"
            ]
          },
          "metadata": {},
          "execution_count": 13
        }
      ]
    },
    {
      "cell_type": "code",
      "source": [
        "A@B"
      ],
      "metadata": {
        "colab": {
          "base_uri": "https://localhost:8080/",
          "height": 165
        },
        "id": "lIJETK5n9xrx",
        "outputId": "bb6d1302-3036-4388-ed52-ff65c5d46168"
      },
      "execution_count": null,
      "outputs": [
        {
          "output_type": "error",
          "ename": "ValueError",
          "evalue": "ignored",
          "traceback": [
            "\u001b[0;31m---------------------------------------------------------------------------\u001b[0m",
            "\u001b[0;31mValueError\u001b[0m                                Traceback (most recent call last)",
            "\u001b[0;32m<ipython-input-7-5016aafd2858>\u001b[0m in \u001b[0;36m<module>\u001b[0;34m()\u001b[0m\n\u001b[0;32m----> 1\u001b[0;31m \u001b[0mA\u001b[0m\u001b[0;34m@\u001b[0m\u001b[0mB\u001b[0m\u001b[0;34m\u001b[0m\u001b[0;34m\u001b[0m\u001b[0m\n\u001b[0m",
            "\u001b[0;31mValueError\u001b[0m: matmul: Input operand 1 has a mismatch in its core dimension 0, with gufunc signature (n?,k),(k,m?)->(n?,m?) (size 3 is different from 5)"
          ]
        }
      ]
    },
    {
      "cell_type": "code",
      "source": [
        "alpha=10**-10\n",
        "A/(alpha+B)"
      ],
      "metadata": {
        "colab": {
          "base_uri": "https://localhost:8080/"
        },
        "id": "Do8vJiuR91_5",
        "outputId": "dce1de5f-7116-445d-8889-03217379bae8"
      },
      "execution_count": null,
      "outputs": [
        {
          "output_type": "execute_result",
          "data": {
            "text/plain": [
              "array([[5.e-01, 1.e+00],\n",
              "       [2.e+10, 3.e+10],\n",
              "       [4.e+00, 1.e+00]])"
            ]
          },
          "metadata": {},
          "execution_count": 15
        }
      ]
    },
    {
      "cell_type": "code",
      "source": [
        "np.add(A,B)"
      ],
      "metadata": {
        "colab": {
          "base_uri": "https://localhost:8080/"
        },
        "id": "P35ovUU-9-E_",
        "outputId": "82a13f96-ba4c-44ff-f5a1-3cd3ac2a1172"
      },
      "execution_count": null,
      "outputs": [
        {
          "output_type": "execute_result",
          "data": {
            "text/plain": [
              "array([[3, 4],\n",
              "       [2, 3],\n",
              "       [5, 2]])"
            ]
          },
          "metadata": {},
          "execution_count": 16
        }
      ]
    },
    {
      "cell_type": "markdown",
      "source": [
        "##**Activity**"
      ],
      "metadata": {
        "id": "DhPBvcR8-Een"
      }
    },
    {
      "cell_type": "markdown",
      "source": [
        "###**Task 1**\n",
        "Create a function named mat_desc() that througouhly describes a matrix, it should:\n",
        "1. Displays the shape, size, and rank of the matrix.\n",
        "2. Displays whether the matrix is square or non-square.\n",
        "3. Displays whether the matrix is an empty matrix.\n",
        "4. Displays if the matrix is an identity, ones, or zeros matrix\n",
        "\n",
        "Use 5 sample matrices in which their shapes are not lower than **(3,3)**. In your methodology, create a flowchart discuss the functions and methods you have done. Present your results in the results section showing the description of each matrix you have declared."
      ],
      "metadata": {
        "id": "M9iyYp4W-GoD"
      }
    },
    {
      "cell_type": "markdown",
      "source": [
        "####Matrix Declaration"
      ],
      "metadata": {
        "id": "O-s3EAFKTxRl"
      }
    },
    {
      "cell_type": "code",
      "source": [
        "A = np.array([\n",
        "    [1, 0, 0, 0, 0],\n",
        "    [0, 1, 0, 0, 0],\n",
        "    [0, 0, 1, 0, 0],\n",
        "    [0, 0, 0, 1, 0],\n",
        "    [0, 0, 0, 0, 1],     \n",
        "])\n",
        "B = np.array([\n",
        "    [1, 1, 1],\n",
        "    [1, 1, 1],\n",
        "    [1, 1, 1],    \n",
        "])\n",
        "C = np.zeros((4,6))\n",
        "D = np.identity((6))\n",
        "E = np.ones((4,5))"
      ],
      "metadata": {
        "id": "M3i9Uv6_T3V7"
      },
      "execution_count": null,
      "outputs": []
    },
    {
      "cell_type": "markdown",
      "source": [
        "####Function Area"
      ],
      "metadata": {
        "id": "xyyAMsC8T-Sf"
      }
    },
    {
      "cell_type": "code",
      "source": [
        "def mat_desc(matrix):\n",
        "        print(f'Matrix:\\n{matrix}\\n\\nShape:\\t{matrix.shape}\\nSize:\\t{matrix.size}\\nRank:\\t{matrix.ndim}\\n')\n",
        "        square = False\n",
        "        if (matrix.shape[0] == matrix.shape[1]):\n",
        "          square = True\n",
        "          print('The matrix is square')   \n",
        "        else:\n",
        "          print('The matrix is non-square') \n",
        "        if (matrix.shape[0] == 0 and matrix.shape[1] == 0):\n",
        "          print('The matrix is empty')\n",
        "        else: \n",
        "          print('The matrix is not empty')  \n",
        "        identity = np.identity(matrix.shape[0])\n",
        "        if (square and (identity == matrix).all()):\n",
        "          print('Identity Matrix\\n\\n')\n",
        "        else:\n",
        "          print()\n",
        "        one = np.ones((matrix.shape[0], matrix.shape[1]))\n",
        "        if ((one == matrix).all()):\n",
        "          print(end = 'Ones Matrix\\n\\n')\n",
        "        else:\n",
        "          print('')\n",
        "        zero = np.zeros((matrix.shape[0], matrix.shape[1])) \n",
        "        if ((zero == matrix).all()):\n",
        "          print('Zeros Matrix \\n\\n')\n",
        "        else:\n",
        "          print('')\n",
        " "
      ],
      "metadata": {
        "id": "3C-u-hEhkx__"
      },
      "execution_count": null,
      "outputs": []
    },
    {
      "cell_type": "markdown",
      "source": [
        "####Test Areas"
      ],
      "metadata": {
        "id": "RSAsnbH9tPLo"
      }
    },
    {
      "cell_type": "code",
      "source": [
        "mat_desc(A)"
      ],
      "metadata": {
        "colab": {
          "base_uri": "https://localhost:8080/"
        },
        "id": "fvkjMQDck0h5",
        "outputId": "e0de0b7a-6cf4-4fc6-9f04-d1bfcee5cc5e"
      },
      "execution_count": null,
      "outputs": [
        {
          "output_type": "stream",
          "name": "stdout",
          "text": [
            "Matrix:\n",
            "[[1 0 0 0 0]\n",
            " [0 1 0 0 0]\n",
            " [0 0 1 0 0]\n",
            " [0 0 0 1 0]\n",
            " [0 0 0 0 1]]\n",
            "\n",
            "Shape:\t(5, 5)\n",
            "Size:\t25\n",
            "Rank:\t2\n",
            "\n",
            "The matrix is square\n",
            "The matrix is not empty\n",
            "Identity Matrix\n",
            "\n",
            "\n",
            "\n",
            "\n"
          ]
        }
      ]
    },
    {
      "cell_type": "code",
      "source": [
        "mat_desc(B)"
      ],
      "metadata": {
        "colab": {
          "base_uri": "https://localhost:8080/"
        },
        "id": "z1hz4bhxk4zM",
        "outputId": "22d4dfca-4cf0-4fe7-bbf9-8e7100d0f552"
      },
      "execution_count": null,
      "outputs": [
        {
          "output_type": "stream",
          "name": "stdout",
          "text": [
            "Matrix:\n",
            "[[1 1 1]\n",
            " [1 1 1]\n",
            " [1 1 1]]\n",
            "\n",
            "Shape:\t(3, 3)\n",
            "Size:\t9\n",
            "Rank:\t2\n",
            "\n",
            "The matrix is square\n",
            "The matrix is not empty\n",
            "\n",
            "Ones Matrix\n",
            "\n",
            "\n"
          ]
        }
      ]
    },
    {
      "cell_type": "code",
      "source": [
        "mat_desc(C)"
      ],
      "metadata": {
        "colab": {
          "base_uri": "https://localhost:8080/"
        },
        "id": "QG_vaFuuk9cB",
        "outputId": "88273a34-7eff-491c-f98d-847ad0dbc244"
      },
      "execution_count": null,
      "outputs": [
        {
          "output_type": "stream",
          "name": "stdout",
          "text": [
            "Matrix:\n",
            "[[0. 0. 0. 0. 0. 0.]\n",
            " [0. 0. 0. 0. 0. 0.]\n",
            " [0. 0. 0. 0. 0. 0.]\n",
            " [0. 0. 0. 0. 0. 0.]]\n",
            "\n",
            "Shape:\t(4, 6)\n",
            "Size:\t24\n",
            "Rank:\t2\n",
            "\n",
            "The matrix is non-square\n",
            "The matrix is not empty\n",
            "\n",
            "\n",
            "Zeros Matrix \n",
            "\n",
            "\n"
          ]
        }
      ]
    },
    {
      "cell_type": "markdown",
      "source": [
        "####Flowchart\n",
        "![275283901_1027050071555935_8141025266995687118_n.jpg](data:image/jpeg;base64,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)"
      ],
      "metadata": {
        "id": "hUVLRaiVa1Wb"
      }
    },
    {
      "cell_type": "markdown",
      "source": [
        "###**Task 2**\n",
        "Create a function named mat_operations() that takes in two matrices a input parameters it should:\n",
        "\n",
        "1. Determines if the matrices are viable for operation and returns your own error message if they are not viable.\n",
        "2. Returns the sum of the matrices.\n",
        "3. Returns the differen of the matrices.\n",
        "4. Returns the element-wise multiplication of the matrices.\n",
        "5. Returns the element-wise division of the matrices.\n",
        "\n",
        "\n",
        "Use 5 sample matrices in which their shapes are not lower than **(3,3)**. In your methodology, create a flowchart discuss the functions and methods you have done. Present your results in the results section showing the description of each matrix you have declared.\n",
        "\n"
      ],
      "metadata": {
        "id": "aIKXmflx6Y_h"
      }
    },
    {
      "cell_type": "markdown",
      "source": [
        "####Function Area"
      ],
      "metadata": {
        "id": "jGXqiH1htp6p"
      }
    },
    {
      "cell_type": "code",
      "source": [
        "def mat_operations(K,J,L,M,N):\n",
        "  if (K.shape != J.shape != L.shape != M.shape != N.shape ):\n",
        "    print('The shape of both matrices are not the same. You will not able to perform operations')\n",
        "  elif (K.shape == J.shape or J.shape == L.shape  or L.shape == M.shape or M.shape == N.shape or K.shape == N.shape ):\n",
        "    print('The matrices are viable.')\n",
        "  else:\n",
        "    print('The matrix is empty')"
      ],
      "metadata": {
        "id": "ebH2zkXutniD"
      },
      "execution_count": null,
      "outputs": []
    },
    {
      "cell_type": "markdown",
      "source": [
        "####Matrix Declaration"
      ],
      "metadata": {
        "id": "Udk9scf6triG"
      }
    },
    {
      "cell_type": "code",
      "source": [
        "K = np.array([\n",
        "    [2,8,7],\n",
        "    [-2,4,6],\n",
        "    [6,8,6]\n",
        "])\n",
        "J = np.array([\n",
        "    [3,3,3],\n",
        "    [2,4,2],\n",
        "    [5,6,6]\n",
        "])\n",
        "L = np.array([\n",
        "    [7,-3,13],\n",
        "    [0,9,-2],\n",
        "    [-5,1,8],\n",
        "])\n",
        "M = np.array([\n",
        "    [2,-5,-11,0],\n",
        "    [-9,4,6,13],\n",
        "    [4,7,12,-2],\n",
        "])\n",
        "N = np.array([\n",
        "    [1,4,5,12],\n",
        "    [-5,8,9,0],\n",
        "    [-6,7,11,19]\n",
        "])\n"
      ],
      "metadata": {
        "id": "KmbJUmkftvrp"
      },
      "execution_count": null,
      "outputs": []
    },
    {
      "cell_type": "markdown",
      "source": [
        "####Test Areas"
      ],
      "metadata": {
        "id": "9VYKd1M8uDfv"
      }
    },
    {
      "cell_type": "code",
      "source": [
        "ksum = K + L\n",
        "print('The sum of the given matrices: \\n', ksum)\n",
        "mat_operations(K,J,L,M,N)\n"
      ],
      "metadata": {
        "colab": {
          "base_uri": "https://localhost:8080/"
        },
        "id": "-rO8Oy87tnd6",
        "outputId": "3b9736d2-3b85-4339-b4a0-86125cb4cac9"
      },
      "execution_count": null,
      "outputs": [
        {
          "output_type": "stream",
          "name": "stdout",
          "text": [
            "The sum of the given matrices: \n",
            " [[ 9  5 20]\n",
            " [-2 13  4]\n",
            " [ 1  9 14]]\n",
            "The matrices are viable.\n"
          ]
        }
      ]
    },
    {
      "cell_type": "code",
      "source": [
        "kdiff = M - N \n",
        "print('The difference of the given matrices: \\n', kdiff)\n",
        "mat_operations(K,J,L,M,N)"
      ],
      "metadata": {
        "colab": {
          "base_uri": "https://localhost:8080/"
        },
        "id": "5VaLlgnyuLuf",
        "outputId": "ea67a50a-dc57-4758-9d7b-cada5218a359"
      },
      "execution_count": null,
      "outputs": [
        {
          "output_type": "stream",
          "name": "stdout",
          "text": [
            "The difference of the given matrices: \n",
            " [[-1  5  4]\n",
            " [-4  0  4]\n",
            " [ 1  2  0]]\n",
            "The matrices are viable.\n"
          ]
        }
      ]
    },
    {
      "cell_type": "code",
      "source": [
        "kmul = np.multiply(M,N)\n",
        "print('The element-wise multiplication of the given matrices: \\n', kmul)\n",
        "mat_operations(K,J, L, M, N)"
      ],
      "metadata": {
        "colab": {
          "base_uri": "https://localhost:8080/"
        },
        "id": "hqRLgVNUuOD_",
        "outputId": "0f4e05e2-26f9-4f59-88b2-98856e267f01"
      },
      "execution_count": null,
      "outputs": [
        {
          "output_type": "stream",
          "name": "stdout",
          "text": [
            "The element-wise multiplication of the given matrices: \n",
            " [[  2 -20 -55   0]\n",
            " [ 45  32  54   0]\n",
            " [-24  49 132 -38]]\n",
            "The matrices are viable.\n"
          ]
        }
      ]
    },
    {
      "cell_type": "code",
      "source": [
        "kdiv = np.divide(K,J)\n",
        "print('The element-wise division of the given matrices: \\n', kdiv)\n",
        "mat_operations(K,J,L,M,N)"
      ],
      "metadata": {
        "colab": {
          "base_uri": "https://localhost:8080/"
        },
        "id": "5lh0f1XquP4H",
        "outputId": "ed7e40c7-c0f7-4993-884d-5001087beeeb"
      },
      "execution_count": null,
      "outputs": [
        {
          "output_type": "stream",
          "name": "stdout",
          "text": [
            "The element-wise division of the given matrices: \n",
            " [[ 0.66666667  2.66666667  2.33333333]\n",
            " [-1.          1.          3.        ]\n",
            " [ 1.2         1.33333333  1.        ]]\n",
            "The matrices are viable.\n"
          ]
        }
      ]
    },
    {
      "cell_type": "markdown",
      "source": [
        "####Flowchart\n",
        "![275374310_291696253093341_5472027358629509411_n.jpg](data:image/jpeg;base64,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)"
      ],
      "metadata": {
        "id": "R3_ynDtKbp9B"
      }
    },
    {
      "cell_type": "markdown",
      "source": [
        "##**Conclusion**\n",
        "For your conclusion synthesize the concept and application of the laboratory. Briefly discuss what you have learned and achieved in this activity. Also answer the question: \"How can matrix operations solve problems in technology?\"."
      ],
      "metadata": {
        "id": "aca9lxQK7Dfm"
      }
    },
    {
      "cell_type": "markdown",
      "source": [
        "Matrices have a wide range of applications in various branches of mathematics; in fields like engineering, physics, economics, and statistics. It may be used to write and deal with many linear equations, often known as a system of linear equations, in a compact manner. The numbers in a matrix can represent both data and mathematical equations. \n",
        "Considering that we live in the era of advanced technologies, and we use modern inventions in our everyday life to analyze things to solve a problem, we need tools like matrices that we can utilize, such as in linear programming, where we can use to predict. Matrices can be used to analyze things to solve problems and can be applied to develop different technologies. In this activity, students learned how to apply operations on matrices. They also discussed how to determine the shapes of it and how important to know first the shape of the matrix to determine if an operation can be applied to it. Also, they comprehend different matrices and their functions using Python programming. Furthermore, the students were able to apply the learnings in creating two programs; where they declare matrices, display shape, rank, and size, and lastly, they use different mathematical operations in the declared matrices. With that, we can say that matrix operations are a much more efficient solution in technology. \n"
      ],
      "metadata": {
        "id": "wA9GblDPgHgK"
      }
    }
  ]
}
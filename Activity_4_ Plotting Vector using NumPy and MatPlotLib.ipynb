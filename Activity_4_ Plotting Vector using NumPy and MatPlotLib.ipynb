{
  "nbformat": 4,
  "nbformat_minor": 0,
  "metadata": {
    "colab": {
      "name": "Assignment 9.ipynb",
      "provenance": [],
      "authorship_tag": "ABX9TyPFSEAFjdAudSTaQpN+1lU0",
      "include_colab_link": true
    },
    "kernelspec": {
      "name": "python3",
      "display_name": "Python 3"
    },
    "language_info": {
      "name": "python"
    }
  },
  "cells": [
    {
      "cell_type": "markdown",
      "metadata": {
        "id": "view-in-github",
        "colab_type": "text"
      },
      "source": [
        "<a href=\"https://colab.research.google.com/github/Jlrys/Linear-Algebra_ChE_2nd-Sem-2021-2022/blob/main/Activity_4_%20Plotting%20Vector%20using%20NumPy%20and%20MatPlotLib.ipynb\" target=\"_parent\"><img src=\"https://colab.research.google.com/assets/colab-badge.svg\" alt=\"Open In Colab\"/></a>"
      ]
    },
    {
      "cell_type": "markdown",
      "source": [
        "#Plotting Vector using NumPy and MatPlotLib"
      ],
      "metadata": {
        "id": "n2u_EtwWkbCu"
      }
    },
    {
      "cell_type": "markdown",
      "source": [
        "In this laboratory we will be discussing the basics of numerical and scientific programming by working with Vectors using NumPy and MatPlotLib."
      ],
      "metadata": {
        "id": "X0WPOXJmkueh"
      }
    },
    {
      "cell_type": "markdown",
      "source": [
        "## Discussion"
      ],
      "metadata": {
        "id": "yOhoje2O_dME"
      }
    },
    {
      "cell_type": "markdown",
      "source": [
        "### Objectives\n",
        "At the end of this activity you will be able to:\n",
        "1. Be familiar with the libraries in Python for numerical and scientific programming.\n",
        "2. Visualize vectors through Python programming.\n",
        "3. Perform simple vector operations through code.\n"
      ],
      "metadata": {
        "id": "wedl4tCJkzY1"
      }
    },
    {
      "cell_type": "markdown",
      "source": [
        "###Numpy"
      ],
      "metadata": {
        "id": "fnhahToVk7jU"
      }
    },
    {
      "cell_type": "markdown",
      "source": [
        "NumPy or Numerical Python, is mainly used for matrix and vector operations. It is capable of declaring computing and representing matrices. Most Python scientific programming libraries uses NumPy as the basic code.\n",
        "\n",
        "Scalars \\\\\n",
        "Represent magnitude or a single value\n",
        "\n",
        "Vectors \\\\\n",
        "Represent magnitude with directors"
      ],
      "metadata": {
        "id": "5yv7ira7_i_B"
      }
    },
    {
      "cell_type": "markdown",
      "source": [
        "####Representing Vectors"
      ],
      "metadata": {
        "id": "7gdEtn-qlEac"
      }
    },
    {
      "cell_type": "markdown",
      "source": [
        "Now that you know how to represent vectors using their component and matrix form we can now hard-code them in Python. Let's say that you have the vectors:\n",
        "\n",
        "$$ L = -7\\hat{x} + 8\\hat{y} \\\\\n",
        "   M = 4\\hat{x} + 3\\hat{y}\\\\\n",
        "   N = 9ax + 5ay - 4az \\\\\n",
        "   O = 6\\hat{i} - 3\\hat{j} - 7\\hat{k}\n",
        "$$\n"
      ],
      "metadata": {
        "id": "aCh4FOA1lFcp"
      }
    },
    {
      "cell_type": "markdown",
      "source": [
        "In which it's matrix equivalent is:\n",
        "$$ \n",
        "L = \\begin{bmatrix} -7 \\\\ 8\\end{bmatrix} , \n",
        "M = \\begin{bmatrix} 4 \\\\ 3\\end{bmatrix} , \n",
        "N = \\begin{bmatrix} 9 \\\\ 5 \\\\ -4 \\end{bmatrix},  \n",
        "O = \\begin{bmatrix} 6 \\\\ -3 \\\\ -7\\end{bmatrix},\n",
        "$$\n",
        "\n",
        "$$ \n",
        "L = \\\\begin{bmatrix} -7 & 8\\\\end{bmatrix} , \n",
        "M = \\\\begin{bmatrix} 4 & 3\\\\end{bmatrix} , \n",
        "N = \\\\begin{bmatrix} 9 & 5 & -4\\\\end{bmatrix} , \n",
        "O = \\\\begin{bmatrix} 6 & -3 & -7\\\\end{bmatrix} \n",
        "        $$\n",
        "\n"
      ],
      "metadata": {
        "id": "C1pLTkusAMWz"
      }
    },
    {
      "cell_type": "markdown",
      "source": [
        "We can then start doing numpy code with this by:"
      ],
      "metadata": {
        "id": "06DWuQqcBa9s"
      }
    },
    {
      "cell_type": "code",
      "source": [
        "## Importing necessary libraries\n",
        "import numpy as np ## 'np' here is short-hand name of the library (numpy) or a nickname."
      ],
      "metadata": {
        "id": "55NtNpMPlbQt"
      },
      "execution_count": 1,
      "outputs": []
    },
    {
      "cell_type": "code",
      "source": [
        "L = np.array([-7, 8])\n",
        "M = np.array([4,3])\n",
        "N = np.array([\n",
        "              [9],\n",
        "              [5],\n",
        "              [-4]\n",
        "])\n",
        "O = np.array ([[6],\n",
        "              [-3],\n",
        "              [-7]])\n",
        "\n",
        "print('Vector L is', L)\n",
        "print('Vector M is', M)\n",
        "print('Vector N is', N)\n",
        "print('Vector O is', O)"
      ],
      "metadata": {
        "id": "LBBu_RoullD8",
        "colab": {
          "base_uri": "https://localhost:8080/"
        },
        "outputId": "0f83972b-9ada-42fd-c097-6444107e5f74"
      },
      "execution_count": 2,
      "outputs": [
        {
          "output_type": "stream",
          "name": "stdout",
          "text": [
            "Vector L is [-7  8]\n",
            "Vector M is [4 3]\n",
            "Vector N is [[ 9]\n",
            " [ 5]\n",
            " [-4]]\n",
            "Vector O is [[ 6]\n",
            " [-3]\n",
            " [-7]]\n"
          ]
        }
      ]
    },
    {
      "cell_type": "markdown",
      "source": [
        "#### Describing vectors in NumPy\n",
        "\n",
        "Describing vectors is very important if we want to perform basic to advanced operations with them. The fundamental ways in describing vectors are knowing their shape, size and dimensions."
      ],
      "metadata": {
        "id": "eJYWnvsoCI85"
      }
    },
    {
      "cell_type": "code",
      "source": [
        "### Checking shapes\n",
        "### Shapes tells us how many elements are there on each row and column\n",
        "\n",
        "J = np.array([[-9, 7, -1, 4, -3.8, 8]])\n",
        "J.shape"
      ],
      "metadata": {
        "colab": {
          "base_uri": "https://localhost:8080/"
        },
        "id": "JROiHx7OCQZa",
        "outputId": "e198e145-cfff-4478-839b-de561bfdb5ee"
      },
      "execution_count": 5,
      "outputs": [
        {
          "output_type": "execute_result",
          "data": {
            "text/plain": [
              "(1, 6)"
            ]
          },
          "metadata": {},
          "execution_count": 5
        }
      ]
    },
    {
      "cell_type": "code",
      "source": [
        "### Checking size\n",
        "### Array/Vector sizes tells us many total number of elements are there in the vector\n",
        "\n",
        "J.size"
      ],
      "metadata": {
        "colab": {
          "base_uri": "https://localhost:8080/"
        },
        "id": "DBIN4eX3Cpzq",
        "outputId": "7987a5cd-77e0-4a2e-ff59-aa2f37757491"
      },
      "execution_count": 6,
      "outputs": [
        {
          "output_type": "execute_result",
          "data": {
            "text/plain": [
              "6"
            ]
          },
          "metadata": {},
          "execution_count": 6
        }
      ]
    },
    {
      "cell_type": "code",
      "source": [
        "### Checking dimensions\n",
        "### The dimensions or rank of a vector tells us how many dimensions are there for the vector.\n",
        "\n",
        "J.ndim"
      ],
      "metadata": {
        "id": "CliGAN0yCsIS",
        "colab": {
          "base_uri": "https://localhost:8080/"
        },
        "outputId": "7d258af6-fa7b-45d8-b864-06471077efbd"
      },
      "execution_count": 7,
      "outputs": [
        {
          "output_type": "execute_result",
          "data": {
            "text/plain": [
              "2"
            ]
          },
          "metadata": {},
          "execution_count": 7
        }
      ]
    },
    {
      "cell_type": "markdown",
      "source": [
        "#### Addition\n",
        "The addition rule is simple, the we just need to add the elements of the matrices according to their index. So in this case if we add vector  and vector  we will have a resulting vector:\n",
        "\n",
        "$$\n",
        "R = 6\\hat{x}-2\\hat{y} \\\\ \\\\or \\\\ \\\\ \n",
        "R = \\begin{bmatrix} 6 \\\\ -2\\end{bmatrix} \n",
        "$$"
      ],
      "metadata": {
        "id": "9m2InvrDC0jv"
      }
    },
    {
      "cell_type": "code",
      "source": [
        "R = np.add(L, M) ## this is the functional method usisng the numpy library\n",
        "P = np.add(N, O)"
      ],
      "metadata": {
        "id": "h_fYReDvDH7V"
      },
      "execution_count": 8,
      "outputs": []
    },
    {
      "cell_type": "code",
      "source": [
        "R = L + M   ## this is the explicit method, since Python does a value-reference so it can \n",
        "            ## know that these variables would need to do array operations.\n",
        "R"
      ],
      "metadata": {
        "colab": {
          "base_uri": "https://localhost:8080/"
        },
        "id": "O-qQIHY3DJOw",
        "outputId": "226fe8af-642b-4629-c69d-bd152c19c628"
      },
      "execution_count": 9,
      "outputs": [
        {
          "output_type": "execute_result",
          "data": {
            "text/plain": [
              "array([-3, 11])"
            ]
          },
          "metadata": {},
          "execution_count": 9
        }
      ]
    },
    {
      "cell_type": "code",
      "source": [
        "P = np.add(N,O)\n",
        "P"
      ],
      "metadata": {
        "colab": {
          "base_uri": "https://localhost:8080/"
        },
        "id": "7QKxIj4Gbkh0",
        "outputId": "73da2247-9fb3-465c-93bf-764584b4f60f"
      },
      "execution_count": 10,
      "outputs": [
        {
          "output_type": "execute_result",
          "data": {
            "text/plain": [
              "array([[ 15],\n",
              "       [  2],\n",
              "       [-11]])"
            ]
          },
          "metadata": {},
          "execution_count": 10
        }
      ]
    },
    {
      "cell_type": "code",
      "source": [
        "pos1 = np.array([0,1,4])\n",
        "pos2 = np.array([2,-7,-5])\n",
        "pos3 = np.array([-3,6,-9])\n",
        "pos4 = np.array([0,0,1])\n",
        "R = pos1 + pos2 + pos3 + pos4\n",
        "R"
      ],
      "metadata": {
        "colab": {
          "base_uri": "https://localhost:8080/"
        },
        "id": "KJthOJsRDK8_",
        "outputId": "748487b9-d131-45ea-b326-5ab588c3d38f"
      },
      "execution_count": 16,
      "outputs": [
        {
          "output_type": "execute_result",
          "data": {
            "text/plain": [
              "array([-1,  0, -9])"
            ]
          },
          "metadata": {},
          "execution_count": 16
        }
      ]
    },
    {
      "cell_type": "code",
      "source": [
        "R = np.multiply(pos3, pos4)\n",
        "R"
      ],
      "metadata": {
        "colab": {
          "base_uri": "https://localhost:8080/"
        },
        "id": "M_lh5cWhcAQH",
        "outputId": "0bd88c42-3f51-49b5-c307-eb24430ac4ef"
      },
      "execution_count": 13,
      "outputs": [
        {
          "output_type": "execute_result",
          "data": {
            "text/plain": [
              "array([ 0,  0, -9])"
            ]
          },
          "metadata": {},
          "execution_count": 13
        }
      ]
    },
    {
      "cell_type": "code",
      "source": [
        "R = pos3 / pos2\n",
        "R"
      ],
      "metadata": {
        "colab": {
          "base_uri": "https://localhost:8080/"
        },
        "id": "3n1G8wTccIH3",
        "outputId": "339ab479-d52d-4612-8840-1713a6899277"
      },
      "execution_count": 18,
      "outputs": [
        {
          "output_type": "execute_result",
          "data": {
            "text/plain": [
              "array([-1.5       , -0.85714286,  1.8       ])"
            ]
          },
          "metadata": {},
          "execution_count": 18
        }
      ]
    },
    {
      "cell_type": "markdown",
      "source": [
        "##### Try for yourself!\n",
        "Try to implement subtraction, multiplication, and division with vectors $A$ and $B$!"
      ],
      "metadata": {
        "id": "vERSmBbbDd_m"
      }
    },
    {
      "cell_type": "code",
      "source": [
        "pos1 = np.array([-0.5,8])\n",
        "pos2 = np.array([14,-3.4])\n",
        "R = pos1 - pos2 \n",
        "R"
      ],
      "metadata": {
        "id": "rDtXsx5EDilj",
        "colab": {
          "base_uri": "https://localhost:8080/"
        },
        "outputId": "27d56d95-7a86-41d9-a073-5c20378aad70"
      },
      "execution_count": 22,
      "outputs": [
        {
          "output_type": "execute_result",
          "data": {
            "text/plain": [
              "array([-14.5,  11.4])"
            ]
          },
          "metadata": {},
          "execution_count": 22
        }
      ]
    },
    {
      "cell_type": "code",
      "source": [
        "R = pos1 * pos2 \n",
        "R"
      ],
      "metadata": {
        "colab": {
          "base_uri": "https://localhost:8080/"
        },
        "id": "0xIs-en2cY7a",
        "outputId": "de350eef-c21c-46ab-adbd-052fcaf3d33c"
      },
      "execution_count": 23,
      "outputs": [
        {
          "output_type": "execute_result",
          "data": {
            "text/plain": [
              "array([ -7. , -27.2])"
            ]
          },
          "metadata": {},
          "execution_count": 23
        }
      ]
    },
    {
      "cell_type": "code",
      "source": [
        "R = pos1 / pos2 \n",
        "R"
      ],
      "metadata": {
        "colab": {
          "base_uri": "https://localhost:8080/"
        },
        "id": "3GvNM-vzcbOo",
        "outputId": "2b9ea06d-3876-447d-d3b8-eea1a71ba10f"
      },
      "execution_count": 24,
      "outputs": [
        {
          "output_type": "execute_result",
          "data": {
            "text/plain": [
              "array([-0.03571429, -2.35294118])"
            ]
          },
          "metadata": {},
          "execution_count": 24
        }
      ]
    },
    {
      "cell_type": "markdown",
      "source": [
        "### Scaling\n",
        "Scaling or scalar multiplication takes a scalar value and performs multiplication with a vector. Let's take the example below:\n",
        "$$\n",
        "S = 5 \\cdot N\n",
        "$$\n",
        "\n",
        "We can do this in numpy through:"
      ],
      "metadata": {
        "id": "-RanoGQzDpAA"
      }
    },
    {
      "cell_type": "code",
      "source": [
        "#S = 5 * N\n",
        "S = np.multiply(5,N)\n",
        "S"
      ],
      "metadata": {
        "colab": {
          "base_uri": "https://localhost:8080/"
        },
        "id": "71qZz6eGD1yu",
        "outputId": "7521587c-eb79-4cf9-fbc9-1e285db20a23"
      },
      "execution_count": 25,
      "outputs": [
        {
          "output_type": "execute_result",
          "data": {
            "text/plain": [
              "array([[ 45],\n",
              "       [ 25],\n",
              "       [-20]])"
            ]
          },
          "metadata": {},
          "execution_count": 25
        }
      ]
    },
    {
      "cell_type": "markdown",
      "source": [
        "Try to implement scaling with two vectors."
      ],
      "metadata": {
        "id": "6pcLz3gWD7Pe"
      }
    },
    {
      "cell_type": "code",
      "source": [
        "S = np.multiply(7,M)\n",
        "S"
      ],
      "metadata": {
        "id": "sZvZIH_GD8bw",
        "colab": {
          "base_uri": "https://localhost:8080/"
        },
        "outputId": "46137773-954c-4e11-aa19-ecece040cbac"
      },
      "execution_count": 28,
      "outputs": [
        {
          "output_type": "execute_result",
          "data": {
            "text/plain": [
              "array([28, 21])"
            ]
          },
          "metadata": {},
          "execution_count": 28
        }
      ]
    },
    {
      "cell_type": "code",
      "source": [
        "S = np.multiply(8,O)\n",
        "S"
      ],
      "metadata": {
        "colab": {
          "base_uri": "https://localhost:8080/"
        },
        "id": "-vKezQCOc86y",
        "outputId": "eda9f823-6e9d-4c07-a435-82df3e160929"
      },
      "execution_count": 27,
      "outputs": [
        {
          "output_type": "execute_result",
          "data": {
            "text/plain": [
              "array([[ 48],\n",
              "       [-24],\n",
              "       [-56]])"
            ]
          },
          "metadata": {},
          "execution_count": 27
        }
      ]
    },
    {
      "cell_type": "markdown",
      "source": [
        "### MatPlotLib\n",
        "MatPlotLib or MATLab Plotting library is Python's take on MATLabs plotting feature. MatPlotLib can be used vastly from graping values to visualizing several dimensions of data."
      ],
      "metadata": {
        "id": "jGh3VMKCD_jA"
      }
    },
    {
      "cell_type": "markdown",
      "source": [
        "#### Visualizing Data\n",
        "It's not enough just solving these vectors so might need to visualize them. So we'll use MatPlotLib for that. We'll need to import it first."
      ],
      "metadata": {
        "id": "_Ww-P5RwED4l"
      }
    },
    {
      "cell_type": "code",
      "source": [
        "import matplotlib.pyplot as plt\n",
        "import matplotlib\n",
        "%matplotlib inline"
      ],
      "metadata": {
        "id": "B44yhKdHoP5l"
      },
      "execution_count": 29,
      "outputs": []
    },
    {
      "cell_type": "code",
      "source": [
        "J = [4, -4]\n",
        "R = [9, -3]\n",
        "plt.scatter(J[0], J[1], label='J', c='red')\n",
        "plt.scatter(R[0], R[1], label='R', c='magenta')\n",
        "plt.grid()\n",
        "plt.legend()\n",
        "plt.show()"
      ],
      "metadata": {
        "id": "THvOJrJrrZ4c",
        "outputId": "379543d6-5d20-4319-d1df-26ca074f2caa",
        "colab": {
          "base_uri": "https://localhost:8080/",
          "height": 265
        }
      },
      "execution_count": 31,
      "outputs": [
        {
          "output_type": "display_data",
          "data": {
            "text/plain": [
              "<Figure size 432x288 with 1 Axes>"
            ],
            "image/png": "[encoded data removed]"
          },
          "metadata": {
            "needs_background": "light"
          }
        }
      ]
    },
    {
      "cell_type": "code",
      "source": [
        "A = np.array([8, -4])\n",
        "B = np.array([9, 2])\n",
        "R = A + B\n",
        "Magnitude = np.sqrt(np.sum(R**2))\n",
        "plt.title(\"Resultant Vector\\nMagnitude:{}\" .format(Magnitude))\n",
        "plt.xlim(-5, 20)\n",
        "plt.ylim(-10, 10)\n",
        "plt.quiver(0, 0, A[0], A[1], angles='xy', scale_units='xy', scale=1, color='red')\n",
        "plt.quiver(A[0], A[1], B[0], B[1], angles='xy', scale_units='xy', scale=1, color='green')\n",
        "plt.quiver(0, 0, R[0], R[1], angles='xy', scale_units='xy', scale=1, color='black')\n",
        "plt.grid()\n",
        "plt.show()\n",
        "print(R)\n",
        "print(Magnitude)\n",
        "Slope = R[1]/R[0]\n",
        "print(Slope)\n",
        "Angle = (np.arctan(Slope))*(180/np.pi)\n",
        "print(Angle)"
      ],
      "metadata": {
        "colab": {
          "base_uri": "https://localhost:8080/",
          "height": 365
        },
        "id": "UPRGava6oSeO",
        "outputId": "ffbbb8f1-dec7-40a3-b34c-80be2a7d8aa0"
      },
      "execution_count": 34,
      "outputs": [
        {
          "output_type": "display_data",
          "data": {
            "text/plain": [
              "<Figure size 432x288 with 1 Axes>"
            ],
            "image/png": "[encoded data removed]"
          },
          "metadata": {
            "needs_background": "light"
          }
        },
        {
          "output_type": "stream",
          "name": "stdout",
          "text": [
            "[17 -2]\n",
            "17.11724276862369\n",
            "-0.11764705882352941\n",
            "-6.7098368077569335\n"
          ]
        }
      ]
    },
    {
      "cell_type": "code",
      "source": [
        "n = A.shape[0]\n",
        "plt.xlim(-5, 25)\n",
        "plt.ylim(-10, 10)\n",
        "plt.quiver(0,0, A[0], A[1], angles='xy', scale_units='xy',scale=1)\n",
        "plt.quiver(A[0],A[1], B[0], B[1], angles='xy', scale_units='xy',scale=1)\n",
        "plt.quiver(0,0, R[0], R[1], angles='xy', scale_units='xy',scale=1)\n",
        "plt.show()"
      ],
      "metadata": {
        "id": "9zxxLeaarVKv",
        "outputId": "8fdd5ee1-37da-41bf-a537-17f801566dab",
        "colab": {
          "base_uri": "https://localhost:8080/",
          "height": 269
        }
      },
      "execution_count": 36,
      "outputs": [
        {
          "output_type": "display_data",
          "data": {
            "text/plain": [
              "<Figure size 432x288 with 1 Axes>"
            ],
            "image/png": "[encoded data removed]"
          },
          "metadata": {
            "needs_background": "light"
          }
        }
      ]
    },
    {
      "cell_type": "code",
      "source": [
        "A = [-1, -2, 8]\n",
        "B = [5, -10, 5]\n",
        "ax = plt.axes(projection='3d')\n",
        "plt.scatter(A[0], A[1], A[2], label='A', c='midnightblue')\n",
        "plt.scatter(B[0], B[1], B[2], label='B', c='crimson')\n",
        "plt.grid()\n",
        "plt.legend()\n",
        "plt.show()"
      ],
      "metadata": {
        "colab": {
          "base_uri": "https://localhost:8080/",
          "height": 248
        },
        "id": "Q1o8KFeueVp_",
        "outputId": "1a54716c-6544-4d12-dbbc-c9a6268e812b"
      },
      "execution_count": 39,
      "outputs": [
        {
          "output_type": "display_data",
          "data": {
            "text/plain": [
              "<Figure size 432x288 with 1 Axes>"
            ],
            "image/png": "[encoded data removed]"
          },
          "metadata": {
            "needs_background": "light"
          }
        }
      ]
    },
    {
      "cell_type": "markdown",
      "source": [
        "Try plotting Three Vectors and show the Resultant Vector as a result. Use Head to Tail Method."
      ],
      "metadata": {
        "id": "UHSqnqr3EOCV"
      }
    },
    {
      "cell_type": "code",
      "source": [
        "C = np.array([4, 7])\n",
        "A = np.array([9, 8])\n",
        "T = np.array([6, 2])\n",
        "R = C + A + T\n",
        "print(R)\n",
        "Magnitude = np.sqrt(np.sum(R**2))\n",
        "print(Magnitude)\n",
        "plt.title(\"Resultant Vector\\nMagnitude:{}\" .format(Magnitude))\n",
        "plt.xlim(-11, 26)\n",
        "plt.ylim(-11, 26)\n",
        "plt.quiver(0, 0, C[0], C[1], angles='xy', scale_units='xy', scale=1, color='coral')\n",
        "plt.quiver(C[0], C[1], A[0], A[1], angles='xy', scale_units='xy', scale=1, color='orchid')\n",
        "plt.quiver(C[0], C[1], A[0], A[1], T[1], angles='xy', scale_units='xy', scale=1, color='aqua')\n",
        "plt.quiver(0, 0, R[0], R[1], angles='xy', scale_units='xy', scale=1, color='lawngreen')\n",
        "plt.grid()\n",
        "plt.show()\n",
        "\n",
        "Slope = R[1]/R[0]\n",
        "print(Slope)\n",
        "Angle = (np.arctan(Slope))*(180/np.pi)\n",
        "print(Angle)"
      ],
      "metadata": {
        "id": "YNQugIfqERMG",
        "colab": {
          "base_uri": "https://localhost:8080/",
          "height": 365
        },
        "outputId": "1eadc341-c4fe-4f33-e84f-879a6369820c"
      },
      "execution_count": 40,
      "outputs": [
        {
          "output_type": "stream",
          "name": "stdout",
          "text": [
            "[19 17]\n",
            "25.495097567963924\n"
          ]
        },
        {
          "output_type": "display_data",
          "data": {
            "text/plain": [
              "<Figure size 432x288 with 1 Axes>"
            ],
            "image/png": "[encoded data removed]"
          },
          "metadata": {
            "needs_background": "light"
          }
        },
        {
          "output_type": "stream",
          "name": "stdout",
          "text": [
            "0.8947368421052632\n",
            "41.82016988013577\n"
          ]
        }
      ]
    },
    {
      "cell_type": "markdown",
      "source": [
        "##Conclusion"
      ],
      "metadata": {
        "id": "jtpVwXWofDro"
      }
    },
    {
      "cell_type": "markdown",
      "source": [
        ""
      ],
      "metadata": {
        "id": "ee7OMXwUfGA7"
      }
    }
  ]
}
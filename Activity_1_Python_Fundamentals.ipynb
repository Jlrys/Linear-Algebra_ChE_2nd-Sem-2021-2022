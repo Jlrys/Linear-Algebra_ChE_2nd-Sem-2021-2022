{
  "nbformat": 4,
  "nbformat_minor": 0,
  "metadata": {
    "colab": {
      "name": "Activity 1 - Python Fundamentals",
      "provenance": [],
      "collapsed_sections": [],
      "authorship_tag": "ABX9TyPS9kKinLBm1hx3uv11VHcZ",
      "include_colab_link": true
    },
    "kernelspec": {
      "name": "python3",
      "display_name": "Python 3"
    },
    "language_info": {
      "name": "python"
    }
  },
  "cells": [
    {
      "cell_type": "markdown",
      "metadata": {
        "id": "view-in-github",
        "colab_type": "text"
      },
      "source": [
        "<a href=\"https://colab.research.google.com/github/Jlrys/Linear-Algebra_ChE_2nd-Sem-2021-2022/blob/main/Activity_1_Python_Fundamentals.ipynb\" target=\"_parent\"><img src=\"https://colab.research.google.com/assets/colab-badge.svg\" alt=\"Open In Colab\"/></a>"
      ]
    },
    {
      "cell_type": "markdown",
      "source": [
        "# Welcome to Python Fundamentals\n",
        "In this module, we are going to establish or review our skills in Python programming. In this notebook we are going to cover:\n",
        "* Variables and Data Types \n",
        "* Operations\n",
        "* Input and Output Operations\n",
        "* Logic Control\n",
        "* Iterables\n",
        "* Functions\n"
      ],
      "metadata": {
        "id": "oMg0S2wU_zVP"
      }
    },
    {
      "cell_type": "markdown",
      "source": [
        "##Variables and Data Types\n",
        "\n",
        "A variable is an identifier that is used to store a value. There are four commonly used data types: *int, float, char, and bool*. The size and range of a data type differ from one another."
      ],
      "metadata": {
        "id": "XCN_5d7j0KfB"
      }
    },
    {
      "cell_type": "code",
      "source": [
        "x = 15\n",
        "a,b = 5, -10\n",
        "b"
      ],
      "metadata": {
        "id": "RUb1g7CnARpx",
        "colab": {
          "base_uri": "https://localhost:8080/"
        },
        "outputId": "9a1bb1ca-0463-4c9e-93a3-1d759083e0e6"
      },
      "execution_count": null,
      "outputs": [
        {
          "output_type": "execute_result",
          "data": {
            "text/plain": [
              "-10"
            ]
          },
          "metadata": {},
          "execution_count": 7
        }
      ]
    },
    {
      "cell_type": "code",
      "source": [
        "type(x)"
      ],
      "metadata": {
        "colab": {
          "base_uri": "https://localhost:8080/"
        },
        "id": "l9jmGj_EBbnG",
        "outputId": "7736e061-7fc5-496b-8436-b6025e588b80"
      },
      "execution_count": null,
      "outputs": [
        {
          "output_type": "execute_result",
          "data": {
            "text/plain": [
              "int"
            ]
          },
          "metadata": {},
          "execution_count": 4
        }
      ]
    },
    {
      "cell_type": "code",
      "source": [
        "y = 5.0\n",
        "type(y)"
      ],
      "metadata": {
        "colab": {
          "base_uri": "https://localhost:8080/"
        },
        "id": "5yrnZLhiBpy0",
        "outputId": "882e15db-586f-4ed1-b217-221473231def"
      },
      "execution_count": null,
      "outputs": [
        {
          "output_type": "execute_result",
          "data": {
            "text/plain": [
              "float"
            ]
          },
          "metadata": {},
          "execution_count": 17
        }
      ]
    },
    {
      "cell_type": "code",
      "source": [
        "x = float(x)\n",
        "type (x)\n"
      ],
      "metadata": {
        "colab": {
          "base_uri": "https://localhost:8080/"
        },
        "id": "OB9WWkcyBxk_",
        "outputId": "46d84b11-a5d1-4e11-9c2c-3d401f467e55"
      },
      "execution_count": null,
      "outputs": [
        {
          "output_type": "execute_result",
          "data": {
            "text/plain": [
              "float"
            ]
          },
          "metadata": {},
          "execution_count": 18
        }
      ]
    },
    {
      "cell_type": "code",
      "source": [
        "s,t,u = \"0\", \"1\",'one'\n",
        "type(u)\n"
      ],
      "metadata": {
        "colab": {
          "base_uri": "https://localhost:8080/"
        },
        "id": "H6Jeu3LxCVcJ",
        "outputId": "4e9eb285-7450-4ba0-d0ad-78b48242d8b4"
      },
      "execution_count": null,
      "outputs": [
        {
          "output_type": "execute_result",
          "data": {
            "text/plain": [
              "str"
            ]
          },
          "metadata": {},
          "execution_count": 12
        }
      ]
    },
    {
      "cell_type": "code",
      "source": [
        "s_int = int(s)\n",
        "s_int"
      ],
      "metadata": {
        "colab": {
          "base_uri": "https://localhost:8080/"
        },
        "id": "W1RWxRXPClWp",
        "outputId": "8a01f695-a5e8-42b1-bfb6-45ec6ab94f8d"
      },
      "execution_count": null,
      "outputs": [
        {
          "output_type": "execute_result",
          "data": {
            "text/plain": [
              "0"
            ]
          },
          "metadata": {},
          "execution_count": 15
        }
      ]
    },
    {
      "cell_type": "markdown",
      "source": [
        "## Operations\n",
        "Operations are such activities it can cause an effect in a variable or a functional change in the current position."
      ],
      "metadata": {
        "id": "6suLz_E9Czqn"
      }
    },
    {
      "cell_type": "markdown",
      "source": [
        "### Arithmetic"
      ],
      "metadata": {
        "id": "XW_D2u7_C6hU"
      }
    },
    {
      "cell_type": "code",
      "source": [
        "j,k,l,m = 2.2, 11.26, -6.0, 7"
      ],
      "metadata": {
        "id": "4fuwu_K0C-uh"
      },
      "execution_count": null,
      "outputs": []
    },
    {
      "cell_type": "code",
      "source": [
        "# Addition\n",
        "S = j+k\n",
        "S"
      ],
      "metadata": {
        "colab": {
          "base_uri": "https://localhost:8080/"
        },
        "id": "g8WpK_JvDY_H",
        "outputId": "cec6d727-c68a-4a54-fac8-afccf3eebffa"
      },
      "execution_count": null,
      "outputs": [
        {
          "output_type": "execute_result",
          "data": {
            "text/plain": [
              "13.46"
            ]
          },
          "metadata": {},
          "execution_count": 21
        }
      ]
    },
    {
      "cell_type": "code",
      "source": [
        "### Subtraction\n",
        "D = k-m\n",
        "D"
      ],
      "metadata": {
        "colab": {
          "base_uri": "https://localhost:8080/"
        },
        "id": "pdSkmn5SEcYg",
        "outputId": "63846dd8-d80a-4f1e-c8c7-aaa72adf7b4b"
      },
      "execution_count": null,
      "outputs": [
        {
          "output_type": "execute_result",
          "data": {
            "text/plain": [
              "4.26"
            ]
          },
          "metadata": {},
          "execution_count": 22
        }
      ]
    },
    {
      "cell_type": "code",
      "source": [
        "### Multiplication\n",
        "M = l*m\n",
        "M"
      ],
      "metadata": {
        "colab": {
          "base_uri": "https://localhost:8080/"
        },
        "id": "E2vfpgP2E9XY",
        "outputId": "9a40bb0b-d280-483c-a9a4-6c3659e89c41"
      },
      "execution_count": null,
      "outputs": [
        {
          "output_type": "execute_result",
          "data": {
            "text/plain": [
              "-42.0"
            ]
          },
          "metadata": {},
          "execution_count": 23
        }
      ]
    },
    {
      "cell_type": "code",
      "source": [
        "### Division \n",
        "Q = j/m\n",
        "Q"
      ],
      "metadata": {
        "colab": {
          "base_uri": "https://localhost:8080/"
        },
        "id": "vGTIO4D0FUs6",
        "outputId": "0b35032a-3888-4657-eab6-eb37b23fd652"
      },
      "execution_count": null,
      "outputs": [
        {
          "output_type": "execute_result",
          "data": {
            "text/plain": [
              "0.31428571428571433"
            ]
          },
          "metadata": {},
          "execution_count": 24
        }
      ]
    },
    {
      "cell_type": "code",
      "source": [
        "### Floor Division\n",
        "Fq = k//m\n",
        "Fq"
      ],
      "metadata": {
        "colab": {
          "base_uri": "https://localhost:8080/"
        },
        "id": "hZGKSFDEFew_",
        "outputId": "ace113e1-06e0-4286-8983-b2e719a5e1d9"
      },
      "execution_count": null,
      "outputs": [
        {
          "output_type": "execute_result",
          "data": {
            "text/plain": [
              "1.0"
            ]
          },
          "metadata": {},
          "execution_count": 25
        }
      ]
    },
    {
      "cell_type": "code",
      "source": [
        "### Exponentiation\n",
        "E = j**k\n",
        "E"
      ],
      "metadata": {
        "colab": {
          "base_uri": "https://localhost:8080/"
        },
        "id": "yEGySzhBFwE-",
        "outputId": "0c24eabd-0183-4474-86cf-5893fa3d9b7a"
      },
      "execution_count": null,
      "outputs": [
        {
          "output_type": "execute_result",
          "data": {
            "text/plain": [
              "7172.645817303821"
            ]
          },
          "metadata": {},
          "execution_count": 26
        }
      ]
    },
    {
      "cell_type": "code",
      "source": [
        "### Modulo\n",
        "mod = j%m\n",
        "mod"
      ],
      "metadata": {
        "colab": {
          "base_uri": "https://localhost:8080/"
        },
        "id": "Isi4opq2GJrK",
        "outputId": "dc752d4c-ab8f-4bc1-89b3-535419d07d32"
      },
      "execution_count": null,
      "outputs": [
        {
          "output_type": "execute_result",
          "data": {
            "text/plain": [
              "2.2"
            ]
          },
          "metadata": {},
          "execution_count": 27
        }
      ]
    },
    {
      "cell_type": "markdown",
      "source": [
        "## Assignment Operations\n",
        "Assignment operation (=) assigns the value of the right-hand operand to the storage location named by the left-hand operand. The left-hand operand of an assignment operator must be an adjustable value. After the assignment, an assignment expression has the value of the left operand but is not a value.\n"
      ],
      "metadata": {
        "id": "ttIwI63sImbn"
      }
    },
    {
      "cell_type": "code",
      "source": [
        "A, B, C, D = 20, 0, 6, 4"
      ],
      "metadata": {
        "id": "yhOr7RoxE529"
      },
      "execution_count": null,
      "outputs": []
    },
    {
      "cell_type": "code",
      "source": [
        "A += j\n",
        "A"
      ],
      "metadata": {
        "colab": {
          "base_uri": "https://localhost:8080/"
        },
        "id": "QTWXDVutKBCE",
        "outputId": "4f29d996-b768-4f36-97f0-4284c2f6c84d"
      },
      "execution_count": null,
      "outputs": [
        {
          "output_type": "execute_result",
          "data": {
            "text/plain": [
              "22.2"
            ]
          },
          "metadata": {},
          "execution_count": 29
        }
      ]
    },
    {
      "cell_type": "code",
      "source": [
        "B -= l\n",
        "B"
      ],
      "metadata": {
        "colab": {
          "base_uri": "https://localhost:8080/"
        },
        "id": "Jb3XL8VvKiat",
        "outputId": "58dedace-1fe1-4306-c377-68cb3b5a235c"
      },
      "execution_count": null,
      "outputs": [
        {
          "output_type": "execute_result",
          "data": {
            "text/plain": [
              "6.0"
            ]
          },
          "metadata": {},
          "execution_count": 30
        }
      ]
    },
    {
      "cell_type": "code",
      "source": [
        "C *= m\n",
        "C"
      ],
      "metadata": {
        "colab": {
          "base_uri": "https://localhost:8080/"
        },
        "id": "eH30UE2lKs1E",
        "outputId": "d04d99c5-507f-4116-b43b-b78aed96754d"
      },
      "execution_count": null,
      "outputs": [
        {
          "output_type": "execute_result",
          "data": {
            "text/plain": [
              "42"
            ]
          },
          "metadata": {},
          "execution_count": 31
        }
      ]
    },
    {
      "cell_type": "code",
      "source": [
        "A **= 3\n",
        "A\n"
      ],
      "metadata": {
        "colab": {
          "base_uri": "https://localhost:8080/"
        },
        "id": "V5pzYhelLLDV",
        "outputId": "9b2bc8fd-a78d-481d-c5e1-570cd5e3d3b9"
      },
      "execution_count": null,
      "outputs": [
        {
          "output_type": "execute_result",
          "data": {
            "text/plain": [
              "1309714905285.888"
            ]
          },
          "metadata": {},
          "execution_count": 33
        }
      ]
    },
    {
      "cell_type": "markdown",
      "source": [
        "## Comparators\n",
        "Comparators are a built-in design pattern in Python that allows you to sort a list in a particular way. This is useful when you have a list of objects, and you want to sort them in a certain way that respects their relationships. For example, you might have a list of students, and you want to sort them by their last name. A Comparator could be used to sort the list so that last names come before first names, and so on.\n"
      ],
      "metadata": {
        "id": "_Nj6VCzxLZXu"
      }
    },
    {
      "cell_type": "code",
      "source": [
        "res_1, res_2, res_3 = 1, 2.0, \"1\"\n",
        "true_val = 1.0"
      ],
      "metadata": {
        "id": "8G0KVbwZLB4s"
      },
      "execution_count": null,
      "outputs": []
    },
    {
      "cell_type": "code",
      "source": [
        "## Equality \n",
        "res_1 == true_val"
      ],
      "metadata": {
        "colab": {
          "base_uri": "https://localhost:8080/"
        },
        "id": "fiTc3FzEL6hM",
        "outputId": "111c03dc-ed23-4d42-d559-0ec7ecffab4b"
      },
      "execution_count": null,
      "outputs": [
        {
          "output_type": "execute_result",
          "data": {
            "text/plain": [
              "True"
            ]
          },
          "metadata": {},
          "execution_count": 35
        }
      ]
    },
    {
      "cell_type": "code",
      "source": [
        "## Non-equality\n",
        "res_2 != true_val"
      ],
      "metadata": {
        "colab": {
          "base_uri": "https://localhost:8080/"
        },
        "id": "1hOv6GlPKZ2z",
        "outputId": "7089f67a-b4b1-4462-bbcc-126eece7a636"
      },
      "execution_count": null,
      "outputs": [
        {
          "output_type": "execute_result",
          "data": {
            "text/plain": [
              "True"
            ]
          },
          "metadata": {},
          "execution_count": 36
        }
      ]
    },
    {
      "cell_type": "code",
      "source": [
        "## inequality\n",
        "s1 = res_1 > res_2\n",
        "s2 = res_1 < res_2/2\n",
        "s3 = res_1 >= res_2/2\n",
        "s4 = res_1 <= res_2\n",
        "s3"
      ],
      "metadata": {
        "id": "xiJO82BkMCam",
        "colab": {
          "base_uri": "https://localhost:8080/"
        },
        "outputId": "47485606-5a2e-47ab-d194-d126f9215a6a"
      },
      "execution_count": null,
      "outputs": [
        {
          "output_type": "execute_result",
          "data": {
            "text/plain": [
              "True"
            ]
          },
          "metadata": {},
          "execution_count": 42
        }
      ]
    },
    {
      "cell_type": "markdown",
      "source": [
        "## Logical\n",
        "In Python, logical operators are used to execute logical operations on variable values. Either true or false is the value. There are three basic types of logical operators: *logical AND, logical OR, and logical NOT*. Keywords or special characters are used to represent operators.\n",
        "\n",
        "\n",
        "![logical operation.png](data:image/png;base64,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)\n",
        "\n",
        "\n",
        "\n",
        "\n",
        "\n",
        "\n",
        "\n"
      ],
      "metadata": {
        "id": "gMYE-c1UMYao"
      }
    },
    {
      "cell_type": "code",
      "source": [
        "res_1 == true_val"
      ],
      "metadata": {
        "id": "L2vbZC8jMkIV",
        "colab": {
          "base_uri": "https://localhost:8080/"
        },
        "outputId": "b195244e-5099-4b36-bcae-f658fe64fd66"
      },
      "execution_count": null,
      "outputs": [
        {
          "output_type": "execute_result",
          "data": {
            "text/plain": [
              "True"
            ]
          },
          "metadata": {},
          "execution_count": 43
        }
      ]
    },
    {
      "cell_type": "code",
      "source": [
        "res_1 is true_val"
      ],
      "metadata": {
        "colab": {
          "base_uri": "https://localhost:8080/"
        },
        "id": "GFfLRxZ0sX6Q",
        "outputId": "5bcf9dff-8221-42a7-d213-f99cfc17f28f"
      },
      "execution_count": null,
      "outputs": [
        {
          "output_type": "execute_result",
          "data": {
            "text/plain": [
              "False"
            ]
          },
          "metadata": {},
          "execution_count": 44
        }
      ]
    },
    {
      "cell_type": "code",
      "source": [
        "res_1 is not true_val"
      ],
      "metadata": {
        "colab": {
          "base_uri": "https://localhost:8080/"
        },
        "id": "d-t_qCRMsdoL",
        "outputId": "16640b25-e5c9-4aad-e054-838f6c199911"
      },
      "execution_count": null,
      "outputs": [
        {
          "output_type": "execute_result",
          "data": {
            "text/plain": [
              "True"
            ]
          },
          "metadata": {},
          "execution_count": 45
        }
      ]
    },
    {
      "cell_type": "code",
      "source": [
        "r, g = False, True\n",
        "conj = r and g\n",
        "conj"
      ],
      "metadata": {
        "colab": {
          "base_uri": "https://localhost:8080/"
        },
        "id": "kUoVTUkztH_x",
        "outputId": "1c92b62c-2184-42f6-b713-0c2584df35c6"
      },
      "execution_count": null,
      "outputs": [
        {
          "output_type": "execute_result",
          "data": {
            "text/plain": [
              "False"
            ]
          },
          "metadata": {},
          "execution_count": 56
        }
      ]
    },
    {
      "cell_type": "code",
      "source": [
        "r, g = True, False\n",
        "disj = r or g\n",
        "disj"
      ],
      "metadata": {
        "colab": {
          "base_uri": "https://localhost:8080/"
        },
        "id": "hn__c29DsdJ5",
        "outputId": "8e4fa0d1-70c4-4b1a-f926-923f048f5704"
      },
      "execution_count": null,
      "outputs": [
        {
          "output_type": "execute_result",
          "data": {
            "text/plain": [
              "True"
            ]
          },
          "metadata": {},
          "execution_count": 54
        }
      ]
    },
    {
      "cell_type": "code",
      "source": [
        "r, g = True, False\n",
        "nand = not(r or g)\n",
        "nand"
      ],
      "metadata": {
        "colab": {
          "base_uri": "https://localhost:8080/"
        },
        "id": "TqKBLDXjs0Rm",
        "outputId": "d1ba0e9b-ad75-42f5-a0ae-948164c364c3"
      },
      "execution_count": null,
      "outputs": [
        {
          "output_type": "execute_result",
          "data": {
            "text/plain": [
              "False"
            ]
          },
          "metadata": {},
          "execution_count": 50
        }
      ]
    },
    {
      "cell_type": "code",
      "source": [
        "r, g = True, False\n",
        "xor = (not r and g) or (r and not g)\n",
        "xor"
      ],
      "metadata": {
        "colab": {
          "base_uri": "https://localhost:8080/"
        },
        "id": "BbVLGhFctBnN",
        "outputId": "c06dcc52-f553-4c80-9a39-9829c6c96afd"
      },
      "execution_count": null,
      "outputs": [
        {
          "output_type": "execute_result",
          "data": {
            "text/plain": [
              "True"
            ]
          },
          "metadata": {},
          "execution_count": 58
        }
      ]
    },
    {
      "cell_type": "markdown",
      "source": [
        "## Input and Output Operations\n",
        "In Python, two built-in functions are used to execute input and output operations (OI Operations). The two built-in functions for performing output and input operations are listed below. print() is a method for generating output. input() is a function that is used to perform input operations.\n",
        "\n"
      ],
      "metadata": {
        "id": "C1l3X2OrPBpX"
      }
    },
    {
      "cell_type": "code",
      "source": [
        "print(\"Hello People\")"
      ],
      "metadata": {
        "colab": {
          "base_uri": "https://localhost:8080/"
        },
        "id": "V2-xAE97PMCb",
        "outputId": "2ae1b5ae-3b56-490c-a62d-628a50815a80"
      },
      "execution_count": null,
      "outputs": [
        {
          "output_type": "stream",
          "name": "stdout",
          "text": [
            "Hello People\n"
          ]
        }
      ]
    },
    {
      "cell_type": "code",
      "source": [
        "cnt = 1"
      ],
      "metadata": {
        "id": "lU5HkeCqPVRX"
      },
      "execution_count": null,
      "outputs": []
    },
    {
      "cell_type": "code",
      "source": [
        "string = \"Good morning\"\n",
        "print(string, \", Current run count is:\", cnt)\n",
        "cnt += 1"
      ],
      "metadata": {
        "colab": {
          "base_uri": "https://localhost:8080/"
        },
        "id": "W0KdNuisPZEt",
        "outputId": "3db1ffd7-447f-4ee2-c5f6-ac2fdd2d87ea"
      },
      "execution_count": null,
      "outputs": [
        {
          "output_type": "stream",
          "name": "stdout",
          "text": [
            "Good morning , Current run count is: 2\n"
          ]
        }
      ]
    },
    {
      "cell_type": "code",
      "source": [
        "print(f\"{string}, Current count is: {cnt}\")"
      ],
      "metadata": {
        "colab": {
          "base_uri": "https://localhost:8080/"
        },
        "id": "yZQWJ5UiPtNl",
        "outputId": "24a25dbe-f212-4788-dd9b-192c1c7c5cef"
      },
      "execution_count": null,
      "outputs": [
        {
          "output_type": "stream",
          "name": "stdout",
          "text": [
            "Good morning, Current count is: 3\n"
          ]
        }
      ]
    },
    {
      "cell_type": "code",
      "source": [
        "sem_grade = 75.18723679\n",
        "name = \"Bebang\"\n",
        "print(\"Good day {}, your semestral grade is: {}\".format(name, sem_grade))"
      ],
      "metadata": {
        "colab": {
          "base_uri": "https://localhost:8080/"
        },
        "id": "0XkW6zsPuaF6",
        "outputId": "b762aa50-229e-4f68-f744-9d3a30d56024"
      },
      "execution_count": null,
      "outputs": [
        {
          "output_type": "stream",
          "name": "stdout",
          "text": [
            "Good day Bebang, your semestral grade is: 75.18723679\n"
          ]
        }
      ]
    },
    {
      "cell_type": "code",
      "source": [
        "w_pg, w_mg, w_fg = 0.3, 0.3, 0.4\n",
        "print(\"The weight pf your semestral grades are:\\\n",
        "\\n\\t{:.2%} for Prelims\\\n",
        "\\n\\t{:.2%} for Midterm, and\\\n",
        "\\n\\t{:.2%} for Finals.\".format(w_pg, w_mg, w_fg))"
      ],
      "metadata": {
        "colab": {
          "base_uri": "https://localhost:8080/"
        },
        "id": "YEw4q6uI_MvA",
        "outputId": "83a656df-0027-4a29-f98d-6206ccee9e6e"
      },
      "execution_count": null,
      "outputs": [
        {
          "output_type": "stream",
          "name": "stdout",
          "text": [
            "The weight pf your semestral grades are:\n",
            "\t30.00% for Prelims\n",
            "\t30.00% for Midterm, and\n",
            "\t40.00% for Finals.\n"
          ]
        }
      ]
    },
    {
      "cell_type": "code",
      "source": [
        "x = input(\"enter a number: \")\n",
        "x"
      ],
      "metadata": {
        "colab": {
          "base_uri": "https://localhost:8080/",
          "height": 53
        },
        "id": "b2tD6hxiAQFf",
        "outputId": "c579dfdc-0a09-46a3-b56b-310f25378713"
      },
      "execution_count": null,
      "outputs": [
        {
          "name": "stdout",
          "output_type": "stream",
          "text": [
            "enter a number: 10.20\n"
          ]
        },
        {
          "output_type": "execute_result",
          "data": {
            "application/vnd.google.colaboratory.intrinsic+json": {
              "type": "string"
            },
            "text/plain": [
              "'10.20'"
            ]
          },
          "metadata": {},
          "execution_count": 69
        }
      ]
    },
    {
      "cell_type": "code",
      "source": [
        "x = float\n",
        "name = input(\"Kimi no nawa: \")\n",
        "pg = int(input(\"Enter prelim grade: \"))\n",
        "mg = int(input(\"Enter midterm grade: \"))\n",
        "fg = int(input(\"Enter finals grade: \"))\n",
        "x = pg*0.3 + mg*0.3 + fg*0.4\n",
        "sem_grade = x\n",
        "\n",
        "print(\"Hello {}, your semestral grade is: {}\".format(name, sem_grade))"
      ],
      "metadata": {
        "colab": {
          "base_uri": "https://localhost:8080/"
        },
        "id": "nDQcjkY2_KYg",
        "outputId": "62f3508a-63fa-4058-f5d3-e139dbab48e2"
      },
      "execution_count": null,
      "outputs": [
        {
          "output_type": "stream",
          "name": "stdout",
          "text": [
            "Kimi no nawa: your name\n",
            "Enter prelim grade: 89\n",
            "Enter midterm grade: 85\n",
            "Enter finals grade: 75\n",
            "Hello your name, your semestral grade is: 82.2\n"
          ]
        }
      ]
    },
    {
      "cell_type": "markdown",
      "source": [
        "##Looping Statement\n",
        "\n",
        "Looping statements in python are a way of executing a block of code repeatedly. There are two primary looping constructs in Python: the for loop and the while loop. The for loop is the looping construct used in the for statement. The while loop is the looping construct used in the while statement.\n"
      ],
      "metadata": {
        "id": "X9OnyoBCDrsy"
      }
    },
    {
      "cell_type": "markdown",
      "source": [
        "###While\n",
        "\n",
        "While Loop is used to execute a set of statements again and again until a condition is met, and when the condition becomes false, the line immediately after the loop in the program is executed.\n"
      ],
      "metadata": {
        "id": "JiRmDrN0FOwK"
      }
    },
    {
      "cell_type": "code",
      "source": [
        "## while loops\n",
        "b, c = 5, 15\n",
        "while(b<=c):\n",
        "    print(f\"{b}\\t|\\t{c}\")\n",
        "    b+=1"
      ],
      "metadata": {
        "colab": {
          "base_uri": "https://localhost:8080/"
        },
        "id": "uKirfQN6FVNz",
        "outputId": "ae96f841-8fb7-4b3e-af9c-5cecf0bcefa5"
      },
      "execution_count": null,
      "outputs": [
        {
          "output_type": "stream",
          "name": "stdout",
          "text": [
            "5\t|\t15\n",
            "6\t|\t15\n",
            "7\t|\t15\n",
            "8\t|\t15\n",
            "9\t|\t15\n",
            "10\t|\t15\n",
            "11\t|\t15\n",
            "12\t|\t15\n",
            "13\t|\t15\n",
            "14\t|\t15\n",
            "15\t|\t15\n"
          ]
        }
      ]
    },
    {
      "cell_type": "markdown",
      "source": [
        "###For\n",
        "For loop is a control statement that allows code to be executed repeatedly by defining iteration."
      ],
      "metadata": {
        "id": "zM8MyIYuGePR"
      }
    },
    {
      "cell_type": "code",
      "source": [
        "# for(int i=0; i<10; i++) {\n",
        "# printf(i)\n",
        "# }\n",
        "\n",
        "i=0\n",
        "for i in range(11):\n",
        "    print(i)"
      ],
      "metadata": {
        "colab": {
          "base_uri": "https://localhost:8080/"
        },
        "id": "e5hgr3zMGlQb",
        "outputId": "ab04b0a6-3f24-4f19-f03b-0b5d2d90b547"
      },
      "execution_count": null,
      "outputs": [
        {
          "output_type": "stream",
          "name": "stdout",
          "text": [
            "0\n",
            "1\n",
            "2\n",
            "3\n",
            "4\n",
            "5\n",
            "6\n",
            "7\n",
            "8\n",
            "9\n",
            "10\n"
          ]
        }
      ]
    },
    {
      "cell_type": "code",
      "source": [
        "playlist = [\"The Joker and the Queen, Pagsamo, Double take, Ikaw lang\"]\n",
        "print('Now Playing:\\n')\n",
        "for song in playlist:\n",
        "    print(song)"
      ],
      "metadata": {
        "colab": {
          "base_uri": "https://localhost:8080/"
        },
        "id": "IfgWexAJHboP",
        "outputId": "fd18f658-fdc4-4aef-b063-af0f2023a603"
      },
      "execution_count": null,
      "outputs": [
        {
          "output_type": "stream",
          "name": "stdout",
          "text": [
            "Now Playing:\n",
            "\n",
            "The Joker and the Queen, Pagsamo, Double take, Ikaw lang\n"
          ]
        }
      ]
    },
    {
      "cell_type": "markdown",
      "source": [
        "##Flow Control\n",
        "Flow control of a program is the sequence in which the program's code runs. The control flow of a Python program is governed by conditional statements, loops, and function calls. Python's control structures are divided into three categories: The default mode is sequential. Selection is a decision-making and branching tool.\n",
        " \n"
      ],
      "metadata": {
        "id": "W5g0vxVDICmn"
      }
    },
    {
      "cell_type": "markdown",
      "source": [
        "##Conditional Statements\n",
        "If conditional statements include more than one condition, they are conditional statements with more than one condition. The second condition is only examined if the first condition is false. If Condition 1 is false, Condition 2 is not tested.\n",
        " \n"
      ],
      "metadata": {
        "id": "VNInYsCMIKMQ"
      }
    },
    {
      "cell_type": "code",
      "source": [
        "numeral1, numeral2 = 12, 24\n",
        "if(numeral1 == numeral2):\n",
        "    print(\"Yey\")\n",
        "elif(numeral1>numeral2):\n",
        "    print(\"Hoho\")\n",
        "else: \n",
        "    print(\"Aww\")"
      ],
      "metadata": {
        "colab": {
          "base_uri": "https://localhost:8080/"
        },
        "id": "vKIqEOQZIY-e",
        "outputId": "e84ee633-e5ad-4d1e-8492-c273766f858c"
      },
      "execution_count": null,
      "outputs": [
        {
          "output_type": "stream",
          "name": "stdout",
          "text": [
            "Aww\n"
          ]
        }
      ]
    },
    {
      "cell_type": "markdown",
      "source": [
        "##Functions\n",
        "Each function has three components. They do, Function declaration or prototype. This informs the compiler about the function name, function arguments, and the data type of the return value. A function is a reusable chunk of code that is used to accomplish a single, related activity. Functions improve the modularity of your program and allow for more code reuse.\n"
      ],
      "metadata": {
        "id": "g3uU5C-RJO6K"
      }
    },
    {
      "cell_type": "code",
      "source": [
        "# void DeleteUser(int userid){\n",
        "#     delete(userid)\n",
        "# }\n",
        "\n",
        "def delete_user (userid):\n",
        "  print(\"Successfullu deleted user: {}\".format(userid))\n",
        "\n",
        "def delete_all_users ():\n",
        "  print(\"Successfully deleted all users\")\n",
        "    "
      ],
      "metadata": {
        "id": "5tMmOVv7JVY6"
      },
      "execution_count": null,
      "outputs": []
    },
    {
      "cell_type": "code",
      "source": [
        "userid = 20201234\n",
        "delete_user(20201234)\n",
        "delete_all_users()"
      ],
      "metadata": {
        "colab": {
          "base_uri": "https://localhost:8080/"
        },
        "id": "tZvjmepiKfhq",
        "outputId": "7cac4215-ef46-4b88-b8fc-9bef5fa0cdfc"
      },
      "execution_count": null,
      "outputs": [
        {
          "output_type": "stream",
          "name": "stdout",
          "text": [
            "Successfullu deleted user: 20201234\n",
            "Successfully deleted all users\n"
          ]
        }
      ]
    },
    {
      "cell_type": "code",
      "source": [
        "def add(addend1, addend2):\n",
        "    return addend1 + addend2\n",
        "\n",
        "def power_of_base2(exponent):\n",
        "    return 2**exponent\n",
        "\n",
        "addend1 = 2\n",
        "addend2 = 8\n",
        "\n",
        "exponent = 7\n",
        "\n",
        "#add(addend1, addend2)\n",
        "power_of_base2(exponent)"
      ],
      "metadata": {
        "colab": {
          "base_uri": "https://localhost:8080/"
        },
        "id": "sbEgKqq8MD71",
        "outputId": "e8af90f7-4775-4c80-f598-75016f07f2be"
      },
      "execution_count": null,
      "outputs": [
        {
          "output_type": "execute_result",
          "data": {
            "text/plain": [
              "128"
            ]
          },
          "metadata": {},
          "execution_count": 80
        }
      ]
    },
    {
      "cell_type": "code",
      "source": [
        "add(addend1, addend2)"
      ],
      "metadata": {
        "colab": {
          "base_uri": "https://localhost:8080/"
        },
        "id": "KSMNBWYRNzig",
        "outputId": "dc284fc6-1408-4a28-eaac-ad2c599d8d58"
      },
      "execution_count": null,
      "outputs": [
        {
          "output_type": "execute_result",
          "data": {
            "text/plain": [
              "10"
            ]
          },
          "metadata": {},
          "execution_count": 81
        }
      ]
    },
    {
      "cell_type": "markdown",
      "source": [
        "##**Assignment**\n",
        "Create a grade calculator that computes for the semestral grade of a course. \n",
        "Students could tpe their names, the name of the course, then their prelim, midterm, and final grade. \n",
        "The program should print the semestral grade in 2 decimal points and should display the following emojis depending on the situation: \n",
        "> happy - when grade is greater than 70.00\n",
        "\n",
        "> laughing - when grade is exactly 70.00\n",
        "\n",
        "> sad - when grade is below 70.00\n",
        "\n",
        "\n",
        "---\n",
        "\n",
        "    happy, lol, sad = \"\\U0001F600\", \"U0001F606\", \"\\U0001F62D\"\n",
        "\n",
        "\n",
        "\n"
      ],
      "metadata": {
        "id": "39r4yIA5hWOo"
      }
    },
    {
      "cell_type": "code",
      "source": [
        "name = input(\"Name: \")\n",
        "course = input(\"Course: \")\n",
        "pg = float(input(\"Prelim Grade: \"))\n",
        "mg = float(input(\"Midterm Grade: \"))\n",
        "fg = float(input(\"Final Grade: \"))\n",
        "x = pg*0.3 + mg*0.3 + fg*0.4\n",
        "sem_grade = \"{:.2f}\".format(x)\n",
        "emoji = x\n",
        "print(\"Semestral Grade is: {}\".format(sem_grade, emoji), end =\" \") \n",
        "if(emoji == 70):\n",
        "  print(\"\\U0001F606\")\n",
        "elif(x > 70):\n",
        "  print(\"\\U0001F600\")\n",
        "else:\n",
        "  print(\"\\U0001F62D\")"
      ],
      "metadata": {
        "colab": {
          "base_uri": "https://localhost:8080/"
        },
        "id": "ByFfo_XedjPe",
        "outputId": "83ccebbd-c5f5-44b5-d52b-716368829829"
      },
      "execution_count": null,
      "outputs": [
        {
          "output_type": "stream",
          "name": "stdout",
          "text": [
            "Name: Julie J. Reyes\n",
            "Course: Linear Algebra\n",
            "Prelim Grade: 89.012\n",
            "Midterm Grade: 74.856831\n",
            "Final Grade: 80.00\n",
            "Semestral Grade is: 81.16 😀\n"
          ]
        }
      ]
    }
  ]
}
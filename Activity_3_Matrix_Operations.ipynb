{
  "nbformat": 4,
  "nbformat_minor": 0,
  "metadata": {
    "colab": {
      "name": "Activity_3_Matrix_Operations.ipynb",
      "provenance": [],
      "collapsed_sections": [
        "YTFslD1pYyIL",
        "E_aU6hJ7bqkN",
        "ttrN7sTWb0Ne",
        "rUspfPMLfTKF",
        "rjGPLvupg3uB"
      ],
      "authorship_tag": "ABX9TyPK/tj2Zwpef2S+knmJkMKy",
      "include_colab_link": true
    },
    "kernelspec": {
      "name": "python3",
      "display_name": "Python 3"
    },
    "language_info": {
      "name": "python"
    }
  },
  "cells": [
    {
      "cell_type": "markdown",
      "metadata": {
        "id": "view-in-github",
        "colab_type": "text"
      },
      "source": [
        "<a href=\"https://colab.research.google.com/github/Jlrys/Linear-Algebra_ChE_2nd-Sem-2021-2022/blob/main/Activity_3_Matrix_Operations.ipynb\" target=\"_parent\"><img src=\"https://colab.research.google.com/assets/colab-badge.svg\" alt=\"Open In Colab\"/></a>"
      ]
    },
    {
      "cell_type": "markdown",
      "source": [
        "# Linear Algebra for ChE\n",
        "## Laboratory 6 : Matrix Operations\n",
        "\n",
        "Now that you have a fundamental knowledge about representing and operating with vectors as well as the fundamentals of matrices, we'll try to the same operations with matrices and even more.\n"
      ],
      "metadata": {
        "id": "vnLtzjU5cadG"
      }
    },
    {
      "cell_type": "markdown",
      "source": [
        "###Objectives\n",
        "At the end of this activity you will be able to:\n",
        "1.\tFamiliarize the basic matrix operations.\n",
        "2.\tSolve intermediate equation using the operations.\n",
        "3.\tUse matrix algebra to solve engineering problems.\n"
      ],
      "metadata": {
        "id": "Fz4vlv8xcx3-"
      }
    },
    {
      "cell_type": "markdown",
      "source": [
        "##Discussion"
      ],
      "metadata": {
        "id": "3D-IqeOATgrA"
      }
    },
    {
      "cell_type": "code",
      "source": [
        "import numpy as np\n",
        "import matplotlib.pyplot as plt\n",
        "%matplotlib inline"
      ],
      "metadata": {
        "id": "tLr8bbI2TGBO"
      },
      "execution_count": null,
      "outputs": []
    },
    {
      "cell_type": "markdown",
      "source": [
        "##Transposition\n",
        "One of the fundamental operations in matrix algebra is Transposition. The transpose of a matrix is done by flipping the values of its elements over its diagonals. With this, the rows and columns from the original matrix will be switched. So for a matrix $A$ its transpose is denoted as $A^T$. So for example:"
      ],
      "metadata": {
        "id": "kJg-HoYqTbx4"
      }
    },
    {
      "cell_type": "markdown",
      "source": [
        "$$A = \\begin{bmatrix} -8 & 4 & 7\\\\2 & 3 &-5 \\\\ 4 & -1 & 0\\end{bmatrix} $$\n"
      ],
      "metadata": {
        "id": "OXtQxKvHTlOD"
      }
    },
    {
      "cell_type": "markdown",
      "source": [
        "$$A^T = \\begin{bmatrix} -8 & 2 & 4\\\\4 & 3 &-1 \\\\ 7 & -5 & 0\\end{bmatrix} $$"
      ],
      "metadata": {
        "id": "rD-siSTkURbh"
      }
    },
    {
      "cell_type": "markdown",
      "source": [
        "This can now be achieved programmatically by using `np.transpose()` or using the `T` method."
      ],
      "metadata": {
        "id": "95ziW0mJU8wu"
      }
    },
    {
      "cell_type": "code",
      "source": [
        "A = np.array([\n",
        "    [5,8,6],\n",
        "    [0,-8, -4],\n",
        "    [9,3,0],\n",
        "])\n",
        "A"
      ],
      "metadata": {
        "colab": {
          "base_uri": "https://localhost:8080/"
        },
        "id": "OjA5b7RLVLO6",
        "outputId": "99582723-130d-43a0-a6e8-9eecff332595"
      },
      "execution_count": null,
      "outputs": [
        {
          "output_type": "execute_result",
          "data": {
            "text/plain": [
              "array([[ 5,  8,  6],\n",
              "       [ 0, -8, -4],\n",
              "       [ 9,  3,  0]])"
            ]
          },
          "metadata": {},
          "execution_count": 2
        }
      ]
    },
    {
      "cell_type": "code",
      "source": [
        "AT1 = np.transpose(A)\n",
        "AT1"
      ],
      "metadata": {
        "colab": {
          "base_uri": "https://localhost:8080/"
        },
        "id": "stYJ7isrVbQd",
        "outputId": "e3beb85a-ce84-42d6-b572-25ce3ea801ea"
      },
      "execution_count": null,
      "outputs": [
        {
          "output_type": "execute_result",
          "data": {
            "text/plain": [
              "array([[ 5,  0,  9],\n",
              "       [ 8, -8,  3],\n",
              "       [ 6, -4,  0]])"
            ]
          },
          "metadata": {},
          "execution_count": 3
        }
      ]
    },
    {
      "cell_type": "code",
      "source": [
        "AT2 = A.T\n",
        "AT2"
      ],
      "metadata": {
        "colab": {
          "base_uri": "https://localhost:8080/"
        },
        "id": "UOhAKUgeVnfJ",
        "outputId": "2c294e8a-f873-4316-e295-0421ecdc8e64"
      },
      "execution_count": null,
      "outputs": [
        {
          "output_type": "execute_result",
          "data": {
            "text/plain": [
              "array([[ 5,  0,  9],\n",
              "       [ 8, -8,  3],\n",
              "       [ 6, -4,  0]])"
            ]
          },
          "metadata": {},
          "execution_count": 5
        }
      ]
    },
    {
      "cell_type": "code",
      "source": [
        "np.array_equiv(AT1, AT2)"
      ],
      "metadata": {
        "colab": {
          "base_uri": "https://localhost:8080/"
        },
        "id": "QOdVFuvYVt9k",
        "outputId": "8821ec16-8363-414f-ef02-bc7241906051"
      },
      "execution_count": null,
      "outputs": [
        {
          "output_type": "execute_result",
          "data": {
            "text/plain": [
              "True"
            ]
          },
          "metadata": {},
          "execution_count": 7
        }
      ]
    },
    {
      "cell_type": "code",
      "source": [
        "B = np.array([\n",
        "    [2,-5,8,10], \n",
        "    [3,6,-1,-2],\n",
        "    [-7,4,1,8],\n",
        "])\n",
        "B.shape"
      ],
      "metadata": {
        "colab": {
          "base_uri": "https://localhost:8080/"
        },
        "id": "pok9_3LxWxS8",
        "outputId": "45ef5e54-0d87-4ddb-e42f-70f24432e929"
      },
      "execution_count": null,
      "outputs": [
        {
          "output_type": "execute_result",
          "data": {
            "text/plain": [
              "(3, 4)"
            ]
          },
          "metadata": {},
          "execution_count": 9
        }
      ]
    },
    {
      "cell_type": "code",
      "source": [
        "np.transpose(B).shape"
      ],
      "metadata": {
        "colab": {
          "base_uri": "https://localhost:8080/"
        },
        "id": "UR5UPnJrYlFj",
        "outputId": "ed7fc950-06e2-4f3a-d36c-47b8c5336f62"
      },
      "execution_count": null,
      "outputs": [
        {
          "output_type": "execute_result",
          "data": {
            "text/plain": [
              "(4, 3)"
            ]
          },
          "metadata": {},
          "execution_count": 10
        }
      ]
    },
    {
      "cell_type": "code",
      "source": [
        "B.T.shape"
      ],
      "metadata": {
        "colab": {
          "base_uri": "https://localhost:8080/"
        },
        "id": "5woZr6yCYpRL",
        "outputId": "02cfbd39-7428-4e76-83f9-7887fd15a440"
      },
      "execution_count": null,
      "outputs": [
        {
          "output_type": "execute_result",
          "data": {
            "text/plain": [
              "(4, 3)"
            ]
          },
          "metadata": {},
          "execution_count": 11
        }
      ]
    },
    {
      "cell_type": "markdown",
      "source": [
        "##Dot Product / Inner Product\n",
        "If you recall the dot product from laboratory activity before, we will try to implement the same operation with matrices. In matrix dot product we are going to get the sum of products of the vectors by row-column pairs. So if we have two matrices $X$ and $Y$:"
      ],
      "metadata": {
        "id": "YTFslD1pYyIL"
      }
    },
    {
      "cell_type": "markdown",
      "source": [
        "$$\n",
        "X = \\begin{bmatrix}x_{(0,0)}&x_{(0,1)}\\\\ x_{(1,0)}&x_{(1,1)}\\end{bmatrix}, Y = \\begin{bmatrix}y_{(0,0)}&y_{(0,1)}\\\\ y_{(1,0)}&y_{(1,1)}\\end{bmatrix}\n",
        "$$"
      ],
      "metadata": {
        "id": "lrD1GIhddwQY"
      }
    },
    {
      "cell_type": "markdown",
      "source": [
        "\"$$X\\cdot Y= \\begin{bmatrix} x_{(0,0)}*y_{(0,0)} + x_{(0,1)}*y_{(1,0)} & x_{(0,0)}*y_{(0,1)} + x_{(0,1)}*y_{(1,1)} \\\\  x_{(1,0)}*y_{(0,0)} + x_{(1,1)}*y_{(1,0)} & x_{(1,0)}*y_{(0,1)} + x_{(1,1)}*y_{(1,1)}\\end{bmatrix}\n",
        "$$\n"
      ],
      "metadata": {
        "id": "vdMHMQDCf0om"
      }
    },
    {
      "cell_type": "markdown",
      "source": [
        "So if we assign values to $X$ and $Y$"
      ],
      "metadata": {
        "id": "3ifnad8bgW7G"
      }
    },
    {
      "cell_type": "markdown",
      "source": [
        "$$\n",
        "X = \\begin{bmatrix}1&2\\\\ 0&1\\end{bmatrix}, \n",
        "Y = \\begin{bmatrix}-1&0\\\\ 2&2\\end{bmatrix}\n",
        "$$"
      ],
      "metadata": {
        "id": "bHsZ0k_kgaJy"
      }
    },
    {
      "cell_type": "markdown",
      "source": [
        "$$\n",
        "X \\cdot Y= \\begin{bmatrix} 1*-1 + 2*2 & 1*0 + 2*2 \\\\  0*-1 + 1*2 & 0*0 + 1*2 \\end{bmatrix}\n",
        "= \\begin{bmatrix} 3 & 4 \\\\2 & 2 \\end{bmatrix}\n",
        "$$"
      ],
      "metadata": {
        "id": "eRl515n3gh4a"
      }
    },
    {
      "cell_type": "markdown",
      "source": [
        "This could be achieved programmatically using `np.dot()`, `np.matmul()` or the `@` operator. "
      ],
      "metadata": {
        "id": "t8wKVAVWZEb0"
      }
    },
    {
      "cell_type": "code",
      "source": [
        "J = np.array ([\n",
        "    [6,5,8],\n",
        "    [8,-5,7]\n",
        "])\n",
        "\n",
        "C = np.array([\n",
        "   [1,-2],\n",
        "   [-8,9],\n",
        "   [2,4],\n",
        "])"
      ],
      "metadata": {
        "id": "EjC1eMDuZS0d"
      },
      "execution_count": null,
      "outputs": []
    },
    {
      "cell_type": "code",
      "source": [
        "np.array_equiv(J,C)"
      ],
      "metadata": {
        "colab": {
          "base_uri": "https://localhost:8080/"
        },
        "id": "9B6Se5XzZ5Xw",
        "outputId": "e69fc80d-e940-463d-cdf3-0b8345cd3cca"
      },
      "execution_count": null,
      "outputs": [
        {
          "output_type": "execute_result",
          "data": {
            "text/plain": [
              "False"
            ]
          },
          "metadata": {},
          "execution_count": 13
        }
      ]
    },
    {
      "cell_type": "code",
      "source": [
        "np.dot(J,C)"
      ],
      "metadata": {
        "colab": {
          "base_uri": "https://localhost:8080/"
        },
        "id": "pRwuVfDqaAef",
        "outputId": "1ae04e6b-b5d9-4890-b9c1-90a71372ab2a"
      },
      "execution_count": null,
      "outputs": [
        {
          "output_type": "execute_result",
          "data": {
            "text/plain": [
              "array([[-18,  65],\n",
              "       [ 62, -33]])"
            ]
          },
          "metadata": {},
          "execution_count": 14
        }
      ]
    },
    {
      "cell_type": "code",
      "source": [
        "J.dot(C)"
      ],
      "metadata": {
        "colab": {
          "base_uri": "https://localhost:8080/"
        },
        "id": "xtdZqggjaE1O",
        "outputId": "0e49ea5e-6355-4a65-b36a-289e0c05b388"
      },
      "execution_count": null,
      "outputs": [
        {
          "output_type": "execute_result",
          "data": {
            "text/plain": [
              "array([[-18,  65],\n",
              "       [ 62, -33]])"
            ]
          },
          "metadata": {},
          "execution_count": 15
        }
      ]
    },
    {
      "cell_type": "code",
      "source": [
        "J@C"
      ],
      "metadata": {
        "colab": {
          "base_uri": "https://localhost:8080/"
        },
        "id": "tHGz2kHFaJ5k",
        "outputId": "7d4f0c3c-9db1-4f2a-8b69-66686586d8be"
      },
      "execution_count": null,
      "outputs": [
        {
          "output_type": "execute_result",
          "data": {
            "text/plain": [
              "array([[-18,  65],\n",
              "       [ 62, -33]])"
            ]
          },
          "metadata": {},
          "execution_count": 16
        }
      ]
    },
    {
      "cell_type": "code",
      "source": [
        "np.matmul(J,C)"
      ],
      "metadata": {
        "colab": {
          "base_uri": "https://localhost:8080/"
        },
        "id": "w7WVxTX1aNbE",
        "outputId": "44aab8a0-7a00-4a5a-f44a-d06828948379"
      },
      "execution_count": null,
      "outputs": [
        {
          "output_type": "execute_result",
          "data": {
            "text/plain": [
              "array([[-18,  65],\n",
              "       [ 62, -33]])"
            ]
          },
          "metadata": {},
          "execution_count": 17
        }
      ]
    },
    {
      "cell_type": "code",
      "source": [
        "R = np.array([\n",
        "    [4,7,4,5], \n",
        "    [1,-1,7,-5],\n",
        "    [8,3,-7,0],\n",
        "])\n",
        "S = np.array([\n",
        "    [1,0,2],\n",
        "    [1,7,-9],\n",
        "    [-2,-1,-7],\n",
        "    [0,1,9],\n",
        "])"
      ],
      "metadata": {
        "id": "197ukQPzaUul"
      },
      "execution_count": null,
      "outputs": []
    },
    {
      "cell_type": "code",
      "source": [
        "R@S"
      ],
      "metadata": {
        "colab": {
          "base_uri": "https://localhost:8080/"
        },
        "id": "2QptiKMRbHtT",
        "outputId": "f977393d-e7b2-448a-d7f2-5f0fc054a64c"
      },
      "execution_count": null,
      "outputs": [
        {
          "output_type": "execute_result",
          "data": {
            "text/plain": [
              "array([[  3,  50, -38],\n",
              "       [-14, -19, -83],\n",
              "       [ 25,  28,  38]])"
            ]
          },
          "metadata": {},
          "execution_count": 20
        }
      ]
    },
    {
      "cell_type": "code",
      "source": [
        "R.dot(S)"
      ],
      "metadata": {
        "colab": {
          "base_uri": "https://localhost:8080/"
        },
        "id": "iVNXru2CbOaq",
        "outputId": "0f0f49f4-1a33-41bd-c9b0-398ae788d18a"
      },
      "execution_count": null,
      "outputs": [
        {
          "output_type": "execute_result",
          "data": {
            "text/plain": [
              "array([[  3,  50, -38],\n",
              "       [-14, -19, -83],\n",
              "       [ 25,  28,  38]])"
            ]
          },
          "metadata": {},
          "execution_count": 21
        }
      ]
    },
    {
      "cell_type": "code",
      "source": [
        "np.matmul(R,S)"
      ],
      "metadata": {
        "colab": {
          "base_uri": "https://localhost:8080/"
        },
        "id": "H36Vy6MfbSuE",
        "outputId": "8e338034-0321-4968-ac2d-e2b55e92d300"
      },
      "execution_count": null,
      "outputs": [
        {
          "output_type": "execute_result",
          "data": {
            "text/plain": [
              "array([[  3,  50, -38],\n",
              "       [-14, -19, -83],\n",
              "       [ 25,  28,  38]])"
            ]
          },
          "metadata": {},
          "execution_count": 22
        }
      ]
    },
    {
      "cell_type": "code",
      "source": [
        "np.dot(R,S)"
      ],
      "metadata": {
        "colab": {
          "base_uri": "https://localhost:8080/"
        },
        "id": "h42ckH-8bYvL",
        "outputId": "777ef42b-b462-4793-f7fc-23e1172db432"
      },
      "execution_count": null,
      "outputs": [
        {
          "output_type": "execute_result",
          "data": {
            "text/plain": [
              "array([[  3,  50, -38],\n",
              "       [-14, -19, -83],\n",
              "       [ 25,  28,  38]])"
            ]
          },
          "metadata": {},
          "execution_count": 23
        }
      ]
    },
    {
      "cell_type": "markdown",
      "source": [
        "In matrix dot products there are additional rules compared with vector dot products. Since vector dot products were just in one dimension there are less restrictions. Since now we are dealing with Rank 2 vectors we need to consider some rules:"
      ],
      "metadata": {
        "id": "wwl6-jPdhlao"
      }
    },
    {
      "cell_type": "markdown",
      "source": [
        "###Rule 1: The inner dimensions of the two matrices in question must be the same."
      ],
      "metadata": {
        "id": "E_aU6hJ7bqkN"
      }
    },
    {
      "cell_type": "markdown",
      "source": [
        "So given a matrix $A$ with a shape of $(a,b)$ where $a$ and $b$ are any integers. If we want to do a dot product between $A$ and another matrix $B$, then matrix $B$ should have a shape of $(b,c)$ where $b$ and $c$ are any integers. So for given the following matrices:"
      ],
      "metadata": {
        "id": "3Wg5ADoRh6Ri"
      }
    },
    {
      "cell_type": "markdown",
      "source": [
        "$$\n",
        "A = \\begin{bmatrix}2&4\\\\5&-2\\\\0&1\\end{bmatrix},  \n",
        "B = \\begin{bmatrix}1&1\\\\3&3\\\\-1&-2\\end{bmatrix}, \n",
        "C = \\begin{bmatrix}0&1&1\\\\1&1&2\\end{bmatrix}\n",
        "$$"
      ],
      "metadata": {
        "id": "b7hYmhq2h-4v"
      }
    },
    {
      "cell_type": "markdown",
      "source": [
        "So in this case $A$ has a shape of $(3,2)$, $B$ has a shape of $(3,2)$ and $C$ has a shape of $(2,3)$. So the only matrix pairs that is eligible to perform dot product is matrices $A\\cdot C$, or $B\\cdot C$.  "
      ],
      "metadata": {
        "id": "2X9h5tmDiN_y"
      }
    },
    {
      "cell_type": "code",
      "source": [
        "Y = np.array([\n",
        "    [-4,-8,-3],\n",
        "    [9,6,3],\n",
        "    [1,0,-5],\n",
        "])\n",
        "U = np.array([\n",
        "    [1,0,2,0],\n",
        "    [-9,-5,-4,-2],\n",
        "    [0,1,1,-5],\n",
        "])\n",
        "\n",
        "M = np.array([\n",
        "    [1,8,0],\n",
        "    [-9,7,1],\n",
        "    [5,7,2],\n",
        "    [-1,0,1],\n",
        "])\n",
        "print(Y.shape)\n",
        "print(U.shape)\n",
        "print(M.shape)"
      ],
      "metadata": {
        "colab": {
          "base_uri": "https://localhost:8080/"
        },
        "id": "h8kMn4eDcB0i",
        "outputId": "0687cda4-fded-4c2a-e862-27ca8bc40ad5"
      },
      "execution_count": null,
      "outputs": [
        {
          "output_type": "stream",
          "name": "stdout",
          "text": [
            "(3, 3)\n",
            "(3, 4)\n",
            "(4, 3)\n"
          ]
        }
      ]
    },
    {
      "cell_type": "code",
      "source": [
        "Y@U"
      ],
      "metadata": {
        "colab": {
          "base_uri": "https://localhost:8080/"
        },
        "id": "cdthDbIHdfqX",
        "outputId": "745c2875-aa81-44b3-9edd-22720b674eb4"
      },
      "execution_count": null,
      "outputs": [
        {
          "output_type": "execute_result",
          "data": {
            "text/plain": [
              "array([[ 68,  37,  21,  31],\n",
              "       [-45, -27,  -3, -27],\n",
              "       [  1,  -5,  -3,  25]])"
            ]
          },
          "metadata": {},
          "execution_count": 4
        }
      ]
    },
    {
      "cell_type": "code",
      "source": [
        "U@M"
      ],
      "metadata": {
        "colab": {
          "base_uri": "https://localhost:8080/"
        },
        "id": "QvCJvLGQdjL9",
        "outputId": "c17dfb16-96bd-47cf-f1b0-dc8185a43ef5"
      },
      "execution_count": null,
      "outputs": [
        {
          "output_type": "execute_result",
          "data": {
            "text/plain": [
              "array([[  11,   22,    4],\n",
              "       [  18, -135,  -15],\n",
              "       [   1,   14,   -2]])"
            ]
          },
          "metadata": {},
          "execution_count": 5
        }
      ]
    },
    {
      "cell_type": "code",
      "source": [
        "M@U"
      ],
      "metadata": {
        "colab": {
          "base_uri": "https://localhost:8080/"
        },
        "id": "Q98llvlSdsei",
        "outputId": "5a545a0d-ce4e-41f7-b616-49b6d2ce41f5"
      },
      "execution_count": null,
      "outputs": [
        {
          "output_type": "execute_result",
          "data": {
            "text/plain": [
              "array([[-71, -40, -30, -16],\n",
              "       [-72, -34, -45, -19],\n",
              "       [-58, -33, -16, -24],\n",
              "       [ -1,   1,  -1,  -5]])"
            ]
          },
          "metadata": {},
          "execution_count": 6
        }
      ]
    },
    {
      "cell_type": "code",
      "source": [
        "Y @ M.T"
      ],
      "metadata": {
        "colab": {
          "base_uri": "https://localhost:8080/"
        },
        "id": "y0BXut-Gdy7g",
        "outputId": "7dbe20ce-b0f6-48a2-fc9a-a7514051b5df"
      },
      "execution_count": null,
      "outputs": [
        {
          "output_type": "execute_result",
          "data": {
            "text/plain": [
              "array([[-68, -23, -82,   1],\n",
              "       [ 57, -36,  93,  -6],\n",
              "       [  1, -14,  -5,  -6]])"
            ]
          },
          "metadata": {},
          "execution_count": 8
        }
      ]
    },
    {
      "cell_type": "markdown",
      "source": [
        "If you would notice the shape of the dot product changed and its shape is not the same as any of the matrices we used. The shape of a dot product is actually derived from the shapes of the matrices used. So recall matrix $A$ with a shape of $(a,b)$ and matrix $B$ with a shape of $(b,c)$, $A\\cdot B$ should have a shape $(a,c)$."
      ],
      "metadata": {
        "id": "quTCwxVziqoo"
      }
    },
    {
      "cell_type": "code",
      "source": [
        "A @ B.T"
      ],
      "metadata": {
        "colab": {
          "base_uri": "https://localhost:8080/"
        },
        "id": "ZDx2OcOulszc",
        "outputId": "06104ba4-7ba3-4133-a61f-fc0ff3661c10"
      },
      "execution_count": null,
      "outputs": [
        {
          "output_type": "execute_result",
          "data": {
            "text/plain": [
              "array([[20, 23, 19],\n",
              "       [27, 30, 32],\n",
              "       [11, 14, 13]])"
            ]
          },
          "metadata": {},
          "execution_count": 11
        }
      ]
    },
    {
      "cell_type": "code",
      "source": [
        "X = np.array([\n",
        "      [1,2,3,0]\n",
        "])\n",
        "Y = np.array([\n",
        "      [1,0,4,-1]\n",
        "])\n",
        "print(X.shape)\n",
        "print(Y.shape)"
      ],
      "metadata": {
        "colab": {
          "base_uri": "https://localhost:8080/"
        },
        "id": "qDms6jgEl0Os",
        "outputId": "aadb8892-9f1c-41b2-b7a4-587162e67686"
      },
      "execution_count": null,
      "outputs": [
        {
          "output_type": "stream",
          "name": "stdout",
          "text": [
            "(1, 4)\n",
            "(1, 4)\n"
          ]
        }
      ]
    },
    {
      "cell_type": "code",
      "source": [
        "Y.T @ X"
      ],
      "metadata": {
        "colab": {
          "base_uri": "https://localhost:8080/"
        },
        "id": "GL8JQyJUmIh8",
        "outputId": "991e0aea-1dc6-4534-8240-587ae056af2a"
      },
      "execution_count": null,
      "outputs": [
        {
          "output_type": "execute_result",
          "data": {
            "text/plain": [
              "array([[ 1,  2,  3,  0],\n",
              "       [ 0,  0,  0,  0],\n",
              "       [ 4,  8, 12,  0],\n",
              "       [-1, -2, -3,  0]])"
            ]
          },
          "metadata": {},
          "execution_count": 13
        }
      ]
    },
    {
      "cell_type": "code",
      "source": [
        "X @ Y.T"
      ],
      "metadata": {
        "colab": {
          "base_uri": "https://localhost:8080/"
        },
        "id": "W3QCTkq0mL1n",
        "outputId": "f8cca2f5-bb1c-4f8d-c35f-3a231aab22c7"
      },
      "execution_count": null,
      "outputs": [
        {
          "output_type": "execute_result",
          "data": {
            "text/plain": [
              "array([[13]])"
            ]
          },
          "metadata": {},
          "execution_count": 14
        }
      ]
    },
    {
      "cell_type": "markdown",
      "source": [
        "And youcan see that when you try to multiply A and B, it returns `ValueError` pertaining to matrix shape mismatch."
      ],
      "metadata": {
        "id": "Qi1v18cljHBY"
      }
    },
    {
      "cell_type": "markdown",
      "source": [
        "###Rule 2: Dot Product has special properties"
      ],
      "metadata": {
        "id": "ttrN7sTWb0Ne"
      }
    },
    {
      "cell_type": "markdown",
      "source": [
        "Dot products are prevalent in matrix algebra, this implies that it has several unique properties and it should be considered when formulation solutions:\n",
        "1. $A\\cdot B \\neq B\\cdot A$\n",
        "2. $A\\cdot (B\\cdot C) = (A\\cdot B) \\cdot C$\n",
        "3. $A\\cdot(B+C) = A\\cdot B + A\\cdot C$\n",
        "4. $(B+C)\\cdot A = B\\cdot A + C\\cdot A$\n",
        "5. $A\\cdot I = A$\n",
        "6. $A\\cdot \\emptyset = \\emptyset$\n"
      ],
      "metadata": {
        "id": "BcpNv613jJ8v"
      }
    },
    {
      "cell_type": "markdown",
      "source": [
        "I'll be doing just one of the properties and I'll leave the rest to test your skills!"
      ],
      "metadata": {
        "id": "VMd0HpxEjNin"
      }
    },
    {
      "cell_type": "code",
      "source": [
        "A = np.array([\n",
        "      [3,2,1],\n",
        "      [4,5,1],\n",
        "      [1,1,1],\n",
        "])\n",
        "B = np.array([\n",
        "      [4,1,6],\n",
        "      [4,1,9],\n",
        "      [1,4,8],\n",
        "])\n",
        "C = np.array([\n",
        "      [1,1,0],\n",
        "      [0,1,1],\n",
        "      [1,0,1]\n",
        "])\n"
      ],
      "metadata": {
        "id": "x0fAYU_wkCD_"
      },
      "execution_count": null,
      "outputs": []
    },
    {
      "cell_type": "code",
      "source": [
        "np.eye(A)"
      ],
      "metadata": {
        "colab": {
          "base_uri": "https://localhost:8080/",
          "height": 287
        },
        "id": "uk77t0CpkhyE",
        "outputId": "80a0ae87-b1b6-4248-e872-15de71b704bc"
      },
      "execution_count": null,
      "outputs": [
        {
          "output_type": "error",
          "ename": "TypeError",
          "evalue": "ignored",
          "traceback": [
            "\u001b[0;31m---------------------------------------------------------------------------\u001b[0m",
            "\u001b[0;31mTypeError\u001b[0m                                 Traceback (most recent call last)",
            "\u001b[0;32m<ipython-input-21-13ff6dcd75e1>\u001b[0m in \u001b[0;36m<module>\u001b[0;34m()\u001b[0m\n\u001b[0;32m----> 1\u001b[0;31m \u001b[0mnp\u001b[0m\u001b[0;34m.\u001b[0m\u001b[0meye\u001b[0m\u001b[0;34m(\u001b[0m\u001b[0mA\u001b[0m\u001b[0;34m)\u001b[0m\u001b[0;34m\u001b[0m\u001b[0;34m\u001b[0m\u001b[0m\n\u001b[0m",
            "\u001b[0;32m/usr/local/lib/python3.7/dist-packages/numpy/lib/twodim_base.py\u001b[0m in \u001b[0;36meye\u001b[0;34m(N, M, k, dtype, order, like)\u001b[0m\n\u001b[1;32m    212\u001b[0m     \u001b[0;32mif\u001b[0m \u001b[0mM\u001b[0m \u001b[0;32mis\u001b[0m \u001b[0;32mNone\u001b[0m\u001b[0;34m:\u001b[0m\u001b[0;34m\u001b[0m\u001b[0;34m\u001b[0m\u001b[0m\n\u001b[1;32m    213\u001b[0m         \u001b[0mM\u001b[0m \u001b[0;34m=\u001b[0m \u001b[0mN\u001b[0m\u001b[0;34m\u001b[0m\u001b[0;34m\u001b[0m\u001b[0m\n\u001b[0;32m--> 214\u001b[0;31m     \u001b[0mm\u001b[0m \u001b[0;34m=\u001b[0m \u001b[0mzeros\u001b[0m\u001b[0;34m(\u001b[0m\u001b[0;34m(\u001b[0m\u001b[0mN\u001b[0m\u001b[0;34m,\u001b[0m \u001b[0mM\u001b[0m\u001b[0;34m)\u001b[0m\u001b[0;34m,\u001b[0m \u001b[0mdtype\u001b[0m\u001b[0;34m=\u001b[0m\u001b[0mdtype\u001b[0m\u001b[0;34m,\u001b[0m \u001b[0morder\u001b[0m\u001b[0;34m=\u001b[0m\u001b[0morder\u001b[0m\u001b[0;34m)\u001b[0m\u001b[0;34m\u001b[0m\u001b[0;34m\u001b[0m\u001b[0m\n\u001b[0m\u001b[1;32m    215\u001b[0m     \u001b[0;32mif\u001b[0m \u001b[0mk\u001b[0m \u001b[0;34m>=\u001b[0m \u001b[0mM\u001b[0m\u001b[0;34m:\u001b[0m\u001b[0;34m\u001b[0m\u001b[0;34m\u001b[0m\u001b[0m\n\u001b[1;32m    216\u001b[0m         \u001b[0;32mreturn\u001b[0m \u001b[0mm\u001b[0m\u001b[0;34m\u001b[0m\u001b[0;34m\u001b[0m\u001b[0m\n",
            "\u001b[0;31mTypeError\u001b[0m: only integer scalar arrays can be converted to a scalar index"
          ]
        }
      ]
    },
    {
      "cell_type": "code",
      "source": [
        "A.dot(np.eye(3))"
      ],
      "metadata": {
        "colab": {
          "base_uri": "https://localhost:8080/"
        },
        "id": "gSOwq4vIk8Ds",
        "outputId": "d3ffe781-7a17-4de4-df38-00f612bb399f"
      },
      "execution_count": null,
      "outputs": [
        {
          "output_type": "execute_result",
          "data": {
            "text/plain": [
              "array([[3., 2., 1.],\n",
              "       [4., 5., 1.],\n",
              "       [1., 1., 1.]])"
            ]
          },
          "metadata": {},
          "execution_count": 5
        }
      ]
    },
    {
      "cell_type": "code",
      "source": [
        "np.array_equal(A@B,B@A)"
      ],
      "metadata": {
        "colab": {
          "base_uri": "https://localhost:8080/"
        },
        "id": "6v1Ye7cJk_4_",
        "outputId": "c52b0b18-49b2-4d4d-e557-5873619c9657"
      },
      "execution_count": null,
      "outputs": [
        {
          "output_type": "execute_result",
          "data": {
            "text/plain": [
              "False"
            ]
          },
          "metadata": {},
          "execution_count": 6
        }
      ]
    },
    {
      "cell_type": "code",
      "source": [
        "E = A @ (B @ C)\n",
        "E"
      ],
      "metadata": {
        "colab": {
          "base_uri": "https://localhost:8080/"
        },
        "id": "H7Omv62qlKuu",
        "outputId": "f416bd91-f4cb-4c2b-caf7-187d122bacc3"
      },
      "execution_count": null,
      "outputs": [
        {
          "output_type": "execute_result",
          "data": {
            "text/plain": [
              "array([[ 65,  30,  53],\n",
              "       [114,  50,  90],\n",
              "       [ 32,  15,  29]])"
            ]
          },
          "metadata": {},
          "execution_count": 8
        }
      ]
    },
    {
      "cell_type": "code",
      "source": [
        "F = (A @ B) @ C\n",
        "F"
      ],
      "metadata": {
        "colab": {
          "base_uri": "https://localhost:8080/"
        },
        "id": "XS1Q7xUWlSV3",
        "outputId": "3fc1cb79-92ab-4a1a-a049-8c520e44f2e6"
      },
      "execution_count": null,
      "outputs": [
        {
          "output_type": "execute_result",
          "data": {
            "text/plain": [
              "array([[ 65,  30,  53],\n",
              "       [114,  50,  90],\n",
              "       [ 32,  15,  29]])"
            ]
          },
          "metadata": {},
          "execution_count": 9
        }
      ]
    },
    {
      "cell_type": "code",
      "source": [
        "np.array_equal(E,X)"
      ],
      "metadata": {
        "colab": {
          "base_uri": "https://localhost:8080/"
        },
        "id": "Bal3ev23la38",
        "outputId": "f3837fea-824e-4099-f260-e63e7773c2a1"
      },
      "execution_count": null,
      "outputs": [
        {
          "output_type": "execute_result",
          "data": {
            "text/plain": [
              "False"
            ]
          },
          "metadata": {},
          "execution_count": 15
        }
      ]
    },
    {
      "cell_type": "code",
      "source": [
        "np.array_equiv(E,F)"
      ],
      "metadata": {
        "colab": {
          "base_uri": "https://localhost:8080/"
        },
        "id": "FDns3LWemVNx",
        "outputId": "d4a2e543-7a2f-41c4-c954-d007401bc2a7"
      },
      "execution_count": null,
      "outputs": [
        {
          "output_type": "execute_result",
          "data": {
            "text/plain": [
              "True"
            ]
          },
          "metadata": {},
          "execution_count": 16
        }
      ]
    },
    {
      "cell_type": "code",
      "source": [
        "np.eye(3)"
      ],
      "metadata": {
        "colab": {
          "base_uri": "https://localhost:8080/"
        },
        "id": "Hw9O_ahqmfFe",
        "outputId": "4d286188-4ce6-4a18-9137-225d2d43a8df"
      },
      "execution_count": null,
      "outputs": [
        {
          "output_type": "execute_result",
          "data": {
            "text/plain": [
              "array([[1., 0., 0.],\n",
              "       [0., 1., 0.],\n",
              "       [0., 0., 1.]])"
            ]
          },
          "metadata": {},
          "execution_count": 15
        }
      ]
    },
    {
      "cell_type": "code",
      "source": [
        "A@E"
      ],
      "metadata": {
        "colab": {
          "base_uri": "https://localhost:8080/"
        },
        "id": "VNl0Dsf4mjfQ",
        "outputId": "5b04d00c-d22d-44f1-f7a7-c79658903d71"
      },
      "execution_count": null,
      "outputs": [
        {
          "output_type": "execute_result",
          "data": {
            "text/plain": [
              "array([[455, 205, 368],\n",
              "       [862, 385, 691],\n",
              "       [211,  95, 172]])"
            ]
          },
          "metadata": {},
          "execution_count": 18
        }
      ]
    },
    {
      "cell_type": "code",
      "source": [
        "z_mat = np.zeros(A.shape)\n",
        "z_mat"
      ],
      "metadata": {
        "colab": {
          "base_uri": "https://localhost:8080/"
        },
        "id": "9l2-QSsOmlrC",
        "outputId": "efc51a0e-a00b-4c4b-9b01-eaec2c0a2e56"
      },
      "execution_count": null,
      "outputs": [
        {
          "output_type": "execute_result",
          "data": {
            "text/plain": [
              "array([[0., 0., 0.],\n",
              "       [0., 0., 0.],\n",
              "       [0., 0., 0.]])"
            ]
          },
          "metadata": {},
          "execution_count": 20
        }
      ]
    },
    {
      "cell_type": "code",
      "source": [
        "a_dot_z = A.dot(np.zeros(A.shape))\n",
        "a_dot_z"
      ],
      "metadata": {
        "colab": {
          "base_uri": "https://localhost:8080/"
        },
        "id": "kvuPK04bmvm-",
        "outputId": "2cee0499-bb71-4726-fd34-eafc0cc654a5"
      },
      "execution_count": null,
      "outputs": [
        {
          "output_type": "execute_result",
          "data": {
            "text/plain": [
              "array([[0., 0., 0.],\n",
              "       [0., 0., 0.],\n",
              "       [0., 0., 0.]])"
            ]
          },
          "metadata": {},
          "execution_count": 21
        }
      ]
    },
    {
      "cell_type": "code",
      "source": [
        "np.array_equal(a_dot_z,z_mat)"
      ],
      "metadata": {
        "colab": {
          "base_uri": "https://localhost:8080/"
        },
        "id": "j8HthzlEm6wk",
        "outputId": "275893ad-d506-4acb-acc7-def278305c6a"
      },
      "execution_count": null,
      "outputs": [
        {
          "output_type": "execute_result",
          "data": {
            "text/plain": [
              "True"
            ]
          },
          "metadata": {},
          "execution_count": 22
        }
      ]
    },
    {
      "cell_type": "code",
      "source": [
        "null_mat = np.empty(A.shape, dtype=float)\n",
        "null = np.array(null_mat, dtype=float)\n",
        "print(null)\n",
        "np.allclose(a_dot_z,null)"
      ],
      "metadata": {
        "colab": {
          "base_uri": "https://localhost:8080/"
        },
        "id": "maROpr0pnBgU",
        "outputId": "a9054d0c-6087-47e4-aea4-310f4cc81b8b"
      },
      "execution_count": null,
      "outputs": [
        {
          "output_type": "stream",
          "name": "stdout",
          "text": [
            "[[0. 0. 0.]\n",
            " [0. 0. 0.]\n",
            " [0. 0. 0.]]\n"
          ]
        },
        {
          "output_type": "execute_result",
          "data": {
            "text/plain": [
              "True"
            ]
          },
          "metadata": {},
          "execution_count": 25
        }
      ]
    },
    {
      "cell_type": "markdown",
      "source": [
        "##Determinant\n",
        "A determinant is a scalar value derived from a square matrix. The determinant is a fundamental and important value used in matrix algebra. Although it will not be evident in this laboratory on how it can be used practically, but it will be realty used in future lessons."
      ],
      "metadata": {
        "id": "rUspfPMLfTKF"
      }
    },
    {
      "cell_type": "markdown",
      "source": [
        "The determinant of some matrix $A$ is denoted as $det(A)$ or $|A|$. So let's say $A$ is represented as:"
      ],
      "metadata": {
        "id": "FgpliQjWn1G_"
      }
    },
    {
      "cell_type": "markdown",
      "source": [
        "$$\n",
        "A = \\begin{bmatrix}a_{(0,0)}&a_{(0,1)}\\\\a_{(1,0)}&a_{(1,1)}\\end{bmatrix}\n",
        "$$"
      ],
      "metadata": {
        "id": "Se0Z2QTJn84W"
      }
    },
    {
      "cell_type": "markdown",
      "source": [
        "We can compute for the determinant as:"
      ],
      "metadata": {
        "id": "8olB5NoeoExj"
      }
    },
    {
      "cell_type": "markdown",
      "source": [
        "$$|A| = a_{(0,0)}*a_{(1,1)} - a_{(1,0)}*a_{(0,1)}$$"
      ],
      "metadata": {
        "id": "raU_nT_-oKe6"
      }
    },
    {
      "cell_type": "markdown",
      "source": [
        "So if we have $A$ as:"
      ],
      "metadata": {
        "id": "E5qiQnyXoOSO"
      }
    },
    {
      "cell_type": "markdown",
      "source": [
        "$$\n",
        "A = \\begin{bmatrix}1&4\\\\0&3\\end{bmatrix}, |A| = 3\n",
        "$$"
      ],
      "metadata": {
        "id": "GdieFmd0oRQ7"
      }
    },
    {
      "cell_type": "markdown",
      "source": [
        "But you might wonder how about square matrices beyond the shape $(2,2)$? We can approach this problem by using several methods such as co-factor expansion and the minors method. This can be taught in the lecture of the laboratory but we can achieve the strenuous computation of high-dimensional matrices programmatically using Python. We can achieve this by using `np.linalg.det()`."
      ],
      "metadata": {
        "id": "zgzWNs3QoYBC"
      }
    },
    {
      "cell_type": "code",
      "source": [
        "X = np.array([\n",
        "    [4,-7],\n",
        "    [1,9],\n",
        "])\n",
        "np.linalg.det(X)"
      ],
      "metadata": {
        "colab": {
          "base_uri": "https://localhost:8080/"
        },
        "id": "0OKvHFBpfVmA",
        "outputId": "7c10ac10-5a03-4839-a98e-4dd29d6e7e87"
      },
      "execution_count": null,
      "outputs": [
        {
          "output_type": "execute_result",
          "data": {
            "text/plain": [
              "42.99999999999998"
            ]
          },
          "metadata": {},
          "execution_count": 23
        }
      ]
    },
    {
      "cell_type": "code",
      "source": [
        "Z = np.array([\n",
        "    [0,2,5],\n",
        "    [8,7,-4],\n",
        "    [3,-6,-4],\n",
        "])\n",
        "np.linalg.det(Z)"
      ],
      "metadata": {
        "colab": {
          "base_uri": "https://localhost:8080/"
        },
        "id": "2vz-2QxnfrB5",
        "outputId": "4c4f33d0-8f2c-4677-87fe-bc2847da2b2c"
      },
      "execution_count": null,
      "outputs": [
        {
          "output_type": "execute_result",
          "data": {
            "text/plain": [
              "-304.9999999999998"
            ]
          },
          "metadata": {},
          "execution_count": 36
        }
      ]
    },
    {
      "cell_type": "markdown",
      "source": [
        "##Inverse\n",
        "The inverse of a matrix is another fundamental operation in matrix algebra. Determining the inverse of a matrix let us determine if its solvability and its characteristic as a system of linear equation — we'll expand on this in the nect module. Another use of the inverse matrix is solving the problem of divisibility between matrices. Although element-wise division exists but dividing the entire concept of matrices does not exists. Inverse matrices provides a related operation that could have the same concept of \\\"dividing\\\" matrices."
      ],
      "metadata": {
        "id": "rjGPLvupg3uB"
      }
    },
    {
      "cell_type": "markdown",
      "source": [
        "Now to determine the inverse of a matrix we need to perform several steps. So let's say we have a matrix $M$:"
      ],
      "metadata": {
        "id": "thkEcVm9ouvW"
      }
    },
    {
      "cell_type": "markdown",
      "source": [
        "$$M = \\begin{bmatrix}1&7\\\\-3&5\\end{bmatrix}$$"
      ],
      "metadata": {
        "id": "rbSjsE1coyQ8"
      }
    },
    {
      "cell_type": "markdown",
      "source": [
        "First, we need to get the determinant of $M$."
      ],
      "metadata": {
        "id": "VU4fEUtxo3hj"
      }
    },
    {
      "cell_type": "markdown",
      "source": [
        "$$|M| = (1)(5)-(-3)(7) = 26$$"
      ],
      "metadata": {
        "id": "FobsUPDqo8J6"
      }
    },
    {
      "cell_type": "markdown",
      "source": [
        "Next, we need to reform the matrix into the inverse form:"
      ],
      "metadata": {
        "id": "1Kp5Lq0kpAGz"
      }
    },
    {
      "cell_type": "markdown",
      "source": [
        "$$M^{-1} = \\frac{1}{|M|} \\begin{bmatrix} m_{(1,1)} & -m_{(0,1)} \\\\ -m_{(1,0)} & m_{(0,0)}\\end{bmatrix}$$"
      ],
      "metadata": {
        "id": "e-yEYJ45pDxj"
      }
    },
    {
      "cell_type": "markdown",
      "source": [
        "So that will be:"
      ],
      "metadata": {
        "id": "c2LiYlU0pKsS"
      }
    },
    {
      "cell_type": "markdown",
      "source": [
        "$$M^{-1} = \\frac{1}{26} \\begin{bmatrix} 5 & -7 \\\\ 3 & 1\\end{bmatrix} = \\begin{bmatrix} \\frac{5}{26} & \\frac{-7}{26} \\\\ \\frac{3}{26} & \\frac{1}{26}\\end{bmatrix}$$"
      ],
      "metadata": {
        "id": "Je_MMJEEpNZ_"
      }
    },
    {
      "cell_type": "markdown",
      "source": [
        "For higher-dimension matrices you might need to use co-factors, minors, adjugates, and other reduction techinques. To solve this programmatially we can use `np.linalg.inv()`."
      ],
      "metadata": {
        "id": "Devv4rykpaxz"
      }
    },
    {
      "cell_type": "code",
      "source": [
        "O = np.array([\n",
        "    [8,4],\n",
        "    [3,5],\n",
        "])\n",
        "np.array(O @ np.linalg.inv(O), dtype=int)"
      ],
      "metadata": {
        "colab": {
          "base_uri": "https://localhost:8080/"
        },
        "id": "38vnIepIg5vr",
        "outputId": "7fb58d55-9bb2-43ec-b244-b65bfc6e5c18"
      },
      "execution_count": null,
      "outputs": [
        {
          "output_type": "execute_result",
          "data": {
            "text/plain": [
              "array([[1, 0],\n",
              "       [0, 1]])"
            ]
          },
          "metadata": {},
          "execution_count": 37
        }
      ]
    },
    {
      "cell_type": "code",
      "source": [
        "T = np.array([\n",
        "    [0,2,-7],\n",
        "    [7,6,-1],\n",
        "    [-4,6,0]\n",
        "])\n",
        "G = np.linalg.inv(T)\n",
        "G"
      ],
      "metadata": {
        "colab": {
          "base_uri": "https://localhost:8080/"
        },
        "id": "8xyTdUuahTmL",
        "outputId": "7077a620-ad02-4ce9-da30-0b03d9b93396"
      },
      "execution_count": null,
      "outputs": [
        {
          "output_type": "execute_result",
          "data": {
            "text/plain": [
              "array([[-0.01321586,  0.09251101, -0.08810573],\n",
              "       [-0.00881057,  0.06167401,  0.10792952],\n",
              "       [-0.14537445,  0.01762115,  0.030837  ]])"
            ]
          },
          "metadata": {},
          "execution_count": 39
        }
      ]
    },
    {
      "cell_type": "code",
      "source": [
        "T@G"
      ],
      "metadata": {
        "id": "sEP1x3aShxgO",
        "outputId": "f7f95ade-b711-4917-ff02-8d06c46c769f",
        "colab": {
          "base_uri": "https://localhost:8080/"
        }
      },
      "execution_count": null,
      "outputs": [
        {
          "output_type": "execute_result",
          "data": {
            "text/plain": [
              "array([[ 1.00000000e+00,  1.38777878e-17, -1.73472348e-17],\n",
              "       [ 0.00000000e+00,  1.00000000e+00,  1.56125113e-16],\n",
              "       [ 0.00000000e+00,  6.93889390e-17,  1.00000000e+00]])"
            ]
          },
          "metadata": {},
          "execution_count": 40
        }
      ]
    },
    {
      "cell_type": "markdown",
      "source": [
        "To validate the wether if the matric that you have solved is really the inverse, we follow this dot product property for a matrix $M$:"
      ],
      "metadata": {
        "id": "8inxVPjUph5N"
      }
    },
    {
      "cell_type": "markdown",
      "source": [
        "$$M\\cdot M^{-1} = I$$"
      ],
      "metadata": {
        "id": "uIhGkqdjprJf"
      }
    },
    {
      "cell_type": "code",
      "source": [
        "squad = np.array([\n",
        "        [1.0, 1.0, 0.5],\n",
        "        [0.7, 0.7, 0.9],\n",
        "        [0.3, 0.3, 1.0]\n",
        "])\n",
        "weights = np.array([\n",
        "        [0.2, 0.2, 0.6]\n",
        "])\n",
        "p_grade = squad @ weights.T\n",
        "p_grade"
      ],
      "metadata": {
        "colab": {
          "base_uri": "https://localhost:8080/"
        },
        "id": "vwH_VzRDp0tL",
        "outputId": "08f48e42-a20c-4387-ca9b-08bc86a9726e"
      },
      "execution_count": null,
      "outputs": [
        {
          "output_type": "execute_result",
          "data": {
            "text/plain": [
              "array([[0.7 ],\n",
              "       [0.82],\n",
              "       [0.72]])"
            ]
          },
          "metadata": {},
          "execution_count": 26
        }
      ]
    },
    {
      "cell_type": "markdown",
      "source": [
        "##Activity\n",
        "###Task 1\n",
        "Prove and implement the remaining 6 matrix multiplication properties. You may create your own matrices in which their shapes should not be lower than $(3,3)$. In your methodology, create individual flowcharts for each property and discuss the property you would then present your proofs or validity of your implementation in the results section by comparing your result to present functions from NumPy."
      ],
      "metadata": {
        "id": "mzolybJ-qKgA"
      }
    },
    {
      "cell_type": "code",
      "source": [
        "J = np.array([\n",
        "    [2,-7,0,-5],\n",
        "    [9,-1,3,-4],\n",
        "    [6,-8,-7,0],\n",
        "    [-3,1,-2,9],\n",
        "])\n",
        "R = np.array([\n",
        "    [-7,-4,-6,7],\n",
        "    [0,-1,3,9],\n",
        "    [2,3,-1,4],\n",
        "    [-1,5,-3,0]\n",
        "])\n",
        "G = np.array([\n",
        "    [-1,2,-1,6],\n",
        "    [-9,3,-5,3],\n",
        "    [-7,-5,3,2],\n",
        "    [1,0,2,5]\n",
        "])"
      ],
      "metadata": {
        "id": "fHayti1cQ0iE"
      },
      "execution_count": null,
      "outputs": []
    },
    {
      "cell_type": "markdown",
      "source": [
        "$A\\cdot B \\neq B\\cdot A$"
      ],
      "metadata": {
        "id": "0Hw-_qZkq27e"
      }
    },
    {
      "cell_type": "code",
      "source": [
        "U = J@R\n",
        "U"
      ],
      "metadata": {
        "colab": {
          "base_uri": "https://localhost:8080/"
        },
        "id": "qjcdY-eqnjXl",
        "outputId": "602669ef-6791-4275-fdb5-cb6e07dfb473"
      },
      "execution_count": null,
      "outputs": [
        {
          "output_type": "execute_result",
          "data": {
            "text/plain": [
              "array([[ -9, -26, -18, -49],\n",
              "       [-53, -46, -48,  66],\n",
              "       [-56, -37, -53, -58],\n",
              "       [  8,  50,  -4, -20]])"
            ]
          },
          "metadata": {},
          "execution_count": 5
        }
      ]
    },
    {
      "cell_type": "code",
      "source": [
        "L = R@J\n",
        "L"
      ],
      "metadata": {
        "colab": {
          "base_uri": "https://localhost:8080/"
        },
        "id": "qFJeJ5AZrwQ4",
        "outputId": "43b9ab03-d404-4505-b252-bbf7c766f7ef"
      },
      "execution_count": null,
      "outputs": [
        {
          "output_type": "execute_result",
          "data": {
            "text/plain": [
              "array([[-107,  108,   16,  114],\n",
              "       [ -18,  -14,  -42,   85],\n",
              "       [  13,   -5,    8,   14],\n",
              "       [  25,   26,   36,  -15]])"
            ]
          },
          "metadata": {},
          "execution_count": 6
        }
      ]
    },
    {
      "cell_type": "code",
      "source": [
        "np.array_equal(U,L)"
      ],
      "metadata": {
        "colab": {
          "base_uri": "https://localhost:8080/"
        },
        "id": "MCiyUDJFry__",
        "outputId": "8a787940-24b6-429f-8ab4-b1c5c0e2829b"
      },
      "execution_count": null,
      "outputs": [
        {
          "output_type": "execute_result",
          "data": {
            "text/plain": [
              "False"
            ]
          },
          "metadata": {},
          "execution_count": 7
        }
      ]
    },
    {
      "cell_type": "markdown",
      "source": [
        "$A\\cdot (B\\cdot C) = (A\\cdot B) \\cdot C$"
      ],
      "metadata": {
        "id": "wmzdSY8Yq6PE"
      }
    },
    {
      "cell_type": "code",
      "source": [
        "I = J @ (R @ G)\n",
        "I"
      ],
      "metadata": {
        "colab": {
          "base_uri": "https://localhost:8080/"
        },
        "id": "pHyjD5kOr1Lg",
        "outputId": "736ea2f2-b8ea-4314-e23d-cf6645b373be"
      },
      "execution_count": null,
      "outputs": [
        {
          "output_type": "execute_result",
          "data": {
            "text/plain": [
              "array([[ 320,   -6,  -13, -413],\n",
              "       [ 869,   -4,  271, -222],\n",
              "       [ 702,   42,  -34, -843],\n",
              "       [-450,  186, -310,   90]])"
            ]
          },
          "metadata": {},
          "execution_count": 8
        }
      ]
    },
    {
      "cell_type": "code",
      "source": [
        "E = (J @ R) @ G\n",
        "E"
      ],
      "metadata": {
        "colab": {
          "base_uri": "https://localhost:8080/"
        },
        "id": "cRtq-XAUr3Pi",
        "outputId": "20805e66-da85-4cc9-e456-f4a2e974ac69"
      },
      "execution_count": null,
      "outputs": [
        {
          "output_type": "execute_result",
          "data": {
            "text/plain": [
              "array([[ 320,   -6,  -13, -413],\n",
              "       [ 869,   -4,  271, -222],\n",
              "       [ 702,   42,  -34, -843],\n",
              "       [-450,  186, -310,   90]])"
            ]
          },
          "metadata": {},
          "execution_count": 9
        }
      ]
    },
    {
      "cell_type": "code",
      "source": [
        "np.array_equal(I,E)"
      ],
      "metadata": {
        "colab": {
          "base_uri": "https://localhost:8080/"
        },
        "id": "aaOQquC-r5SR",
        "outputId": "b10de900-b484-441f-fb75-1eebd7ec7da0"
      },
      "execution_count": null,
      "outputs": [
        {
          "output_type": "execute_result",
          "data": {
            "text/plain": [
              "True"
            ]
          },
          "metadata": {},
          "execution_count": 10
        }
      ]
    },
    {
      "cell_type": "markdown",
      "source": [
        "$A\\cdot(B+C) = A\\cdot B + A\\cdot C$"
      ],
      "metadata": {
        "id": "SEJ1vfUMq9bs"
      }
    },
    {
      "cell_type": "code",
      "source": [
        "Y = J @ (R + G)\n",
        "Y"
      ],
      "metadata": {
        "colab": {
          "base_uri": "https://localhost:8080/"
        },
        "id": "MKHfhzFer9I5",
        "outputId": "6126b9c2-fae6-4712-d751-2562eaeb1751"
      },
      "execution_count": null,
      "outputs": [
        {
          "output_type": "execute_result",
          "data": {
            "text/plain": [
              "array([[ 47, -43,   5, -83],\n",
              "       [-78, -46, -51, 103],\n",
              "       [ 59, -14, -40, -60],\n",
              "       [ 25,  57,   6,   6]])"
            ]
          },
          "metadata": {},
          "execution_count": 11
        }
      ]
    },
    {
      "cell_type": "code",
      "source": [
        "V = J @ R + J @ G\n",
        "V"
      ],
      "metadata": {
        "colab": {
          "base_uri": "https://localhost:8080/"
        },
        "id": "xX6Q06Awr_G0",
        "outputId": "bee29d29-ba95-4ed5-9b97-37fe606fffd6"
      },
      "execution_count": null,
      "outputs": [
        {
          "output_type": "execute_result",
          "data": {
            "text/plain": [
              "array([[ 47, -43,   5, -83],\n",
              "       [-78, -46, -51, 103],\n",
              "       [ 59, -14, -40, -60],\n",
              "       [ 25,  57,   6,   6]])"
            ]
          },
          "metadata": {},
          "execution_count": 12
        }
      ]
    },
    {
      "cell_type": "code",
      "source": [
        "np.array_equal(Y,V)"
      ],
      "metadata": {
        "colab": {
          "base_uri": "https://localhost:8080/"
        },
        "id": "n6WbWOr7sBJp",
        "outputId": "bbf23b8e-7510-4d71-cb77-e1e08cc79b9f"
      },
      "execution_count": null,
      "outputs": [
        {
          "output_type": "execute_result",
          "data": {
            "text/plain": [
              "True"
            ]
          },
          "metadata": {},
          "execution_count": 13
        }
      ]
    },
    {
      "cell_type": "markdown",
      "source": [
        "$(B+C)\\cdot A = B\\cdot A + C\\cdot A$"
      ],
      "metadata": {
        "id": "Ggk9wwWOrApZ"
      }
    },
    {
      "cell_type": "code",
      "source": [
        "B = (R + G) @ J\n",
        "B"
      ],
      "metadata": {
        "colab": {
          "base_uri": "https://localhost:8080/"
        },
        "id": "OYrYDzScsD6G",
        "outputId": "28a2406b-6342-45ef-a051-1b772dfb52f0"
      },
      "execution_count": null,
      "outputs": [
        {
          "output_type": "execute_result",
          "data": {
            "text/plain": [
              "array([[-115,  127,   17,  165],\n",
              "       [ -48,   89,   -4,  145],\n",
              "       [ -34,   27,  -32,   87],\n",
              "       [  24,    8,   12,   25]])"
            ]
          },
          "metadata": {},
          "execution_count": 14
        }
      ]
    },
    {
      "cell_type": "code",
      "source": [
        "C = R @ J + G @ J\n",
        "C"
      ],
      "metadata": {
        "colab": {
          "base_uri": "https://localhost:8080/"
        },
        "id": "relFMilrsFxG",
        "outputId": "a6f8ed70-1fb3-4f9e-db8e-eb3bd0f2f52f"
      },
      "execution_count": null,
      "outputs": [
        {
          "output_type": "execute_result",
          "data": {
            "text/plain": [
              "array([[-115,  127,   17,  165],\n",
              "       [ -48,   89,   -4,  145],\n",
              "       [ -34,   27,  -32,   87],\n",
              "       [  24,    8,   12,   25]])"
            ]
          },
          "metadata": {},
          "execution_count": 15
        }
      ]
    },
    {
      "cell_type": "code",
      "source": [
        "np.array_equal(B,C)"
      ],
      "metadata": {
        "colab": {
          "base_uri": "https://localhost:8080/"
        },
        "id": "SwyBEFH-sIZO",
        "outputId": "b4921975-7108-4f3d-f822-1e86eea1f27a"
      },
      "execution_count": null,
      "outputs": [
        {
          "output_type": "execute_result",
          "data": {
            "text/plain": [
              "True"
            ]
          },
          "metadata": {},
          "execution_count": 16
        }
      ]
    },
    {
      "cell_type": "markdown",
      "source": [
        "$A\\cdot I = A$\n"
      ],
      "metadata": {
        "id": "qnygkqSerES3"
      }
    },
    {
      "cell_type": "code",
      "source": [
        "S = np.eye(4)\n",
        "S"
      ],
      "metadata": {
        "colab": {
          "base_uri": "https://localhost:8080/"
        },
        "id": "F9hJQLkbsK4y",
        "outputId": "8c8c2b63-d4dc-4fb8-e737-e8d2f4eef4fa"
      },
      "execution_count": null,
      "outputs": [
        {
          "output_type": "execute_result",
          "data": {
            "text/plain": [
              "array([[1., 0., 0., 0.],\n",
              "       [0., 1., 0., 0.],\n",
              "       [0., 0., 1., 0.],\n",
              "       [0., 0., 0., 1.]])"
            ]
          },
          "metadata": {},
          "execution_count": 17
        }
      ]
    },
    {
      "cell_type": "code",
      "source": [
        "W = J @ S\n",
        "W"
      ],
      "metadata": {
        "colab": {
          "base_uri": "https://localhost:8080/"
        },
        "id": "TK0A4vZBsMSW",
        "outputId": "4db14d47-aaa3-4ed3-fb0e-39a3ee4927ec"
      },
      "execution_count": null,
      "outputs": [
        {
          "output_type": "execute_result",
          "data": {
            "text/plain": [
              "array([[ 2., -7.,  0., -5.],\n",
              "       [ 9., -1.,  3., -4.],\n",
              "       [ 6., -8., -7.,  0.],\n",
              "       [-3.,  1., -2.,  9.]])"
            ]
          },
          "metadata": {},
          "execution_count": 18
        }
      ]
    },
    {
      "cell_type": "code",
      "source": [
        "np.array_equal(W,J)"
      ],
      "metadata": {
        "colab": {
          "base_uri": "https://localhost:8080/"
        },
        "id": "GrqA1abKsO0Q",
        "outputId": "26d7ac2e-d44c-4bef-bc22-24fc7832d210"
      },
      "execution_count": null,
      "outputs": [
        {
          "output_type": "execute_result",
          "data": {
            "text/plain": [
              "True"
            ]
          },
          "metadata": {},
          "execution_count": 19
        }
      ]
    },
    {
      "cell_type": "markdown",
      "source": [
        "$A\\cdot \\emptyset = \\emptyset$"
      ],
      "metadata": {
        "id": "f0-cHLlkrG7Q"
      }
    },
    {
      "cell_type": "code",
      "source": [
        "Q = np.zeros(J.shape)\n",
        "Q"
      ],
      "metadata": {
        "colab": {
          "base_uri": "https://localhost:8080/"
        },
        "id": "-_IFOvpMsQsr",
        "outputId": "3eff989e-8d86-4cf3-dd68-c628bd8a81da"
      },
      "execution_count": null,
      "outputs": [
        {
          "output_type": "execute_result",
          "data": {
            "text/plain": [
              "array([[0., 0., 0., 0.],\n",
              "       [0., 0., 0., 0.],\n",
              "       [0., 0., 0., 0.],\n",
              "       [0., 0., 0., 0.]])"
            ]
          },
          "metadata": {},
          "execution_count": 20
        }
      ]
    },
    {
      "cell_type": "code",
      "source": [
        "N = R @ Q\n",
        "N"
      ],
      "metadata": {
        "colab": {
          "base_uri": "https://localhost:8080/"
        },
        "id": "h9YHgEhCsSQf",
        "outputId": "0b6e5567-e070-4034-fdea-f6eb868ae9a4"
      },
      "execution_count": null,
      "outputs": [
        {
          "output_type": "execute_result",
          "data": {
            "text/plain": [
              "array([[0., 0., 0., 0.],\n",
              "       [0., 0., 0., 0.],\n",
              "       [0., 0., 0., 0.],\n",
              "       [0., 0., 0., 0.]])"
            ]
          },
          "metadata": {},
          "execution_count": 21
        }
      ]
    },
    {
      "cell_type": "code",
      "source": [
        "np.array_equal(N,Q)"
      ],
      "metadata": {
        "colab": {
          "base_uri": "https://localhost:8080/"
        },
        "id": "uALsTHZWsUBM",
        "outputId": "059b7226-c4c3-4c8c-981b-76128d5b99aa"
      },
      "execution_count": null,
      "outputs": [
        {
          "output_type": "execute_result",
          "data": {
            "text/plain": [
              "True"
            ]
          },
          "metadata": {},
          "execution_count": 22
        }
      ]
    },
    {
      "cell_type": "markdown",
      "source": [
        "## Conclusion\n",
        "Through the help of NumPy library, we were able to put into an example the given properties of dot product in matrix algebra. In this activity, it can be realized that the order of matrices as they are being multiplied can result to different products since it does not hold commutative property of multiplication. Moreover, just like how we multiply numbers to 1, multiplying matrix to 1 will also return the matrix itself only. In addition, when we multiply a matrix to zero, it will just result to zero matrix also. In the distributive property, it must be noted to still follow the order of the matrices even if we distribute the other matrix so that it will not change the product. Overall, we have appreciated more the special properties of dot product in matrices from planning its flowchart down to implementation of the plan since we can see the logic behind these properties. Nevertheless, it is best understood when you can see the results, which is the reason why we printed each matrix we made for each property aside from printing whether the property is true or not. "
      ],
      "metadata": {
        "id": "9Edd83W4qhwU"
      }
    }
  ]
}